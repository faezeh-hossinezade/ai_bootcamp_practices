{
  "cells": [
    {
      "cell_type": "markdown",
      "metadata": {
        "id": "5RKGClSKZcAO"
      },
      "source": [
        "<h1 align=center style=\"line-height:200%;font-family:vazir;color:#0099cc\">\n",
        "<font face=\"vazir\" color=\"#0099cc\">\n",
        "هایپرپارامترها\n",
        "</font>\n",
        "</h1>\n",
        "\n",
        "<p dir=rtl style=\"direction: rtl;text-align: justify;line-height:200%;font-family:vazir;font-size:medium\">\n",
        "<font face=\"vazir\" size=3>\n",
        "هدف از این تمرین،‌ آشنایی عمیق‌تر با هایپرپارامترهای مختلف یک شبکه‌ی عصبی و تاثیر آن‌ها در عملکرد شبکه است. برای این کار به حل یک مسئله‌ی دسته‌بندی چندکلاسه تصویر خواهیم پرداخت، البته بدون استفاده از لایه‌های کانولوشنی، و سعی خواهیم کرد با تنظیم بهتر هایپرپارامترها به مدلی با عملکرد بهتر دست یابیم.\n",
        "</font>\n",
        "</p>"
      ]
    },
    {
      "cell_type": "markdown",
      "metadata": {
        "id": "M-xjBpHzZcAX"
      },
      "source": [
        "\n",
        "<p dir=rtl style=\"direction: rtl;text-align: justify;line-height:200%;font-family:vazir;font-size:medium\">\n",
        "<font face=\"vazir\" size=3>\n",
        "<span style=\"color:red\"><b>توجه:</b></span>\n",
        "با این‌که داده‌های این مسئله از جنس تصویر است اما به دلیل ساده بودن آن نیازی به استفاده از لایه‌های کانولوشنی نخواهیم داشت و در این تمرین باید از لایه‌های کاملاْ متصل (Fully Connected) استفاده کنید.\n",
        "<br>\n",
        "<span style=\"color:orange\"><b>نکته:</b></span>\n",
        "پیشنهاد می‌شود به دلیل احتمال طولانی‌شدن فرآیند آموزش مدل در سیستم شخصی شما، این نت‌بوک را روی گوگل کولب اجرا کنید.\n",
        "</font>\n",
        "</p>\n"
      ]
    },
    {
      "cell_type": "code",
      "execution_count": null,
      "metadata": {
        "id": "ivP-DJe-ZcAZ"
      },
      "outputs": [],
      "source": [
        "from scipy import io\n",
        "import numpy as np\n",
        "import pandas as pd\n",
        "import matplotlib.pyplot as plt\n",
        "from keras.models import Sequential\n",
        "from keras.layers import Dense, Activation, Dropout\n",
        "from keras.optimizers import SGD, Adam, RMSprop\n",
        "from keras.utils import to_categorical\n",
        "from keras.callbacks import EarlyStopping\n",
        "from sklearn.metrics import confusion_matrix, classification_report, accuracy_score, f1_score, precision_score, recall_score"
      ]
    },
    {
      "cell_type": "markdown",
      "metadata": {
        "id": "AOSA8ub-ZcAd"
      },
      "source": [
        "<h2 align=right style=\"line-height:200%;font-family:vazir;color:#0099cc\">\n",
        "<font face=\"vazir\" color=\"#0099cc\">\n",
        "‌خواندن داده\n",
        "</font>\n",
        "</h2>\n",
        "\n",
        "<p dir=rtl style=\"direction: rtl;text-align: justify;line-height:200%;font-family:vazir;font-size:medium\">\n",
        "<font face=\"vazir\" size=3>\n",
        "مجموعه‌داده‌ی این مسئله «هدی» نام دارد که برگرفته از <a href=\"https://www.sciencedirect.com/science/article/abs/pii/S0167865507000037\">این پژوهش</a> است و شامل تصویر ارقام دست‌نویس فارسی‌ست. هر تصویر با یک برچسب از ۰ تا ۹ مشخص شده است. این مجموعه‌داده را می‌توانید از فایل <code>hoda.mat</code> بخوانید. نیاز است ۴۰۰۰۰ تصویر نخست را به‌عنوان مجموعه‌ی آموزشی، ۱۰۰۰۰ تصویر بعد را به‌عنوان مجموعه‌ی اعتبارسنجی و ۱۰۰۰۰ تصویر آخر را به‌عنوان مجموعه‌ی آزمون در نظر بگیرید.\n",
        "<br>\n",
        "<span style=\"color:green\"><b>راهنمایی ۱:</b></span>\n",
        "برای خوانش این فایل می‌توانید از تابع <code>io.loadmat</code> از کتابخانه‌ی <code>scipy</code> استفاده کنید.\n",
        "<br>\n",
        "<span style=\"color:green\"><b>راهنمایی ۲:</b></span>\n",
        "نمونه‌ها در آرایه‌ای با نام <code>Data</code> و برچسب‌ها در آرایه‌ای با نام <code>labels</code> قرار گرفته‌اند.\n",
        "برای دسترسی راحت‌تر به نمونه‌های مجموعه‌داده و جداسازی آن تابع <code>np.squeeze</code> به کمک شما می‌آید.\n",
        "<br>\n",
        "<span style=\"color:green\"><b>راهنمایی ۳:</b></span>\n",
        "اگر نت‌بوک را روی گوگل کولب اجرا می‌کنید برای دریافت آسان فایل مجموعه‌داده می‌توانید از کد زیر بهره ببرید تا فایل مربوطه به‌صورت مستقیم از گوگل درایو دانلود شود.\n",
        "<center>\n",
        "<code>!gdown 1LJcwIeUsswfpAnlPtYiFkGpIhQdeFHwq</code>\n",
        "</center>\n",
        "\n",
        "</font>\n",
        "</p>"
      ]
    },
    {
      "cell_type": "code",
      "source": [
        "from google.colab import drive\n",
        "drive.mount('/content/drive')"
      ],
      "metadata": {
        "colab": {
          "base_uri": "https://localhost:8080/"
        },
        "id": "0RG0b6d2bK31",
        "outputId": "c2f10952-0630-41d8-a6ae-1342d06d4a03"
      },
      "execution_count": null,
      "outputs": [
        {
          "output_type": "stream",
          "name": "stdout",
          "text": [
            "Mounted at /content/drive\n"
          ]
        }
      ]
    },
    {
      "cell_type": "code",
      "source": [
        "import scipy.io\n",
        "\n",
        "mat_file = '/content/drive/MyDrive/ai-delta/3_hyperparameters.zip (Unzipped Files)/hoda.mat'\n",
        "data = scipy.io.loadmat(mat_file)\n",
        "print(data)"
      ],
      "metadata": {
        "colab": {
          "base_uri": "https://localhost:8080/"
        },
        "collapsed": true,
        "id": "2RRKyonNbGtk",
        "outputId": "b54656b6-0d4d-4e6e-f1f6-b0b5fcf6c723"
      },
      "execution_count": null,
      "outputs": [
        {
          "output_type": "stream",
          "name": "stdout",
          "text": [
            "{'__header__': b'MATLAB 5.0 MAT-file, Platform: PCWIN64, Created on: Thu Jun 30 20:26:30 2011', '__version__': '1.0', '__globals__': [], 'Data': array([[array([[  0,   0,   0,   0, 255, 255,   0,   0,   0,   0,   0,   0,   0,\n",
            "                  0,   0,   0,   0,   0,   0,   0],\n",
            "               [  0,   0,   0, 255, 255, 255, 255,   0,   0,   0,   0,   0,   0,\n",
            "                  0,   0,   0,   0,   0,   0,   0],\n",
            "               [  0,   0, 255, 255, 255, 255, 255,   0,   0,   0,   0,   0,   0,\n",
            "                  0,   0,   0,   0, 255, 255,   0],\n",
            "               [  0, 255, 255, 255, 255, 255,   0,   0,   0,   0,   0,   0,   0,\n",
            "                  0,   0,   0, 255, 255, 255, 255],\n",
            "               [  0, 255, 255, 255, 255,   0,   0,   0,   0,   0,   0,   0,   0,\n",
            "                  0,   0, 255, 255, 255, 255,   0],\n",
            "               [  0, 255, 255, 255,   0,   0,   0,   0,   0,   0,   0,   0,   0,\n",
            "                  0, 255, 255, 255, 255, 255,   0],\n",
            "               [255, 255, 255, 255,   0,   0,   0,   0,   0,   0,   0,   0,   0,\n",
            "                255, 255, 255, 255, 255,   0,   0],\n",
            "               [255, 255, 255,   0,   0,   0,   0,   0,   0,   0,   0,   0, 255,\n",
            "                255, 255, 255, 255,   0,   0,   0],\n",
            "               [255, 255, 255,   0,   0,   0,   0,   0,   0,   0, 255, 255, 255,\n",
            "                255, 255, 255, 255,   0,   0,   0],\n",
            "               [255, 255, 255,   0,   0,   0,   0,   0,   0, 255, 255, 255, 255,\n",
            "                255, 255, 255,   0,   0,   0,   0],\n",
            "               [255, 255, 255, 255, 255, 255, 255, 255, 255, 255, 255, 255, 255,\n",
            "                255, 255,   0,   0,   0,   0,   0],\n",
            "               [255, 255, 255, 255, 255, 255, 255, 255, 255, 255, 255, 255, 255,\n",
            "                255,   0,   0,   0,   0,   0,   0],\n",
            "               [  0, 255, 255, 255, 255, 255, 255, 255, 255, 255, 255, 255, 255,\n",
            "                  0,   0,   0,   0,   0,   0,   0],\n",
            "               [  0,   0,   0,   0, 255, 255, 255, 255, 255, 255, 255, 255, 255,\n",
            "                  0,   0,   0,   0,   0,   0,   0],\n",
            "               [  0,   0,   0,   0,   0,   0,   0, 255, 255, 255, 255, 255,   0,\n",
            "                  0,   0,   0,   0,   0,   0,   0],\n",
            "               [  0,   0,   0,   0,   0,   0,   0, 255, 255, 255, 255,   0,   0,\n",
            "                  0,   0,   0,   0,   0,   0,   0],\n",
            "               [  0,   0,   0,   0,   0,   0, 255, 255, 255, 255, 255,   0,   0,\n",
            "                  0,   0,   0,   0,   0,   0,   0],\n",
            "               [  0,   0,   0,   0,   0,   0, 255, 255, 255, 255,   0,   0,   0,\n",
            "                  0,   0,   0,   0,   0,   0,   0],\n",
            "               [  0,   0,   0,   0,   0, 255, 255, 255, 255, 255,   0,   0,   0,\n",
            "                  0,   0,   0,   0,   0,   0,   0],\n",
            "               [  0,   0,   0,   0,   0, 255, 255, 255, 255,   0,   0,   0,   0,\n",
            "                  0,   0,   0,   0,   0,   0,   0],\n",
            "               [  0,   0,   0,   0,   0, 255, 255, 255, 255,   0,   0,   0,   0,\n",
            "                  0,   0,   0,   0,   0,   0,   0],\n",
            "               [  0,   0,   0,   0,   0, 255, 255, 255, 255,   0,   0,   0,   0,\n",
            "                  0,   0,   0,   0,   0,   0,   0],\n",
            "               [  0,   0,   0,   0,   0, 255, 255, 255,   0,   0,   0,   0,   0,\n",
            "                  0,   0,   0,   0,   0,   0,   0],\n",
            "               [  0,   0,   0,   0, 255, 255, 255, 255,   0,   0,   0,   0,   0,\n",
            "                  0,   0,   0,   0,   0,   0,   0],\n",
            "               [  0,   0,   0,   0, 255, 255, 255, 255,   0,   0,   0,   0,   0,\n",
            "                  0,   0,   0,   0,   0,   0,   0],\n",
            "               [  0,   0,   0,   0, 255, 255, 255,   0,   0,   0,   0,   0,   0,\n",
            "                  0,   0,   0,   0,   0,   0,   0],\n",
            "               [  0,   0,   0,   0,   0, 255, 255,   0,   0,   0,   0,   0,   0,\n",
            "                  0,   0,   0,   0,   0,   0,   0]], dtype=uint8)               ],\n",
            "       [array([[  0,   0,   0,   0,   0,   0,   0,   0,   0,   0, 255, 255,   0,\n",
            "                  0,   0,   0,   0,   0,   0,   0,   0],\n",
            "               [  0,   0,   0,   0,   0,   0,   0,   0,   0, 255, 255, 255, 255,\n",
            "                  0,   0,   0,   0,   0,   0,   0,   0],\n",
            "               [  0,   0,   0,   0,   0,   0,   0,   0, 255, 255, 255, 255, 255,\n",
            "                255,   0,   0,   0,   0,   0,   0,   0],\n",
            "               [  0,   0,   0,   0,   0,   0,   0,   0, 255, 255, 255, 255, 255,\n",
            "                255, 255,   0,   0,   0,   0,   0,   0],\n",
            "               [  0,   0,   0,   0,   0,   0, 255, 255, 255, 255, 255, 255, 255,\n",
            "                255, 255,   0,   0,   0,   0,   0,   0],\n",
            "               [  0,   0,   0,   0,   0, 255, 255, 255, 255, 255, 255, 255, 255,\n",
            "                255, 255, 255,   0,   0,   0,   0,   0],\n",
            "               [  0,   0,   0,   0, 255, 255, 255, 255, 255,   0,   0,   0,   0,\n",
            "                255, 255, 255, 255,   0,   0,   0,   0],\n",
            "               [  0,   0,   0,   0, 255, 255, 255, 255,   0,   0,   0,   0,   0,\n",
            "                  0, 255, 255, 255,   0,   0,   0,   0],\n",
            "               [  0,   0,   0, 255, 255, 255, 255,   0,   0,   0,   0,   0,   0,\n",
            "                  0,   0, 255, 255, 255,   0,   0,   0],\n",
            "               [  0,   0, 255, 255, 255, 255,   0,   0,   0,   0,   0,   0,   0,\n",
            "                  0,   0, 255, 255, 255, 255,   0,   0],\n",
            "               [  0, 255, 255, 255, 255, 255,   0,   0,   0,   0,   0,   0,   0,\n",
            "                  0,   0, 255, 255, 255, 255, 255,   0],\n",
            "               [  0, 255, 255, 255, 255,   0,   0,   0,   0,   0,   0,   0,   0,\n",
            "                  0,   0,   0, 255, 255, 255, 255,   0],\n",
            "               [255, 255, 255, 255,   0,   0,   0,   0,   0,   0,   0, 255, 255,\n",
            "                  0,   0,   0,   0, 255, 255, 255, 255],\n",
            "               [255, 255, 255, 255,   0,   0,   0,   0,   0,   0, 255, 255, 255,\n",
            "                255,   0,   0,   0, 255, 255, 255, 255],\n",
            "               [255, 255, 255,   0,   0,   0,   0,   0,   0, 255, 255, 255, 255,\n",
            "                255,   0,   0,   0, 255, 255, 255, 255],\n",
            "               [255, 255, 255,   0,   0,   0,   0,   0,   0, 255, 255, 255, 255,\n",
            "                255,   0,   0,   0, 255, 255, 255, 255],\n",
            "               [255, 255, 255,   0,   0,   0,   0,   0, 255, 255, 255, 255, 255,\n",
            "                255, 255,   0, 255, 255, 255, 255,   0],\n",
            "               [  0, 255,   0,   0,   0,   0, 255, 255, 255, 255, 255, 255, 255,\n",
            "                255, 255, 255, 255, 255, 255, 255,   0],\n",
            "               [  0,   0,   0,   0,   0, 255, 255, 255, 255, 255, 255, 255, 255,\n",
            "                255,   0, 255, 255, 255, 255,   0,   0],\n",
            "               [  0,   0,   0,   0, 255, 255, 255, 255, 255,   0,   0,   0,   0,\n",
            "                  0,   0,   0,   0,   0,   0,   0,   0]], dtype=uint8)          ],\n",
            "       [array([[  0, 255, 255, 255, 255, 255, 255, 255, 255,   0,   0,   0, 255,\n",
            "                255,   0],\n",
            "               [  0, 255, 255, 255, 255, 255, 255, 255, 255, 255, 255, 255, 255,\n",
            "                255,   0],\n",
            "               [255, 255, 255, 255, 255, 255, 255, 255, 255, 255, 255, 255, 255,\n",
            "                255, 255],\n",
            "               [255, 255, 255, 255, 255,   0, 255, 255, 255,   0, 255, 255, 255,\n",
            "                255, 255],\n",
            "               [255, 255, 255, 255,   0,   0,   0,   0,   0,   0, 255, 255, 255,\n",
            "                255, 255],\n",
            "               [255, 255, 255, 255, 255, 255, 255, 255, 255, 255, 255, 255, 255,\n",
            "                255, 255],\n",
            "               [255, 255, 255, 255, 255, 255, 255, 255, 255, 255, 255, 255, 255,\n",
            "                255,   0],\n",
            "               [  0, 255, 255, 255, 255, 255, 255, 255, 255, 255, 255, 255, 255,\n",
            "                255,   0],\n",
            "               [  0,   0, 255, 255, 255, 255, 255, 255, 255, 255, 255, 255, 255,\n",
            "                  0,   0],\n",
            "               [  0,   0,   0,   0, 255,   0, 255, 255, 255,   0,   0,   0,   0,\n",
            "                  0,   0]], dtype=uint8)                                        ],\n",
            "       ...,\n",
            "       [array([[  0, 255, 255, 255,   0,   0,   0,   0,   0,   0,   0,   0, 255,\n",
            "                255,   0],\n",
            "               [255, 255, 255, 255,   0,   0,   0,   0,   0,   0,   0,   0, 255,\n",
            "                255, 255],\n",
            "               [  0, 255, 255, 255, 255,   0,   0,   0,   0,   0,   0,   0, 255,\n",
            "                255, 255],\n",
            "               [  0, 255, 255, 255, 255,   0,   0,   0,   0,   0,   0, 255, 255,\n",
            "                255, 255],\n",
            "               [  0, 255, 255, 255, 255, 255,   0,   0,   0,   0,   0, 255, 255,\n",
            "                255, 255],\n",
            "               [  0, 255, 255, 255, 255, 255,   0,   0, 255, 255, 255, 255, 255,\n",
            "                255,   0],\n",
            "               [  0,   0, 255, 255, 255, 255, 255, 255, 255, 255, 255, 255, 255,\n",
            "                  0,   0],\n",
            "               [  0,   0, 255, 255, 255, 255, 255, 255, 255, 255, 255,   0,   0,\n",
            "                  0,   0],\n",
            "               [  0,   0, 255, 255, 255, 255,   0,   0,   0,   0,   0,   0,   0,\n",
            "                  0,   0],\n",
            "               [  0,   0, 255, 255, 255, 255,   0,   0,   0,   0,   0,   0,   0,\n",
            "                  0,   0],\n",
            "               [  0,   0, 255, 255, 255, 255,   0,   0,   0,   0,   0,   0,   0,\n",
            "                  0,   0],\n",
            "               [  0,   0, 255, 255, 255, 255,   0,   0,   0,   0,   0,   0,   0,\n",
            "                  0,   0],\n",
            "               [  0,   0, 255, 255, 255, 255,   0,   0,   0,   0,   0,   0,   0,\n",
            "                  0,   0],\n",
            "               [  0,   0, 255, 255, 255, 255,   0,   0,   0,   0,   0,   0,   0,\n",
            "                  0,   0],\n",
            "               [  0,   0, 255, 255, 255, 255,   0,   0,   0,   0,   0,   0,   0,\n",
            "                  0,   0],\n",
            "               [  0,   0, 255, 255, 255, 255,   0,   0,   0,   0,   0,   0,   0,\n",
            "                  0,   0],\n",
            "               [  0,   0,   0, 255, 255, 255,   0,   0,   0,   0,   0,   0,   0,\n",
            "                  0,   0],\n",
            "               [  0,   0,   0, 255, 255, 255,   0,   0,   0,   0,   0,   0,   0,\n",
            "                  0,   0],\n",
            "               [  0,   0,   0, 255, 255, 255,   0,   0,   0,   0,   0,   0,   0,\n",
            "                  0,   0],\n",
            "               [  0,   0,   0,   0, 255, 255, 255,   0,   0,   0,   0,   0,   0,\n",
            "                  0,   0],\n",
            "               [  0,   0,   0,   0, 255, 255, 255,   0,   0,   0,   0,   0,   0,\n",
            "                  0,   0],\n",
            "               [  0,   0,   0, 255, 255, 255, 255,   0,   0,   0,   0,   0,   0,\n",
            "                  0,   0],\n",
            "               [  0,   0,   0,   0, 255, 255, 255, 255,   0,   0,   0,   0,   0,\n",
            "                  0,   0],\n",
            "               [  0,   0,   0,   0,   0, 255, 255, 255,   0,   0,   0,   0,   0,\n",
            "                  0,   0],\n",
            "               [  0,   0,   0,   0,   0,   0,   0, 255,   0,   0,   0,   0,   0,\n",
            "                  0,   0]], dtype=uint8)                                        ],\n",
            "       [array([[  0,   0,   0,   0,   0,   0, 255, 255, 255,   0,   0,   0,   0,\n",
            "                  0,   0,   0,   0,   0],\n",
            "               [  0,   0,   0,   0,   0,   0, 255, 255, 255, 255,   0,   0,   0,\n",
            "                  0,   0,   0,   0,   0],\n",
            "               [  0,   0,   0,   0,   0, 255, 255, 255, 255, 255,   0,   0,   0,\n",
            "                  0,   0,   0,   0,   0],\n",
            "               [  0,   0,   0,   0,   0, 255, 255, 255, 255,   0,   0,   0,   0,\n",
            "                  0,   0,   0,   0,   0],\n",
            "               [  0,   0,   0,   0,   0, 255, 255,   0,   0,   0,   0,   0,   0,\n",
            "                  0,   0,   0,   0,   0],\n",
            "               [  0,   0,   0,   0,   0, 255, 255,   0,   0,   0,   0,   0,   0,\n",
            "                  0,   0,   0, 255, 255],\n",
            "               [  0,   0,   0,   0, 255, 255, 255,   0,   0,   0,   0,   0,   0,\n",
            "                  0,   0,   0, 255, 255],\n",
            "               [  0,   0,   0,   0, 255, 255, 255,   0,   0,   0,   0,   0,   0,\n",
            "                  0,   0, 255, 255, 255],\n",
            "               [  0,   0,   0, 255, 255, 255, 255,   0,   0,   0,   0,   0,   0,\n",
            "                  0,   0, 255, 255, 255],\n",
            "               [  0,   0,   0, 255, 255, 255, 255,   0,   0,   0,   0,   0,   0,\n",
            "                  0, 255, 255, 255,   0],\n",
            "               [  0,   0,   0, 255, 255, 255,   0,   0,   0,   0,   0,   0,   0,\n",
            "                255, 255, 255, 255,   0],\n",
            "               [  0,   0,   0, 255, 255, 255,   0,   0,   0,   0,   0, 255, 255,\n",
            "                255, 255, 255,   0,   0],\n",
            "               [  0,   0,   0, 255, 255, 255,   0,   0,   0,   0,   0, 255, 255,\n",
            "                255, 255,   0,   0,   0],\n",
            "               [  0,   0,   0,   0, 255, 255, 255,   0,   0,   0, 255, 255, 255,\n",
            "                255,   0,   0,   0,   0],\n",
            "               [  0,   0,   0,   0, 255, 255, 255, 255, 255, 255, 255, 255, 255,\n",
            "                255,   0,   0,   0,   0],\n",
            "               [  0,   0,   0,   0, 255, 255, 255, 255, 255, 255, 255, 255, 255,\n",
            "                  0,   0,   0,   0,   0],\n",
            "               [  0,   0,   0,   0,   0, 255, 255, 255, 255, 255, 255, 255,   0,\n",
            "                  0,   0,   0,   0,   0],\n",
            "               [  0,   0,   0,   0,   0,   0, 255, 255, 255, 255, 255,   0,   0,\n",
            "                  0,   0,   0,   0,   0],\n",
            "               [  0,   0,   0,   0,   0,   0,   0, 255, 255, 255,   0,   0,   0,\n",
            "                  0,   0,   0,   0,   0],\n",
            "               [  0,   0,   0,   0,   0,   0, 255, 255, 255,   0,   0,   0,   0,\n",
            "                  0,   0,   0,   0,   0],\n",
            "               [  0,   0,   0,   0,   0, 255, 255, 255, 255,   0,   0,   0,   0,\n",
            "                  0,   0,   0,   0,   0],\n",
            "               [  0,   0,   0,   0,   0, 255, 255, 255, 255,   0,   0,   0,   0,\n",
            "                  0,   0,   0,   0,   0],\n",
            "               [  0,   0,   0,   0, 255, 255, 255, 255,   0,   0,   0,   0,   0,\n",
            "                  0,   0,   0,   0,   0],\n",
            "               [  0,   0,   0, 255, 255, 255, 255,   0,   0,   0,   0,   0,   0,\n",
            "                  0,   0,   0,   0,   0],\n",
            "               [  0,   0,   0, 255, 255, 255, 255,   0,   0,   0,   0,   0,   0,\n",
            "                  0,   0,   0,   0,   0],\n",
            "               [  0,   0,   0, 255, 255, 255,   0,   0,   0,   0,   0,   0,   0,\n",
            "                  0,   0,   0,   0,   0],\n",
            "               [  0,   0, 255, 255, 255, 255,   0,   0,   0,   0,   0,   0,   0,\n",
            "                  0,   0,   0,   0,   0],\n",
            "               [  0,   0, 255, 255, 255,   0,   0,   0,   0,   0,   0,   0,   0,\n",
            "                  0,   0,   0,   0,   0],\n",
            "               [  0,   0, 255, 255, 255,   0,   0,   0,   0,   0,   0,   0,   0,\n",
            "                  0,   0,   0,   0,   0],\n",
            "               [  0, 255, 255, 255,   0,   0,   0,   0,   0,   0,   0,   0,   0,\n",
            "                  0,   0,   0,   0,   0],\n",
            "               [255, 255, 255,   0,   0,   0,   0,   0,   0,   0,   0,   0,   0,\n",
            "                  0,   0,   0,   0,   0],\n",
            "               [255, 255, 255,   0,   0,   0,   0,   0,   0,   0,   0,   0,   0,\n",
            "                  0,   0,   0,   0,   0],\n",
            "               [255, 255, 255,   0,   0,   0,   0,   0,   0,   0,   0,   0,   0,\n",
            "                  0,   0,   0,   0,   0],\n",
            "               [255, 255, 255,   0,   0,   0,   0,   0,   0,   0,   0,   0,   0,\n",
            "                  0,   0,   0,   0,   0],\n",
            "               [255, 255, 255, 255,   0,   0,   0,   0,   0,   0,   0,   0,   0,\n",
            "                  0,   0,   0,   0,   0]], dtype=uint8)                         ],\n",
            "       [array([[  0,   0,   0,   0, 255, 255, 255, 255, 255, 255, 255, 255,   0,\n",
            "                  0,   0,   0,   0,   0,   0,   0, 255, 255, 255, 255, 255],\n",
            "               [  0,   0, 255, 255, 255, 255, 255, 255, 255, 255, 255, 255,   0,\n",
            "                  0,   0,   0,   0,   0,   0, 255, 255, 255, 255, 255, 255],\n",
            "               [  0,   0, 255, 255, 255, 255, 255,   0, 255, 255, 255,   0,   0,\n",
            "                  0,   0,   0,   0,   0,   0, 255, 255, 255, 255, 255, 255],\n",
            "               [  0, 255, 255, 255, 255, 255,   0,   0, 255, 255, 255,   0,   0,\n",
            "                  0,   0,   0,   0,   0, 255, 255, 255, 255, 255, 255, 255],\n",
            "               [  0, 255, 255, 255, 255,   0,   0,   0,   0,   0,   0,   0,   0,\n",
            "                  0,   0,   0,   0,   0, 255, 255, 255, 255, 255, 255,   0],\n",
            "               [255, 255, 255, 255,   0,   0,   0,   0,   0,   0,   0,   0,   0,\n",
            "                  0,   0,   0,   0,   0, 255, 255, 255, 255, 255,   0,   0],\n",
            "               [255, 255, 255, 255, 255,   0,   0,   0,   0,   0,   0,   0,   0,\n",
            "                  0,   0,   0,   0, 255, 255, 255, 255, 255, 255,   0,   0],\n",
            "               [255, 255, 255, 255, 255,   0,   0,   0,   0,   0,   0,   0,   0,\n",
            "                  0,   0,   0,   0, 255, 255, 255, 255, 255, 255,   0,   0],\n",
            "               [  0, 255, 255, 255,   0,   0,   0,   0,   0,   0,   0,   0,   0,\n",
            "                  0,   0,   0, 255, 255, 255, 255, 255, 255, 255,   0,   0],\n",
            "               [  0, 255, 255, 255, 255,   0,   0,   0,   0,   0,   0,   0,   0,\n",
            "                  0,   0, 255, 255, 255, 255, 255, 255, 255, 255,   0,   0],\n",
            "               [255, 255, 255, 255, 255,   0,   0,   0,   0,   0,   0,   0,   0,\n",
            "                  0, 255, 255, 255, 255, 255, 255, 255, 255, 255,   0,   0],\n",
            "               [255, 255, 255, 255, 255,   0,   0,   0,   0,   0,   0,   0,   0,\n",
            "                255, 255, 255, 255, 255, 255, 255, 255, 255,   0,   0,   0],\n",
            "               [  0, 255, 255, 255, 255, 255, 255, 255, 255,   0,   0, 255, 255,\n",
            "                255, 255, 255, 255, 255, 255, 255, 255, 255,   0,   0,   0],\n",
            "               [  0, 255, 255, 255, 255, 255, 255, 255, 255, 255, 255, 255, 255,\n",
            "                255, 255, 255, 255, 255, 255, 255, 255, 255,   0,   0,   0],\n",
            "               [  0,   0, 255, 255, 255, 255, 255, 255, 255, 255, 255, 255, 255,\n",
            "                255, 255,   0,   0, 255, 255, 255, 255,   0,   0,   0,   0],\n",
            "               [  0,   0,   0, 255, 255, 255, 255, 255, 255, 255, 255, 255, 255,\n",
            "                255,   0,   0,   0, 255, 255, 255, 255,   0,   0,   0,   0],\n",
            "               [  0,   0,   0,   0,   0, 255, 255, 255, 255, 255, 255, 255, 255,\n",
            "                  0,   0,   0,   0, 255, 255, 255, 255,   0,   0,   0,   0],\n",
            "               [  0,   0,   0,   0,   0,   0,   0,   0,   0,   0,   0,   0,   0,\n",
            "                  0,   0,   0, 255, 255, 255, 255, 255,   0,   0,   0,   0],\n",
            "               [  0,   0,   0,   0,   0,   0,   0,   0,   0,   0,   0,   0,   0,\n",
            "                  0,   0,   0, 255, 255, 255, 255, 255,   0,   0,   0,   0],\n",
            "               [  0,   0,   0,   0,   0,   0,   0,   0,   0,   0,   0,   0,   0,\n",
            "                  0,   0,   0, 255, 255, 255, 255,   0,   0,   0,   0,   0],\n",
            "               [  0,   0,   0,   0,   0,   0,   0,   0,   0,   0,   0,   0,   0,\n",
            "                  0,   0,   0, 255, 255, 255, 255,   0,   0,   0,   0,   0],\n",
            "               [  0,   0,   0,   0,   0,   0,   0,   0,   0,   0,   0,   0,   0,\n",
            "                  0,   0, 255, 255, 255, 255, 255,   0,   0,   0,   0,   0],\n",
            "               [  0,   0,   0,   0,   0,   0,   0,   0,   0,   0,   0,   0,   0,\n",
            "                  0,   0, 255, 255, 255, 255, 255,   0,   0,   0,   0,   0],\n",
            "               [  0,   0,   0,   0,   0,   0,   0,   0,   0,   0,   0,   0,   0,\n",
            "                  0,   0, 255, 255, 255, 255, 255,   0,   0,   0,   0,   0],\n",
            "               [  0,   0,   0,   0,   0,   0,   0,   0,   0,   0,   0,   0,   0,\n",
            "                  0,   0, 255, 255, 255, 255,   0,   0,   0,   0,   0,   0],\n",
            "               [  0,   0,   0,   0,   0,   0,   0,   0,   0,   0,   0,   0,   0,\n",
            "                  0,   0, 255, 255, 255, 255,   0,   0,   0,   0,   0,   0],\n",
            "               [  0,   0,   0,   0,   0,   0,   0,   0,   0,   0,   0,   0,   0,\n",
            "                  0,   0, 255, 255, 255, 255,   0,   0,   0,   0,   0,   0],\n",
            "               [  0,   0,   0,   0,   0,   0,   0,   0,   0,   0,   0,   0,   0,\n",
            "                  0,   0, 255, 255, 255, 255,   0,   0,   0,   0,   0,   0],\n",
            "               [  0,   0,   0,   0,   0,   0,   0,   0,   0,   0,   0,   0,   0,\n",
            "                  0, 255, 255, 255, 255,   0,   0,   0,   0,   0,   0,   0],\n",
            "               [  0,   0,   0,   0,   0,   0,   0,   0,   0,   0,   0,   0,   0,\n",
            "                  0, 255, 255, 255, 255,   0,   0,   0,   0,   0,   0,   0],\n",
            "               [  0,   0,   0,   0,   0,   0,   0,   0,   0,   0,   0,   0,   0,\n",
            "                  0, 255, 255, 255, 255,   0,   0,   0,   0,   0,   0,   0],\n",
            "               [  0,   0,   0,   0,   0,   0,   0,   0,   0,   0,   0,   0,   0,\n",
            "                  0, 255, 255, 255, 255,   0,   0,   0,   0,   0,   0,   0],\n",
            "               [  0,   0,   0,   0,   0,   0,   0,   0,   0,   0,   0,   0,   0,\n",
            "                  0, 255, 255, 255,   0,   0,   0,   0,   0,   0,   0,   0],\n",
            "               [  0,   0,   0,   0,   0,   0,   0,   0,   0,   0,   0,   0,   0,\n",
            "                255, 255, 255, 255, 255,   0,   0,   0,   0,   0,   0,   0],\n",
            "               [  0,   0,   0,   0,   0,   0,   0,   0,   0,   0,   0,   0,   0,\n",
            "                  0, 255, 255, 255, 255,   0,   0,   0,   0,   0,   0,   0]],\n",
            "              dtype=uint8)                                                      ]],\n",
            "      dtype=object), 'labels': array([[6],\n",
            "       [5],\n",
            "       [0],\n",
            "       ...,\n",
            "       [2],\n",
            "       [6],\n",
            "       [6]], dtype=uint8)}\n"
          ]
        }
      ]
    },
    {
      "cell_type": "code",
      "execution_count": null,
      "metadata": {
        "colab": {
          "base_uri": "https://localhost:8080/"
        },
        "id": "zG__-oVkZcAf",
        "outputId": "03dfcf03-4cf3-4ffd-8fde-d0b9bcb1dc15",
        "collapsed": true
      },
      "outputs": [
        {
          "output_type": "execute_result",
          "data": {
            "text/plain": [
              "dict_keys(['__header__', '__version__', '__globals__', 'Data', 'labels'])"
            ]
          },
          "metadata": {},
          "execution_count": 4
        }
      ],
      "source": [
        "data.keys()"
      ]
    },
    {
      "cell_type": "code",
      "source": [
        "data_arr=np.squeeze(data['Data'])\n",
        "data_arr.shape"
      ],
      "metadata": {
        "colab": {
          "base_uri": "https://localhost:8080/"
        },
        "id": "dbiLhDKAjiAV",
        "outputId": "9b72dc61-e4ae-4ffa-a8f1-5545e00d89e8",
        "collapsed": true
      },
      "execution_count": null,
      "outputs": [
        {
          "output_type": "execute_result",
          "data": {
            "text/plain": [
              "(60000,)"
            ]
          },
          "metadata": {},
          "execution_count": 5
        }
      ]
    },
    {
      "cell_type": "code",
      "source": [
        "data[\"labels\"].shape"
      ],
      "metadata": {
        "colab": {
          "base_uri": "https://localhost:8080/"
        },
        "id": "_TIXDDb6nSWc",
        "outputId": "6de2ebe2-79f3-404e-f521-747277298a54",
        "collapsed": true
      },
      "execution_count": null,
      "outputs": [
        {
          "output_type": "execute_result",
          "data": {
            "text/plain": [
              "(60000, 1)"
            ]
          },
          "metadata": {},
          "execution_count": 6
        }
      ]
    },
    {
      "cell_type": "code",
      "source": [
        "label_arr=np.squeeze(data[\"labels\"])\n",
        "label_arr.shape"
      ],
      "metadata": {
        "colab": {
          "base_uri": "https://localhost:8080/"
        },
        "id": "vYS8L4FljsTk",
        "outputId": "eda9da92-f3ed-4a89-b7bf-330208678252",
        "collapsed": true
      },
      "execution_count": null,
      "outputs": [
        {
          "output_type": "execute_result",
          "data": {
            "text/plain": [
              "(60000,)"
            ]
          },
          "metadata": {},
          "execution_count": 7
        }
      ]
    },
    {
      "cell_type": "code",
      "source": [
        "X_train = data_arr[:40000]\n",
        "y_train =label_arr[:40000]\n",
        "X_valid=data_arr[40000:50000]\n",
        "y_valid=label_arr[40000:50000]\n",
        "X_test =data_arr[50000:60000]\n",
        "y_test =label_arr[50000:60000]"
      ],
      "metadata": {
        "id": "SzEU8t6toK6U"
      },
      "execution_count": null,
      "outputs": []
    },
    {
      "cell_type": "code",
      "execution_count": null,
      "metadata": {
        "colab": {
          "base_uri": "https://localhost:8080/"
        },
        "id": "y_OYPvOaZcAg",
        "outputId": "2a14bd9e-b500-426e-90ae-36f7518ee1b6",
        "collapsed": true
      },
      "outputs": [
        {
          "output_type": "stream",
          "name": "stdout",
          "text": [
            "(40000,) (40000,)\n",
            "(10000,) (10000,)\n",
            "(10000,) (10000,)\n"
          ]
        }
      ],
      "source": [
        "# X_train = data[]\n",
        "# None # Extract training data (40000 images)\n",
        "# y_train = None # Extract training labels (40000 labels)\n",
        "# X_valid = None # Extract validation data (10000 images)\n",
        "# y_valid = None # Extract validation labels (10000 labels)\n",
        "# X_test = None # Extract testing data (10000 images)\n",
        "# y_test = None # Extract testing labels (10000 labels)\n",
        "\n",
        "print(X_train.shape, y_train.shape)\n",
        "print(X_valid.shape, y_valid.shape)\n",
        "print(X_test.shape, y_test.shape)"
      ]
    },
    {
      "cell_type": "code",
      "source": [
        "X_train[0].shape"
      ],
      "metadata": {
        "colab": {
          "base_uri": "https://localhost:8080/"
        },
        "id": "ncrJKIf9U_WY",
        "outputId": "ea93681c-eb5c-4447-f064-f2c1af4e67f6"
      },
      "execution_count": null,
      "outputs": [
        {
          "output_type": "execute_result",
          "data": {
            "text/plain": [
              "(27, 20)"
            ]
          },
          "metadata": {},
          "execution_count": 10
        }
      ]
    },
    {
      "cell_type": "markdown",
      "metadata": {
        "id": "n4YtUUatZcAg"
      },
      "source": [
        "<p dir=rtl style=\"direction: rtl;text-align: justify;line-height:200%;font-family:vazir;font-size:medium\">\n",
        "<font face=\"vazir\" size=3>\n",
        "پس از خوانش و جداسازی نمونه‌ها، ۹ نمونه‌ی اول مجموعه‌ی آموزشی را در یک شکل ۳ در ۳ به همراه برچسب‌های آن‌ها نمایش دهید.\n",
        "</font>\n",
        "</p>"
      ]
    },
    {
      "cell_type": "code",
      "execution_count": null,
      "metadata": {
        "colab": {
          "base_uri": "https://localhost:8080/",
          "height": 1000
        },
        "id": "jNIqVbiSZcAh",
        "outputId": "e3f7353f-f39e-42e2-b33a-f1e332f0bbbe",
        "collapsed": true
      },
      "outputs": [
        {
          "output_type": "display_data",
          "data": {
            "text/plain": [
              "<Figure size 2500x2500 with 9 Axes>"
            ],
            "image/png": "[encoded data removed]"
          },
          "metadata": {}
        }
      ],
      "source": [
        "# plot the first 9 images in the training set in a 3x3 grid\n",
        "plt.figure(figsize=(25,25))\n",
        "# fig, axs = plt.subplots(2, 2)\n",
        "for i in range(9):\n",
        "  plt.subplot(3,3,i+1)\n",
        "  plt.imshow(X_train[i], cmap='gray')\n",
        "  plt.xticks([])\n",
        "  plt.yticks([])\n",
        "  plt.title(y_train[i])"
      ]
    },
    {
      "cell_type": "markdown",
      "metadata": {
        "id": "NJmDKLXJZcAh"
      },
      "source": [
        "<h2 align=right style=\"line-height:200%;font-family:vazir;color:#0099cc\">\n",
        "<font face=\"vazir\" color=\"#0099cc\">\n",
        "آماده‌سازی داده\n",
        "</font>\n",
        "</h2>\n",
        "\n",
        "<p dir=rtl style=\"direction: rtl;text-align: justify;line-height:200%;font-family:vazir;font-size:medium\">\n",
        "<font face=\"vazir\" size=3>\n",
        "همان‌طور که احتمالاً از تصویرهای نمایش داده‌شده در بخش قبل متوجه شده‌اید تصاویر موجود در این مجموعه‌داده با اندازه‌های گوناگونی هستند. از آن‌جا که نیاز است ورودی‌های شبکه‌ی ما همگی با یک اندازه‌ی مشخص باشند نیاز است تصاویر را به یک اندازه‌ی مشابه نگاشت کنید. یک ایده این است که اندازه‌ی تصاویر خود را ۶۲ در ۶۲ در نظر بگیرید و هر تصویری که کوچک‌تر از این اندازه است را با اضافه کردن سطرها یا ستون‌های مشکی به اطراف آن به این اندازه برسانید، به‌نحوی که رقم دست‌نویس در وسط تصویر باقی بماند. بنابراین پیشنهاد می‌کنیم در این قسمت چنین روشی را پیاده‌سازی کنید. با این حال، اگر احساس می‌کنید قادر به پیاده‌سازی رویکرد بهتری هستید نیز آزاد هستید از آن استفاده کنید و توضیحاتی ارائه دهید. توجه داشته باشید باید این کار را برای تمام تصاویر موجود در تمام مجموعه‌ها (آموزشی، اعتبارسنجی و آزمون) انجام دهید.\n",
        "</font>\n",
        "</p>"
      ]
    },
    {
      "cell_type": "code",
      "source": [
        "X_train[0].shape"
      ],
      "metadata": {
        "colab": {
          "base_uri": "https://localhost:8080/"
        },
        "id": "_jc9oASYVf35",
        "outputId": "5a7c881f-8ddb-4682-c2cd-e89f273c35c9"
      },
      "execution_count": null,
      "outputs": [
        {
          "output_type": "execute_result",
          "data": {
            "text/plain": [
              "(27, 20)"
            ]
          },
          "metadata": {},
          "execution_count": 12
        }
      ]
    },
    {
      "cell_type": "code",
      "source": [
        "### 0\n",
        "def resize_image(image):\n",
        "    target_size=(62, 62)\n",
        "    row, col = image.shape\n",
        "    resized_image = np.zeros(target_size)\n",
        "    row_start_img = (target_size[0] - row) // 2\n",
        "    col_start_img = (target_size[1] - col) // 2\n",
        "\n",
        "    resized_image[\n",
        "        row_start_img : row_start_img + row,\n",
        "        col_start_img : col_start_img + col\n",
        "    ] = image\n",
        "    return resized_image"
      ],
      "metadata": {
        "id": "WIHUFgBYDb_q"
      },
      "execution_count": null,
      "outputs": []
    },
    {
      "cell_type": "code",
      "source": [
        "X_train_resized = np.array([resize_image(img) for img in X_train])\n",
        "X_valid_resized = np.array([resize_image(img) for img in X_valid])\n",
        "X_test_resized= np.array([resize_image(img) for img in X_test])"
      ],
      "metadata": {
        "id": "81HjzXwKWOay"
      },
      "execution_count": null,
      "outputs": []
    },
    {
      "cell_type": "code",
      "source": [
        "X_train_resized.shape"
      ],
      "metadata": {
        "colab": {
          "base_uri": "https://localhost:8080/"
        },
        "id": "8to-4PvTWSwa",
        "outputId": "d9a1e16a-5447-4cd4-fcfa-b5b1331380e1"
      },
      "execution_count": null,
      "outputs": [
        {
          "output_type": "execute_result",
          "data": {
            "text/plain": [
              "(40000, 62, 62)"
            ]
          },
          "metadata": {},
          "execution_count": 13
        }
      ]
    },
    {
      "cell_type": "code",
      "source": [
        "# X_train_resized=X_train\n",
        "# X_valid_resized=X_valid\n",
        "# X_test_resized=X_test\n",
        "# for i in range (4000):\n",
        "#   X_train_resized[i]=resize_image(X_train[i])\n",
        "\n",
        "# for i in range (1000):\n",
        "#   X_valid_resized[i]=resize_image(X_valid[i])\n",
        "#   X_test_resized[i]=resize_image(X_test[i])"
      ],
      "metadata": {
        "id": "TODS0HsqD7WK"
      },
      "execution_count": null,
      "outputs": []
    },
    {
      "cell_type": "code",
      "source": [
        "X_train[0].shape"
      ],
      "metadata": {
        "colab": {
          "base_uri": "https://localhost:8080/"
        },
        "id": "-CEuguS_VkoQ",
        "outputId": "055d5c9a-e06a-4cc0-812a-2d98c4001c1c"
      },
      "execution_count": null,
      "outputs": [
        {
          "output_type": "execute_result",
          "data": {
            "text/plain": [
              "(62, 62)"
            ]
          },
          "metadata": {},
          "execution_count": 474
        }
      ]
    },
    {
      "cell_type": "code",
      "source": [
        "X_train_resized.shape"
      ],
      "metadata": {
        "colab": {
          "base_uri": "https://localhost:8080/"
        },
        "id": "IYca9E4rVx-5",
        "outputId": "5956aa7d-35b5-4949-dd35-8f0387bbf0d3"
      },
      "execution_count": null,
      "outputs": [
        {
          "output_type": "execute_result",
          "data": {
            "text/plain": [
              "(40000, 62, 62)"
            ]
          },
          "metadata": {},
          "execution_count": 14
        }
      ]
    },
    {
      "cell_type": "code",
      "source": [
        "X_train_resized[0].shape"
      ],
      "metadata": {
        "colab": {
          "base_uri": "https://localhost:8080/"
        },
        "id": "V-joDIHJV4ZK",
        "outputId": "b6751c0a-0c1f-4105-b4f4-cacbc731030d"
      },
      "execution_count": null,
      "outputs": [
        {
          "output_type": "execute_result",
          "data": {
            "text/plain": [
              "(62, 62)"
            ]
          },
          "metadata": {},
          "execution_count": 15
        }
      ]
    },
    {
      "cell_type": "code",
      "source": [
        "# for i in range (4000):\n",
        "#   np.reshape(X_train[i], (62, 62))"
      ],
      "metadata": {
        "id": "9ywG91gcAUZY"
      },
      "execution_count": null,
      "outputs": []
    },
    {
      "cell_type": "code",
      "source": [
        "# ##1\n",
        "# import cv2\n",
        "\n",
        "# def __resize_image(src_image, dst_image_height, dst_image_width):\n",
        "#     src_image_height = src_image.shape[0]\n",
        "#     src_image_width = src_image.shape[1]\n",
        "\n",
        "#     if src_image_height > dst_image_height or src_image_width > dst_image_width:\n",
        "#         height_scale = dst_image_height / src_image_height\n",
        "#         width_scale = dst_image_width / src_image_width\n",
        "#         scale = min(height_scale, width_scale)\n",
        "#         img = cv2.resize(src=src_image, dsize=(0, 0), fx=scale, fy=scale, interpolation=cv2.INTER_CUBIC)\n",
        "#     else:\n",
        "#         img = src_image\n",
        "\n",
        "#     img_height = img.shape[0]\n",
        "#     img_width = img.shape[1]\n",
        "\n",
        "#     dst_image = np.zeros([dst_image_height, dst_image_width], dtype=np.uint8)\n",
        "\n",
        "#     y_offset = (dst_image_height - img_height) // 2\n",
        "#     x_offset = (dst_image_width - img_width) // 2\n",
        "\n",
        "#     dst_image[y_offset:y_offset+img_height, x_offset:x_offset+img_width] = img\n",
        "\n",
        "#     return dst_image"
      ],
      "metadata": {
        "id": "Mmug-uYVTVNQ"
      },
      "execution_count": null,
      "outputs": []
    },
    {
      "cell_type": "code",
      "source": [
        "# dst_image_height=62\n",
        "# dst_image_width=62"
      ],
      "metadata": {
        "id": "O9A3OhhzV3f6"
      },
      "execution_count": null,
      "outputs": []
    },
    {
      "cell_type": "code",
      "source": [
        "# X_train_resized=X_train\n",
        "# X_valid_resized=X_valid\n",
        "# X_test_resized=X_test\n",
        "# for i in range (4000):\n",
        "#   X_train_resized[i]=__resize_image(X_train[i], dst_image_height, dst_image_width)\n",
        "\n",
        "# for i in range (1000):\n",
        "#   X_valid_resized[i]=__resize_image(X_valid[i], dst_image_height, dst_image_width)\n",
        "#   X_test_resized[i]=__resize_image(X_test[i], dst_image_height, dst_image_width)"
      ],
      "metadata": {
        "id": "IaGtj_zDU_IV",
        "colab": {
          "base_uri": "https://localhost:8080/",
          "height": 332
        },
        "collapsed": true,
        "outputId": "2067e695-95b4-4352-bb9c-e476ae9cc94f"
      },
      "execution_count": null,
      "outputs": [
        {
          "output_type": "error",
          "ename": "IndexError",
          "evalue": "tuple index out of range",
          "traceback": [
            "\u001b[0;31m---------------------------------------------------------------------------\u001b[0m",
            "\u001b[0;31mIndexError\u001b[0m                                Traceback (most recent call last)",
            "\u001b[0;32m<ipython-input-381-67ec1df0fafe>\u001b[0m in \u001b[0;36m<cell line: 4>\u001b[0;34m()\u001b[0m\n\u001b[1;32m      3\u001b[0m \u001b[0mX_test_resized\u001b[0m\u001b[0;34m=\u001b[0m\u001b[0mX_test\u001b[0m\u001b[0;34m\u001b[0m\u001b[0;34m\u001b[0m\u001b[0m\n\u001b[1;32m      4\u001b[0m \u001b[0;32mfor\u001b[0m \u001b[0mi\u001b[0m \u001b[0;32min\u001b[0m \u001b[0mrange\u001b[0m \u001b[0;34m(\u001b[0m\u001b[0;36m4000\u001b[0m\u001b[0;34m)\u001b[0m\u001b[0;34m:\u001b[0m\u001b[0;34m\u001b[0m\u001b[0;34m\u001b[0m\u001b[0m\n\u001b[0;32m----> 5\u001b[0;31m   \u001b[0mX_train_resized\u001b[0m\u001b[0;34m[\u001b[0m\u001b[0mi\u001b[0m\u001b[0;34m]\u001b[0m\u001b[0;34m=\u001b[0m\u001b[0m__resize_image\u001b[0m\u001b[0;34m(\u001b[0m\u001b[0mX_train\u001b[0m\u001b[0;34m[\u001b[0m\u001b[0mi\u001b[0m\u001b[0;34m]\u001b[0m\u001b[0;34m,\u001b[0m \u001b[0mdst_image_height\u001b[0m\u001b[0;34m,\u001b[0m \u001b[0mdst_image_width\u001b[0m\u001b[0;34m)\u001b[0m\u001b[0;34m\u001b[0m\u001b[0;34m\u001b[0m\u001b[0m\n\u001b[0m\u001b[1;32m      6\u001b[0m \u001b[0;34m\u001b[0m\u001b[0m\n\u001b[1;32m      7\u001b[0m \u001b[0;32mfor\u001b[0m \u001b[0mi\u001b[0m \u001b[0;32min\u001b[0m \u001b[0mrange\u001b[0m \u001b[0;34m(\u001b[0m\u001b[0;36m1000\u001b[0m\u001b[0;34m)\u001b[0m\u001b[0;34m:\u001b[0m\u001b[0;34m\u001b[0m\u001b[0;34m\u001b[0m\u001b[0m\n",
            "\u001b[0;32m<ipython-input-380-010e42036dd8>\u001b[0m in \u001b[0;36m__resize_image\u001b[0;34m(src_image, dst_image_height, dst_image_width)\u001b[0m\n\u001b[1;32m      4\u001b[0m \u001b[0;32mdef\u001b[0m \u001b[0m__resize_image\u001b[0m\u001b[0;34m(\u001b[0m\u001b[0msrc_image\u001b[0m\u001b[0;34m,\u001b[0m \u001b[0mdst_image_height\u001b[0m\u001b[0;34m,\u001b[0m \u001b[0mdst_image_width\u001b[0m\u001b[0;34m)\u001b[0m\u001b[0;34m:\u001b[0m\u001b[0;34m\u001b[0m\u001b[0;34m\u001b[0m\u001b[0m\n\u001b[1;32m      5\u001b[0m     \u001b[0msrc_image_height\u001b[0m \u001b[0;34m=\u001b[0m \u001b[0msrc_image\u001b[0m\u001b[0;34m.\u001b[0m\u001b[0mshape\u001b[0m\u001b[0;34m[\u001b[0m\u001b[0;36m0\u001b[0m\u001b[0;34m]\u001b[0m\u001b[0;34m\u001b[0m\u001b[0;34m\u001b[0m\u001b[0m\n\u001b[0;32m----> 6\u001b[0;31m     \u001b[0msrc_image_width\u001b[0m \u001b[0;34m=\u001b[0m \u001b[0msrc_image\u001b[0m\u001b[0;34m.\u001b[0m\u001b[0mshape\u001b[0m\u001b[0;34m[\u001b[0m\u001b[0;36m1\u001b[0m\u001b[0;34m]\u001b[0m\u001b[0;34m\u001b[0m\u001b[0;34m\u001b[0m\u001b[0m\n\u001b[0m\u001b[1;32m      7\u001b[0m \u001b[0;34m\u001b[0m\u001b[0m\n\u001b[1;32m      8\u001b[0m     \u001b[0;32mif\u001b[0m \u001b[0msrc_image_height\u001b[0m \u001b[0;34m>\u001b[0m \u001b[0mdst_image_height\u001b[0m \u001b[0;32mor\u001b[0m \u001b[0msrc_image_width\u001b[0m \u001b[0;34m>\u001b[0m \u001b[0mdst_image_width\u001b[0m\u001b[0;34m:\u001b[0m\u001b[0;34m\u001b[0m\u001b[0;34m\u001b[0m\u001b[0m\n",
            "\u001b[0;31mIndexError\u001b[0m: tuple index out of range"
          ]
        }
      ]
    },
    {
      "cell_type": "code",
      "source": [
        "# IMG_SIZE=62"
      ],
      "metadata": {
        "id": "jc56D8s28Ssa"
      },
      "execution_count": null,
      "outputs": []
    },
    {
      "cell_type": "code",
      "source": [
        "# ###2\n",
        "\n",
        "# for i in range (4000):\n",
        "#   X_train_resized[i]= X_train[i].reshape((IMG_SIZE, IMG_SIZE))\n",
        "\n",
        "# for i in range (1000):\n",
        "#   X_valid_resized[i]=X_valid[i].reshape((IMG_SIZE, IMG_SIZE))\n",
        "#   X_test_resized[i]=X_test[i].reshape((IMG_SIZE, IMG_SIZE))\n"
      ],
      "metadata": {
        "id": "r9sW2DFB8MrY"
      },
      "execution_count": null,
      "outputs": []
    },
    {
      "cell_type": "code",
      "source": [
        "# ### 3\n",
        "\n",
        "# def __resize_image(src_image, dst_image_height, dst_image_width):\n",
        "#   res = cv2.resize(src_image, dsize=(dst_image_height, dst_image_width), interpolation=cv2.INTER_CUBIC)\n",
        "#   res_arr= np.array(res)\n",
        "#   return res_arr"
      ],
      "metadata": {
        "id": "f4MmmauHlUnE"
      },
      "execution_count": null,
      "outputs": []
    },
    {
      "cell_type": "code",
      "source": [
        "X_train_resized.dtype"
      ],
      "metadata": {
        "colab": {
          "base_uri": "https://localhost:8080/"
        },
        "id": "hoXnkJIfpeZx",
        "outputId": "2c323624-d55c-46f2-a2fb-ede5ff3b9bc8"
      },
      "execution_count": null,
      "outputs": [
        {
          "output_type": "execute_result",
          "data": {
            "text/plain": [
              "dtype('float64')"
            ]
          },
          "metadata": {},
          "execution_count": 16
        }
      ]
    },
    {
      "cell_type": "code",
      "source": [
        "print(X_train_resized)"
      ],
      "metadata": {
        "colab": {
          "base_uri": "https://localhost:8080/"
        },
        "collapsed": true,
        "id": "XAx540kwoGxt",
        "outputId": "697ec851-709c-42b2-ea60-a542e3b9c8e0"
      },
      "execution_count": null,
      "outputs": [
        {
          "output_type": "stream",
          "name": "stdout",
          "text": [
            "[[[0. 0. 0. ... 0. 0. 0.]\n",
            "  [0. 0. 0. ... 0. 0. 0.]\n",
            "  [0. 0. 0. ... 0. 0. 0.]\n",
            "  ...\n",
            "  [0. 0. 0. ... 0. 0. 0.]\n",
            "  [0. 0. 0. ... 0. 0. 0.]\n",
            "  [0. 0. 0. ... 0. 0. 0.]]\n",
            "\n",
            " [[0. 0. 0. ... 0. 0. 0.]\n",
            "  [0. 0. 0. ... 0. 0. 0.]\n",
            "  [0. 0. 0. ... 0. 0. 0.]\n",
            "  ...\n",
            "  [0. 0. 0. ... 0. 0. 0.]\n",
            "  [0. 0. 0. ... 0. 0. 0.]\n",
            "  [0. 0. 0. ... 0. 0. 0.]]\n",
            "\n",
            " [[0. 0. 0. ... 0. 0. 0.]\n",
            "  [0. 0. 0. ... 0. 0. 0.]\n",
            "  [0. 0. 0. ... 0. 0. 0.]\n",
            "  ...\n",
            "  [0. 0. 0. ... 0. 0. 0.]\n",
            "  [0. 0. 0. ... 0. 0. 0.]\n",
            "  [0. 0. 0. ... 0. 0. 0.]]\n",
            "\n",
            " ...\n",
            "\n",
            " [[0. 0. 0. ... 0. 0. 0.]\n",
            "  [0. 0. 0. ... 0. 0. 0.]\n",
            "  [0. 0. 0. ... 0. 0. 0.]\n",
            "  ...\n",
            "  [0. 0. 0. ... 0. 0. 0.]\n",
            "  [0. 0. 0. ... 0. 0. 0.]\n",
            "  [0. 0. 0. ... 0. 0. 0.]]\n",
            "\n",
            " [[0. 0. 0. ... 0. 0. 0.]\n",
            "  [0. 0. 0. ... 0. 0. 0.]\n",
            "  [0. 0. 0. ... 0. 0. 0.]\n",
            "  ...\n",
            "  [0. 0. 0. ... 0. 0. 0.]\n",
            "  [0. 0. 0. ... 0. 0. 0.]\n",
            "  [0. 0. 0. ... 0. 0. 0.]]\n",
            "\n",
            " [[0. 0. 0. ... 0. 0. 0.]\n",
            "  [0. 0. 0. ... 0. 0. 0.]\n",
            "  [0. 0. 0. ... 0. 0. 0.]\n",
            "  ...\n",
            "  [0. 0. 0. ... 0. 0. 0.]\n",
            "  [0. 0. 0. ... 0. 0. 0.]\n",
            "  [0. 0. 0. ... 0. 0. 0.]]]\n"
          ]
        }
      ]
    },
    {
      "cell_type": "code",
      "execution_count": null,
      "metadata": {
        "id": "ai_vc_PnZcAi"
      },
      "outputs": [],
      "source": [
        "# X_train_resized = None # Resize training images to 62x62\n",
        "# X_valid_resized = None # Resize validation images to 62x62\n",
        "# X_test_resized = None # Resize testing images to 62x62"
      ]
    },
    {
      "cell_type": "markdown",
      "metadata": {
        "id": "8LEhUypxZcAj"
      },
      "source": [
        "<p dir=rtl style=\"direction: rtl;text-align: justify;line-height:200%;font-family:vazir;font-size:medium\">\n",
        "<font face=\"vazir\" size=3>\n",
        "پس از این تغییر اندازه، مجدد ۹ نمونه‌ی اول مجموعه‌ی آموزشی را در یک شکل ۳ در ۳ به همراه برچسب‌های آن‌ها نمایش دهید.\n",
        "</font>\n",
        "</p>"
      ]
    },
    {
      "cell_type": "code",
      "execution_count": null,
      "metadata": {
        "id": "joWrv1oYZcAk"
      },
      "outputs": [],
      "source": [
        "# plot the first 9 images in the training set in a 3x3 grid after resizing"
      ]
    },
    {
      "cell_type": "code",
      "source": [
        "plt.figure(figsize=(25,25))\n",
        "# fig, axs = plt.subplots(2, 2)\n",
        "for i in range(9):\n",
        "  plt.subplot(3,3,i+1)\n",
        "  plt.imshow(X_train_resized[i], cmap='gray')\n",
        "  plt.xticks([])\n",
        "  plt.yticks([])\n",
        "  plt.title(y_train[i])"
      ],
      "metadata": {
        "colab": {
          "base_uri": "https://localhost:8080/",
          "height": 1000
        },
        "id": "w5c9oN8PWYNs",
        "outputId": "0aac8043-ccdd-4940-c862-1f204d788a7c"
      },
      "execution_count": null,
      "outputs": [
        {
          "output_type": "display_data",
          "data": {
            "text/plain": [
              "<Figure size 2500x2500 with 9 Axes>"
            ],
            "image/png": "[encoded data removed]"
          },
          "metadata": {}
        }
      ]
    },
    {
      "cell_type": "markdown",
      "metadata": {
        "id": "8tB40uHOZcAk"
      },
      "source": [
        "<p dir=rtl style=\"direction: rtl;text-align: justify;line-height:200%;font-family:vazir;font-size:medium\">\n",
        "<font face=\"vazir\" size=3>\n",
        "از آن‌جا که شبکه‌ی عصبی مورد استفاده در این تمرین یک شبکه‌ی عمیق کاملاً متصل خواهد بود، ورودی شبکه باید به‌شکل یک بردار باشد، و نه ماتریس. بنابراین در این قسمت نیاز است هر تصویر را مسطح کرده و به شکل یک بردار نشان دهید. یعنی هر تصویر ۶۲ در ۶۲ شما باید به شکل یک بردار ۳۸۴۴ بازنمایی شود.\n",
        "</font>\n",
        "</p>"
      ]
    },
    {
      "cell_type": "code",
      "source": [
        "X_train_vectorized = np.array([img.flatten() for img in X_train_resized ])\n",
        "X_valid_vectorized = np.array([img.flatten() for img in X_valid_resized ])\n",
        "X_test_vectorized = np.array([img.flatten() for img in X_test_resized ])"
      ],
      "metadata": {
        "id": "tVr2xJcAXg4z"
      },
      "execution_count": null,
      "outputs": []
    },
    {
      "cell_type": "code",
      "source": [
        "# X_train_vectorized =X_train_resized\n",
        "# X_valid_vectorized =X_valid_resized\n",
        "# X_test_vectorized=X_test_resized\n",
        "# for i in range (4000):\n",
        "#   X_train_vectorized[i]= X_train_resized[i].flatten()\n",
        "\n",
        "# for i in range (1000):\n",
        "#   X_valid_vectorized[i]= X_valid_resized[i].flatten()\n",
        "#   X_test_vectorized[i]= X_test_resized[i].flatten()"
      ],
      "metadata": {
        "id": "sBC6WP27ZF9n"
      },
      "execution_count": null,
      "outputs": []
    },
    {
      "cell_type": "code",
      "source": [
        "X_train_vectorized.shape"
      ],
      "metadata": {
        "colab": {
          "base_uri": "https://localhost:8080/"
        },
        "id": "c3JgYbNSZQ7E",
        "outputId": "3b3f92a8-dfdb-4b87-d8e5-c211ba470e66",
        "collapsed": true
      },
      "execution_count": null,
      "outputs": [
        {
          "output_type": "execute_result",
          "data": {
            "text/plain": [
              "(40000, 3844)"
            ]
          },
          "metadata": {},
          "execution_count": 21
        }
      ]
    },
    {
      "cell_type": "code",
      "execution_count": null,
      "metadata": {
        "colab": {
          "base_uri": "https://localhost:8080/"
        },
        "id": "_Z9L-XJiZcAk",
        "outputId": "a7c8d165-2c72-45aa-d978-f5a242b0f38f",
        "collapsed": true
      },
      "outputs": [
        {
          "output_type": "stream",
          "name": "stdout",
          "text": [
            "(40000, 3844)\n",
            "(10000, 3844)\n",
            "(10000, 3844)\n"
          ]
        }
      ],
      "source": [
        "# X_train_vectorized = None # Vectorize training images\n",
        "# X_valid_vectorized = None # Vectorize validation images\n",
        "# X_test_vectorized = None # Vectorize testing images\n",
        "\n",
        "print(X_train_vectorized.shape)\n",
        "print(X_valid_vectorized.shape)\n",
        "print(X_test_vectorized.shape)"
      ]
    },
    {
      "cell_type": "markdown",
      "metadata": {
        "id": "pGUUElxGZcAl"
      },
      "source": [
        "<p dir=rtl style=\"direction: rtl;text-align: justify;line-height:200%;font-family:vazir;font-size:medium\">\n",
        "<font face=\"vazir\" size=3>\n",
        "علاوه بر این، به دلیل آسان‌تر شدن فرآیند آموزش مدل پیشنهاد می‌شود مقادیر هر تصویر که شامل اعداد ۰ تا ۲۵۵ هستند را به بازه‌ی ۰ تا ۱ نرمال کنید. برای این‌کار می‌توانید به‌سادگی مقادیر را تقسیم بر ۲۵۵ کنید.\n",
        "</font>\n",
        "</p>"
      ]
    },
    {
      "cell_type": "code",
      "execution_count": null,
      "metadata": {
        "id": "jm4VebgQZcAl"
      },
      "outputs": [],
      "source": [
        "X_train_normalized = X_train_vectorized/255  # Normalize training images\n",
        "X_valid_normalized = X_valid_vectorized/255  # Normalize validation images\n",
        "X_test_normalized = X_test_vectorized/255 # Normalize testing images"
      ]
    },
    {
      "cell_type": "code",
      "source": [
        "X_train_normalized.shape"
      ],
      "metadata": {
        "id": "D59tM-9BeuZp",
        "outputId": "fc71e385-1931-4ac9-ae4b-c8795e3d0ace",
        "colab": {
          "base_uri": "https://localhost:8080/"
        },
        "collapsed": true
      },
      "execution_count": null,
      "outputs": [
        {
          "output_type": "execute_result",
          "data": {
            "text/plain": [
              "(40000, 3844)"
            ]
          },
          "metadata": {},
          "execution_count": 24
        }
      ]
    },
    {
      "cell_type": "markdown",
      "metadata": {
        "id": "RjAYfkq-ZcAl"
      },
      "source": [
        "<p dir=rtl style=\"direction: rtl;text-align: justify;line-height:200%;font-family:vazir;font-size:medium\">\n",
        "<font face=\"vazir\" size=3>\n",
        "همچنین با توجه به این‌که مسئله‌ی ما چندکلاسه است نیاز است خروجی شبکه به‌صورت بردار تک‌نمود (One-Hot) باشد.\n",
        "بنابراین در این قسمت نیاز است برچسب‌ها را به کمک تابع <code>to_categorical</code> از کتابخانه‌ی <code>keras.utils</code> به این شکل تبدیل کنید.\n",
        "</font>\n",
        "</p>"
      ]
    },
    {
      "cell_type": "code",
      "source": [
        "import keras"
      ],
      "metadata": {
        "id": "jlJ7ZI7_chcj"
      },
      "execution_count": null,
      "outputs": []
    },
    {
      "cell_type": "code",
      "source": [
        " y_train_onehot =keras.utils.to_categorical( y_train, num_classes=10)\n",
        " y_valid_onehot=keras.utils.to_categorical(  y_valid, num_classes=10)\n",
        " y_test_onehot=keras.utils.to_categorical(  y_test, num_classes=10)"
      ],
      "metadata": {
        "id": "fYmAvcVAcLol"
      },
      "execution_count": null,
      "outputs": []
    },
    {
      "cell_type": "code",
      "execution_count": null,
      "metadata": {
        "colab": {
          "base_uri": "https://localhost:8080/"
        },
        "id": "mV_p8AOxZcAm",
        "outputId": "9454bd78-44f4-49a5-a747-0bc96dcd41ea"
      },
      "outputs": [
        {
          "output_type": "stream",
          "name": "stdout",
          "text": [
            "(40000, 10)\n",
            "(10000, 10)\n",
            "(10000, 10)\n"
          ]
        }
      ],
      "source": [
        "# y_train_onehot = None # One-hot encode training labels\n",
        "# y_valid_onehot = None # One-hot encode validation labels\n",
        "# y_test_onehot = None # One-hot encode testing labels\n",
        "\n",
        "print(y_train_onehot.shape)\n",
        "print(y_valid_onehot.shape)\n",
        "print(y_test_onehot.shape)"
      ]
    },
    {
      "cell_type": "markdown",
      "metadata": {
        "id": "Klvn3_AqZcAm"
      },
      "source": [
        "<h2 align=right style=\"line-height:200%;font-family:vazir;color:#0099cc\">\n",
        "<font face=\"vazir\" color=\"#0099cc\">\n",
        "ساخت مدل\n",
        "</font>\n",
        "</h2>\n",
        "\n",
        "<p dir=rtl style=\"direction: rtl;text-align: justify;line-height:200%;font-family:vazir;font-size:medium\">\n",
        "<font face=\"vazir\" size=3>\n",
        "در این قسمت می‌خواهیم مرحله به مرحله چند ساختار شبکه‌ی مختلف را مورد آزمایش قرار دهیم و عملکرد هرکدام از آن‌ها را روی یک نمودار واحد نمایش دهیم تا قادر به مقایسه و تحلیل آن‌ها باشیم.\n",
        "</font>\n",
        "</p>\n",
        "\n",
        "\n",
        "<p dir=rtl style=\"direction: rtl;text-align: justify;line-height:200%;font-family:vazir;font-size:medium\">\n",
        "<font face=\"vazir\" size=3>\n",
        "<span style=\"color:red\"><b>توجه:</b></span>\n",
        "تاریخچه‌ی عملکرد هر مدل روی مجموعه‌ی اعتبارسنجی (دقت مدل در هر دور) را به‌صورت جداگانه نگه دارید زیرا که نیاز است در آخر یک نمودار مشترک از آن‌ها رسم کنید.\n",
        "</font>\n",
        "</p>\n"
      ]
    },
    {
      "cell_type": "markdown",
      "metadata": {
        "id": "Zl1n-ouVZcAn"
      },
      "source": [
        "<h3 align=right style=\"line-height:200%;font-family:vazir;color:#0099cc\">\n",
        "<font face=\"vazir\" color=\"#0099cc\">\n",
        "مدل اول\n",
        "</font>\n",
        "</h3>\n",
        "\n",
        "<p dir=rtl style=\"direction: rtl;text-align: justify;line-height:200%;font-family:vazir;font-size:medium\">\n",
        "<font face=\"vazir\" size=3>\n",
        "ابتدا شبکه‌ای بسازید که در لایه‌ی ورودی شامل ۶۴ نورون باشد و از تابع فعال‌سازی <code>tanh</code> استفاده کنید. سپس یک لایه‌ی کاملاً متصل با ۱۰ نورون به‌عنوان لایه‌ی خروجی قرار داده و از تابع فعال‌سازی <code>softmax</code> استفاده کنید. در نهایت از تابع <code>categorical_crossentropy</code> به‌عنوان تابع هزینه استفاده کنید و تابع بهینه‌ساز را معادل <code>SGD</code> با نرخ یادگیری <code>0.01</code> قرار دهید.\n",
        "<br>\n",
        "علاوه بر این، برای آموزش مدل از تکنیک <code>EarlyStopping</code> استفاده کنید تا نیاز به آموزش بی‌رویه‌ی مدل نباشد. می‌توانید مانیتور آن را روی <code>`val_loss`</code> و <code>patience</code> آن را روی <code>10</code> تنظیم کنید.\n",
        "<br>\n",
        "در انتها مدل خود را برای ۱۰۰ دور و با اندازه‌ی دسته معادل ۳۲ آموزش دهید.\n",
        "</font>\n",
        "</p>"
      ]
    },
    {
      "cell_type": "code",
      "source": [
        "import keras\n",
        "from keras import layers"
      ],
      "metadata": {
        "id": "c6BUBKQAXsGY"
      },
      "execution_count": null,
      "outputs": []
    },
    {
      "cell_type": "code",
      "execution_count": null,
      "metadata": {
        "id": "ozrBJZ-TZcAn"
      },
      "outputs": [],
      "source": [
        "model1 = Sequential()\n",
        "model1.add(layers.Dense(64,activation='tanh',input_shape=(3844,)))\n",
        "model1.add(layers.Dense(10, activation='softmax'))\n",
        "# Add a dense layer with 64 neurons and tanh activation\n",
        "# Add a dense layer with 10 neurons and softmax activation"
      ]
    },
    {
      "cell_type": "code",
      "source": [
        "optimizer_SGD = keras.optimizers.SGD(learning_rate=0.001)\n",
        "model1.compile( loss= keras.losses.categorical_crossentropy, optimizer=optimizer_SGD, metrics=['accuracy'])"
      ],
      "metadata": {
        "id": "v1ObkP4yY--K"
      },
      "execution_count": null,
      "outputs": []
    },
    {
      "cell_type": "code",
      "execution_count": null,
      "metadata": {
        "id": "mfoJ9PTwZcAn"
      },
      "outputs": [],
      "source": [
        "# model1.compile(None) # To-Do (Compile the model)\n",
        "early_stopping = EarlyStopping(monitor='val_loss', patience=10)\n",
        "# To-Do (Stop training when validation loss does not improve for 10 epochs)"
      ]
    },
    {
      "cell_type": "code",
      "execution_count": null,
      "metadata": {
        "id": "3qnoiuvJZcAs",
        "colab": {
          "base_uri": "https://localhost:8080/"
        },
        "collapsed": true,
        "outputId": "702a4a54-5582-411f-e2c0-1f0b08f319d0"
      },
      "outputs": [
        {
          "output_type": "stream",
          "name": "stdout",
          "text": [
            "Epoch 1/100\n",
            "1250/1250 [==============================] - 6s 4ms/step - loss: 1.0973 - accuracy: 0.7760 - val_loss: 0.6698 - val_accuracy: 0.8639\n",
            "Epoch 2/100\n",
            "1250/1250 [==============================] - 7s 5ms/step - loss: 0.5590 - accuracy: 0.8802 - val_loss: 0.4924 - val_accuracy: 0.8832\n",
            "Epoch 3/100\n",
            "1250/1250 [==============================] - 5s 4ms/step - loss: 0.4458 - accuracy: 0.8946 - val_loss: 0.4179 - val_accuracy: 0.8958\n",
            "Epoch 4/100\n",
            "1250/1250 [==============================] - 6s 5ms/step - loss: 0.3891 - accuracy: 0.9033 - val_loss: 0.3743 - val_accuracy: 0.9041\n",
            "Epoch 5/100\n",
            "1250/1250 [==============================] - 6s 5ms/step - loss: 0.3531 - accuracy: 0.9100 - val_loss: 0.3444 - val_accuracy: 0.9105\n",
            "Epoch 6/100\n",
            "1250/1250 [==============================] - 5s 4ms/step - loss: 0.3274 - accuracy: 0.9156 - val_loss: 0.3223 - val_accuracy: 0.9157\n",
            "Epoch 7/100\n",
            "1250/1250 [==============================] - 7s 5ms/step - loss: 0.3079 - accuracy: 0.9196 - val_loss: 0.3052 - val_accuracy: 0.9197\n",
            "Epoch 8/100\n",
            "1250/1250 [==============================] - 5s 4ms/step - loss: 0.2923 - accuracy: 0.9234 - val_loss: 0.2913 - val_accuracy: 0.9224\n",
            "Epoch 9/100\n",
            "1250/1250 [==============================] - 5s 4ms/step - loss: 0.2795 - accuracy: 0.9260 - val_loss: 0.2798 - val_accuracy: 0.9249\n",
            "Epoch 10/100\n",
            "1250/1250 [==============================] - 7s 5ms/step - loss: 0.2686 - accuracy: 0.9292 - val_loss: 0.2698 - val_accuracy: 0.9277\n",
            "Epoch 11/100\n",
            "1250/1250 [==============================] - 5s 4ms/step - loss: 0.2594 - accuracy: 0.9314 - val_loss: 0.2613 - val_accuracy: 0.9294\n",
            "Epoch 12/100\n",
            "1250/1250 [==============================] - 7s 6ms/step - loss: 0.2512 - accuracy: 0.9332 - val_loss: 0.2538 - val_accuracy: 0.9313\n",
            "Epoch 13/100\n",
            "1250/1250 [==============================] - 5s 4ms/step - loss: 0.2440 - accuracy: 0.9354 - val_loss: 0.2473 - val_accuracy: 0.9328\n",
            "Epoch 14/100\n",
            "1250/1250 [==============================] - 6s 5ms/step - loss: 0.2376 - accuracy: 0.9367 - val_loss: 0.2412 - val_accuracy: 0.9342\n",
            "Epoch 15/100\n",
            "1250/1250 [==============================] - 6s 5ms/step - loss: 0.2317 - accuracy: 0.9386 - val_loss: 0.2360 - val_accuracy: 0.9346\n",
            "Epoch 16/100\n",
            "1250/1250 [==============================] - 6s 5ms/step - loss: 0.2265 - accuracy: 0.9397 - val_loss: 0.2310 - val_accuracy: 0.9364\n",
            "Epoch 17/100\n",
            "1250/1250 [==============================] - 8s 6ms/step - loss: 0.2216 - accuracy: 0.9414 - val_loss: 0.2265 - val_accuracy: 0.9370\n",
            "Epoch 18/100\n",
            "1250/1250 [==============================] - 5s 4ms/step - loss: 0.2171 - accuracy: 0.9427 - val_loss: 0.2223 - val_accuracy: 0.9382\n",
            "Epoch 19/100\n",
            "1250/1250 [==============================] - 5s 4ms/step - loss: 0.2130 - accuracy: 0.9433 - val_loss: 0.2184 - val_accuracy: 0.9389\n",
            "Epoch 20/100\n",
            "1250/1250 [==============================] - 8s 6ms/step - loss: 0.2091 - accuracy: 0.9445 - val_loss: 0.2149 - val_accuracy: 0.9400\n",
            "Epoch 21/100\n",
            "1250/1250 [==============================] - 5s 4ms/step - loss: 0.2054 - accuracy: 0.9460 - val_loss: 0.2117 - val_accuracy: 0.9413\n",
            "Epoch 22/100\n",
            "1250/1250 [==============================] - 7s 6ms/step - loss: 0.2021 - accuracy: 0.9465 - val_loss: 0.2084 - val_accuracy: 0.9420\n",
            "Epoch 23/100\n",
            "1250/1250 [==============================] - 5s 4ms/step - loss: 0.1989 - accuracy: 0.9474 - val_loss: 0.2054 - val_accuracy: 0.9425\n",
            "Epoch 24/100\n",
            "1250/1250 [==============================] - 5s 4ms/step - loss: 0.1958 - accuracy: 0.9485 - val_loss: 0.2027 - val_accuracy: 0.9434\n",
            "Epoch 25/100\n",
            "1250/1250 [==============================] - 7s 5ms/step - loss: 0.1930 - accuracy: 0.9492 - val_loss: 0.2000 - val_accuracy: 0.9444\n",
            "Epoch 26/100\n",
            "1250/1250 [==============================] - 5s 4ms/step - loss: 0.1902 - accuracy: 0.9500 - val_loss: 0.1975 - val_accuracy: 0.9443\n",
            "Epoch 27/100\n",
            "1250/1250 [==============================] - 7s 5ms/step - loss: 0.1876 - accuracy: 0.9507 - val_loss: 0.1951 - val_accuracy: 0.9456\n",
            "Epoch 28/100\n",
            "1250/1250 [==============================] - 5s 4ms/step - loss: 0.1851 - accuracy: 0.9515 - val_loss: 0.1928 - val_accuracy: 0.9462\n",
            "Epoch 29/100\n",
            "1250/1250 [==============================] - 5s 4ms/step - loss: 0.1827 - accuracy: 0.9523 - val_loss: 0.1908 - val_accuracy: 0.9469\n",
            "Epoch 30/100\n",
            "1250/1250 [==============================] - 7s 5ms/step - loss: 0.1804 - accuracy: 0.9530 - val_loss: 0.1886 - val_accuracy: 0.9475\n",
            "Epoch 31/100\n",
            "1250/1250 [==============================] - 5s 4ms/step - loss: 0.1782 - accuracy: 0.9536 - val_loss: 0.1866 - val_accuracy: 0.9480\n",
            "Epoch 32/100\n",
            "1250/1250 [==============================] - 7s 5ms/step - loss: 0.1761 - accuracy: 0.9546 - val_loss: 0.1846 - val_accuracy: 0.9485\n",
            "Epoch 33/100\n",
            "1250/1250 [==============================] - 5s 4ms/step - loss: 0.1741 - accuracy: 0.9552 - val_loss: 0.1828 - val_accuracy: 0.9489\n",
            "Epoch 34/100\n",
            "1250/1250 [==============================] - 5s 4ms/step - loss: 0.1721 - accuracy: 0.9556 - val_loss: 0.1810 - val_accuracy: 0.9496\n",
            "Epoch 35/100\n",
            "1250/1250 [==============================] - 7s 6ms/step - loss: 0.1702 - accuracy: 0.9563 - val_loss: 0.1792 - val_accuracy: 0.9498\n",
            "Epoch 36/100\n",
            "1250/1250 [==============================] - 5s 4ms/step - loss: 0.1683 - accuracy: 0.9567 - val_loss: 0.1776 - val_accuracy: 0.9503\n",
            "Epoch 37/100\n",
            "1250/1250 [==============================] - 6s 5ms/step - loss: 0.1665 - accuracy: 0.9575 - val_loss: 0.1760 - val_accuracy: 0.9507\n",
            "Epoch 38/100\n",
            "1250/1250 [==============================] - 6s 5ms/step - loss: 0.1648 - accuracy: 0.9579 - val_loss: 0.1745 - val_accuracy: 0.9511\n",
            "Epoch 39/100\n",
            "1250/1250 [==============================] - 5s 4ms/step - loss: 0.1631 - accuracy: 0.9582 - val_loss: 0.1728 - val_accuracy: 0.9520\n",
            "Epoch 40/100\n",
            "1250/1250 [==============================] - 7s 6ms/step - loss: 0.1615 - accuracy: 0.9589 - val_loss: 0.1714 - val_accuracy: 0.9523\n",
            "Epoch 41/100\n",
            "1250/1250 [==============================] - 5s 4ms/step - loss: 0.1599 - accuracy: 0.9592 - val_loss: 0.1702 - val_accuracy: 0.9527\n",
            "Epoch 42/100\n",
            "1250/1250 [==============================] - 6s 5ms/step - loss: 0.1584 - accuracy: 0.9596 - val_loss: 0.1687 - val_accuracy: 0.9534\n",
            "Epoch 43/100\n",
            "1250/1250 [==============================] - 6s 5ms/step - loss: 0.1568 - accuracy: 0.9602 - val_loss: 0.1673 - val_accuracy: 0.9540\n",
            "Epoch 44/100\n",
            "1250/1250 [==============================] - 5s 4ms/step - loss: 0.1554 - accuracy: 0.9605 - val_loss: 0.1661 - val_accuracy: 0.9543\n",
            "Epoch 45/100\n",
            "1250/1250 [==============================] - 7s 6ms/step - loss: 0.1539 - accuracy: 0.9606 - val_loss: 0.1648 - val_accuracy: 0.9547\n",
            "Epoch 46/100\n",
            "1250/1250 [==============================] - 5s 4ms/step - loss: 0.1525 - accuracy: 0.9610 - val_loss: 0.1636 - val_accuracy: 0.9549\n",
            "Epoch 47/100\n",
            "1250/1250 [==============================] - 7s 5ms/step - loss: 0.1512 - accuracy: 0.9617 - val_loss: 0.1624 - val_accuracy: 0.9553\n",
            "Epoch 48/100\n",
            "1250/1250 [==============================] - 7s 6ms/step - loss: 0.1498 - accuracy: 0.9619 - val_loss: 0.1612 - val_accuracy: 0.9559\n",
            "Epoch 49/100\n",
            "1250/1250 [==============================] - 5s 4ms/step - loss: 0.1485 - accuracy: 0.9625 - val_loss: 0.1600 - val_accuracy: 0.9561\n",
            "Epoch 50/100\n",
            "1250/1250 [==============================] - 6s 5ms/step - loss: 0.1473 - accuracy: 0.9628 - val_loss: 0.1589 - val_accuracy: 0.9564\n",
            "Epoch 51/100\n",
            "1250/1250 [==============================] - 6s 5ms/step - loss: 0.1460 - accuracy: 0.9632 - val_loss: 0.1578 - val_accuracy: 0.9568\n",
            "Epoch 52/100\n",
            "1250/1250 [==============================] - 5s 4ms/step - loss: 0.1448 - accuracy: 0.9633 - val_loss: 0.1568 - val_accuracy: 0.9570\n",
            "Epoch 53/100\n",
            "1250/1250 [==============================] - 7s 5ms/step - loss: 0.1436 - accuracy: 0.9639 - val_loss: 0.1557 - val_accuracy: 0.9571\n",
            "Epoch 54/100\n",
            "1250/1250 [==============================] - 5s 4ms/step - loss: 0.1424 - accuracy: 0.9639 - val_loss: 0.1547 - val_accuracy: 0.9573\n",
            "Epoch 55/100\n",
            "1250/1250 [==============================] - 6s 5ms/step - loss: 0.1413 - accuracy: 0.9645 - val_loss: 0.1538 - val_accuracy: 0.9576\n",
            "Epoch 56/100\n",
            "1250/1250 [==============================] - 6s 4ms/step - loss: 0.1401 - accuracy: 0.9648 - val_loss: 0.1528 - val_accuracy: 0.9578\n",
            "Epoch 57/100\n",
            "1250/1250 [==============================] - 5s 4ms/step - loss: 0.1391 - accuracy: 0.9653 - val_loss: 0.1518 - val_accuracy: 0.9584\n",
            "Epoch 58/100\n",
            "1250/1250 [==============================] - 7s 6ms/step - loss: 0.1380 - accuracy: 0.9653 - val_loss: 0.1509 - val_accuracy: 0.9585\n",
            "Epoch 59/100\n",
            "1250/1250 [==============================] - 5s 4ms/step - loss: 0.1369 - accuracy: 0.9657 - val_loss: 0.1501 - val_accuracy: 0.9584\n",
            "Epoch 60/100\n",
            "1250/1250 [==============================] - 6s 5ms/step - loss: 0.1359 - accuracy: 0.9658 - val_loss: 0.1491 - val_accuracy: 0.9590\n",
            "Epoch 61/100\n",
            "1250/1250 [==============================] - 6s 5ms/step - loss: 0.1348 - accuracy: 0.9658 - val_loss: 0.1483 - val_accuracy: 0.9593\n",
            "Epoch 62/100\n",
            "1250/1250 [==============================] - 5s 4ms/step - loss: 0.1338 - accuracy: 0.9663 - val_loss: 0.1474 - val_accuracy: 0.9588\n",
            "Epoch 63/100\n",
            "1250/1250 [==============================] - 7s 6ms/step - loss: 0.1328 - accuracy: 0.9665 - val_loss: 0.1465 - val_accuracy: 0.9597\n",
            "Epoch 64/100\n",
            "1250/1250 [==============================] - 5s 4ms/step - loss: 0.1319 - accuracy: 0.9667 - val_loss: 0.1458 - val_accuracy: 0.9600\n",
            "Epoch 65/100\n",
            "1250/1250 [==============================] - 6s 5ms/step - loss: 0.1309 - accuracy: 0.9669 - val_loss: 0.1449 - val_accuracy: 0.9602\n",
            "Epoch 66/100\n",
            "1250/1250 [==============================] - 6s 5ms/step - loss: 0.1300 - accuracy: 0.9671 - val_loss: 0.1441 - val_accuracy: 0.9601\n",
            "Epoch 67/100\n",
            "1250/1250 [==============================] - 5s 4ms/step - loss: 0.1290 - accuracy: 0.9675 - val_loss: 0.1434 - val_accuracy: 0.9605\n",
            "Epoch 68/100\n",
            "1250/1250 [==============================] - 7s 6ms/step - loss: 0.1281 - accuracy: 0.9674 - val_loss: 0.1426 - val_accuracy: 0.9607\n",
            "Epoch 69/100\n",
            "1250/1250 [==============================] - 5s 4ms/step - loss: 0.1272 - accuracy: 0.9678 - val_loss: 0.1419 - val_accuracy: 0.9611\n",
            "Epoch 70/100\n",
            "1250/1250 [==============================] - 5s 4ms/step - loss: 0.1263 - accuracy: 0.9679 - val_loss: 0.1411 - val_accuracy: 0.9614\n",
            "Epoch 71/100\n",
            "1250/1250 [==============================] - 7s 6ms/step - loss: 0.1255 - accuracy: 0.9681 - val_loss: 0.1404 - val_accuracy: 0.9615\n",
            "Epoch 72/100\n",
            "1250/1250 [==============================] - 5s 4ms/step - loss: 0.1246 - accuracy: 0.9683 - val_loss: 0.1397 - val_accuracy: 0.9614\n",
            "Epoch 73/100\n",
            "1250/1250 [==============================] - 6s 5ms/step - loss: 0.1238 - accuracy: 0.9682 - val_loss: 0.1390 - val_accuracy: 0.9619\n",
            "Epoch 74/100\n",
            "1250/1250 [==============================] - 6s 4ms/step - loss: 0.1229 - accuracy: 0.9685 - val_loss: 0.1383 - val_accuracy: 0.9620\n",
            "Epoch 75/100\n",
            "1250/1250 [==============================] - 5s 4ms/step - loss: 0.1221 - accuracy: 0.9686 - val_loss: 0.1376 - val_accuracy: 0.9621\n",
            "Epoch 76/100\n",
            "1250/1250 [==============================] - 7s 6ms/step - loss: 0.1213 - accuracy: 0.9688 - val_loss: 0.1369 - val_accuracy: 0.9624\n",
            "Epoch 77/100\n",
            "1250/1250 [==============================] - 5s 4ms/step - loss: 0.1205 - accuracy: 0.9689 - val_loss: 0.1363 - val_accuracy: 0.9628\n",
            "Epoch 78/100\n",
            "1250/1250 [==============================] - 6s 5ms/step - loss: 0.1198 - accuracy: 0.9694 - val_loss: 0.1356 - val_accuracy: 0.9627\n",
            "Epoch 79/100\n",
            "1250/1250 [==============================] - 7s 6ms/step - loss: 0.1190 - accuracy: 0.9698 - val_loss: 0.1350 - val_accuracy: 0.9628\n",
            "Epoch 80/100\n",
            "1250/1250 [==============================] - 5s 4ms/step - loss: 0.1182 - accuracy: 0.9699 - val_loss: 0.1344 - val_accuracy: 0.9630\n",
            "Epoch 81/100\n",
            "1250/1250 [==============================] - 7s 6ms/step - loss: 0.1175 - accuracy: 0.9702 - val_loss: 0.1337 - val_accuracy: 0.9630\n",
            "Epoch 82/100\n",
            "1250/1250 [==============================] - 5s 4ms/step - loss: 0.1167 - accuracy: 0.9703 - val_loss: 0.1332 - val_accuracy: 0.9637\n",
            "Epoch 83/100\n",
            "1250/1250 [==============================] - 6s 5ms/step - loss: 0.1160 - accuracy: 0.9707 - val_loss: 0.1327 - val_accuracy: 0.9637\n",
            "Epoch 84/100\n",
            "1250/1250 [==============================] - 6s 5ms/step - loss: 0.1153 - accuracy: 0.9708 - val_loss: 0.1320 - val_accuracy: 0.9634\n",
            "Epoch 85/100\n",
            "1250/1250 [==============================] - 5s 4ms/step - loss: 0.1146 - accuracy: 0.9712 - val_loss: 0.1315 - val_accuracy: 0.9638\n",
            "Epoch 86/100\n",
            "1250/1250 [==============================] - 7s 6ms/step - loss: 0.1139 - accuracy: 0.9713 - val_loss: 0.1310 - val_accuracy: 0.9639\n",
            "Epoch 87/100\n",
            "1250/1250 [==============================] - 5s 4ms/step - loss: 0.1132 - accuracy: 0.9714 - val_loss: 0.1303 - val_accuracy: 0.9640\n",
            "Epoch 88/100\n",
            "1250/1250 [==============================] - 6s 5ms/step - loss: 0.1125 - accuracy: 0.9718 - val_loss: 0.1298 - val_accuracy: 0.9640\n",
            "Epoch 89/100\n",
            "1250/1250 [==============================] - 6s 5ms/step - loss: 0.1119 - accuracy: 0.9718 - val_loss: 0.1292 - val_accuracy: 0.9643\n",
            "Epoch 90/100\n",
            "1250/1250 [==============================] - 5s 4ms/step - loss: 0.1112 - accuracy: 0.9720 - val_loss: 0.1287 - val_accuracy: 0.9641\n",
            "Epoch 91/100\n",
            "1250/1250 [==============================] - 7s 6ms/step - loss: 0.1105 - accuracy: 0.9724 - val_loss: 0.1282 - val_accuracy: 0.9647\n",
            "Epoch 92/100\n",
            "1250/1250 [==============================] - 5s 4ms/step - loss: 0.1099 - accuracy: 0.9725 - val_loss: 0.1277 - val_accuracy: 0.9643\n",
            "Epoch 93/100\n",
            "1250/1250 [==============================] - 6s 5ms/step - loss: 0.1093 - accuracy: 0.9725 - val_loss: 0.1272 - val_accuracy: 0.9650\n",
            "Epoch 94/100\n",
            "1250/1250 [==============================] - 6s 5ms/step - loss: 0.1086 - accuracy: 0.9728 - val_loss: 0.1267 - val_accuracy: 0.9648\n",
            "Epoch 95/100\n",
            "1250/1250 [==============================] - 5s 4ms/step - loss: 0.1080 - accuracy: 0.9729 - val_loss: 0.1263 - val_accuracy: 0.9653\n",
            "Epoch 96/100\n",
            "1250/1250 [==============================] - 7s 5ms/step - loss: 0.1074 - accuracy: 0.9730 - val_loss: 0.1257 - val_accuracy: 0.9653\n",
            "Epoch 97/100\n",
            "1250/1250 [==============================] - 7s 5ms/step - loss: 0.1068 - accuracy: 0.9729 - val_loss: 0.1252 - val_accuracy: 0.9655\n",
            "Epoch 98/100\n",
            "1250/1250 [==============================] - 7s 6ms/step - loss: 0.1062 - accuracy: 0.9733 - val_loss: 0.1248 - val_accuracy: 0.9655\n",
            "Epoch 99/100\n",
            "1250/1250 [==============================] - 5s 4ms/step - loss: 0.1056 - accuracy: 0.9736 - val_loss: 0.1243 - val_accuracy: 0.9657\n",
            "Epoch 100/100\n",
            "1250/1250 [==============================] - 6s 5ms/step - loss: 0.1050 - accuracy: 0.9736 - val_loss: 0.1238 - val_accuracy: 0.9657\n"
          ]
        }
      ],
      "source": [
        "history1 = model1.fit(X_train_normalized , y_train_onehot, validation_data=(X_valid_normalized, y_valid_onehot), callbacks=[early_stopping],batch_size=32, epochs=100)"
      ]
    },
    {
      "cell_type": "markdown",
      "metadata": {
        "id": "uo3cXyfuZcAs"
      },
      "source": [
        "<p dir=rtl style=\"direction: rtl;text-align: justify;line-height:200%;font-family:vazir;font-size:medium\">\n",
        "<font face=\"vazir\" size=3>\n",
        "عملکرد مدل نهایی را روی مجموعه‌ی اعتبارسنجی گزارش کنید. علاوه بر این نمودار دقت مدل را برای مجموعه‌ی آموزشی و آزمون در یک نمودار واحد نشان دهید.\n",
        "</font>\n",
        "</p>"
      ]
    },
    {
      "cell_type": "code",
      "source": [
        "loss1, accuracy1 = model1.evaluate(X_valid_normalized  ,  y_valid_onehot, verbose = 0) # To-Do (Evaluate the model on train data)\n",
        "print(f\"Valid Loss: {loss1:.4f}, Valid Accuracy: {accuracy1:.4f}\")"
      ],
      "metadata": {
        "colab": {
          "base_uri": "https://localhost:8080/"
        },
        "id": "GVHLY3goZF9c",
        "outputId": "656290fe-acec-4271-945c-f76b44617f16"
      },
      "execution_count": null,
      "outputs": [
        {
          "output_type": "stream",
          "name": "stdout",
          "text": [
            "Valid Loss: 0.1238, Valid Accuracy: 0.9657\n"
          ]
        }
      ]
    },
    {
      "cell_type": "code",
      "source": [
        "loss1_tr, accuracy1_tr = model1.evaluate(X_train_normalized ,y_train_onehot)\n",
        "print(f\"Train Loss: {loss1_tr:.4f}, Train Accuracy: {accuracy1_tr :.4f}\")"
      ],
      "metadata": {
        "colab": {
          "base_uri": "https://localhost:8080/"
        },
        "id": "7InMli5WaF4u",
        "outputId": "9bd12f4b-7ec6-4955-fd0a-4a2b510f549d"
      },
      "execution_count": null,
      "outputs": [
        {
          "output_type": "stream",
          "name": "stdout",
          "text": [
            "1250/1250 [==============================] - 5s 4ms/step - loss: 0.1044 - accuracy: 0.9737\n",
            "Train Loss: 0.1044, Train Accuracy: 0.9737\n"
          ]
        }
      ]
    },
    {
      "cell_type": "code",
      "source": [
        "tr_acc = history1.history['accuracy']\n",
        "tr_loss = history1.history['loss']\n",
        "val_acc =history1.history['val_accuracy']\n",
        "val_loss = history1.history['val_loss']\n",
        "\n",
        "epochs = [i+1 for i in range(len(tr_acc))]\n",
        "\n",
        "plt.figure(figsize=(20, 8))\n",
        "plt.subplot(1, 2, 1)\n",
        "plt.plot(epochs, tr_loss, 'r', label='Train Loss')\n",
        "plt.plot(epochs, val_loss, 'g', label='Val Loss')\n",
        "plt.title('Loss')\n",
        "plt.legend()\n",
        "plt.xlabel('Epochs')\n",
        "plt.ylabel('Loss')\n",
        "\n",
        "plt.subplot(1, 2, 2)\n",
        "plt.plot(epochs, tr_acc, 'r', label='Train Accuracy')\n",
        "plt.plot(epochs, val_acc, 'g', label='Val Accuracy')\n",
        "plt.title('Accuracy')\n",
        "plt.legend()\n",
        "plt.xlabel('Epochs')\n",
        "plt.ylabel('Accuracy')\n",
        "\n",
        "plt.tight_layout()\n",
        "plt.show()"
      ],
      "metadata": {
        "colab": {
          "base_uri": "https://localhost:8080/",
          "height": 610
        },
        "id": "nMuMkN56bmIx",
        "outputId": "d81dc965-fff0-4598-bd29-4d338f33490b"
      },
      "execution_count": null,
      "outputs": [
        {
          "output_type": "display_data",
          "data": {
            "text/plain": [
              "<Figure size 2000x800 with 2 Axes>"
            ],
            "image/png": "[encoded data removed]"
          },
          "metadata": {}
        }
      ]
    },
    {
      "cell_type": "code",
      "source": [
        "loss1_test, accuracy1_test = model1.evaluate(X_test_normalized ,y_test_onehot)\n",
        "print(f\"Test Loss: {loss1_tr:.4f}, Test Accuracy: {accuracy1_tr :.4f}\")"
      ],
      "metadata": {
        "colab": {
          "base_uri": "https://localhost:8080/"
        },
        "id": "A_z7wySMcwQv",
        "outputId": "a0b0dba6-ca9c-400f-b65b-4db16373d837"
      },
      "execution_count": null,
      "outputs": [
        {
          "output_type": "stream",
          "name": "stdout",
          "text": [
            "313/313 [==============================] - 1s 4ms/step - loss: 0.1249 - accuracy: 0.9641\n",
            "Test Loss: 0.1044, Test Accuracy: 0.9737\n"
          ]
        }
      ]
    },
    {
      "cell_type": "code",
      "execution_count": null,
      "metadata": {
        "id": "TRh6NtrnZcAt"
      },
      "outputs": [],
      "source": [
        "# To-Do (Final accuracy on validation data)"
      ]
    },
    {
      "cell_type": "code",
      "execution_count": null,
      "metadata": {
        "id": "YbbqXVD5ZcAt"
      },
      "outputs": [],
      "source": [
        "# To-Do (Plot training and validation accuracy)"
      ]
    },
    {
      "cell_type": "markdown",
      "metadata": {
        "id": "MkpIp8TjZcAt"
      },
      "source": [
        "<h3 align=right style=\"line-height:200%;font-family:vazir;color:#0099cc\">\n",
        "<font face=\"vazir\" color=\"#0099cc\">\n",
        "مدل دوم\n",
        "</font>\n",
        "</h3>\n",
        "\n",
        "<p dir=rtl style=\"direction: rtl;text-align: justify;line-height:200%;font-family:vazir;font-size:medium\">\n",
        "<font face=\"vazir\" size=3>\n",
        "اکنون مدل دیگری طراحی کنید که مشابه با مدل قبل بوده و تنها تابع فعال‌ساز آن در لایه‌ی نخست <code>ReLU</code> باشد. مراحل قبل را در این مدل نیز تکرار کنید.\n",
        "</font>\n",
        "</p>"
      ]
    },
    {
      "cell_type": "code",
      "execution_count": null,
      "metadata": {
        "id": "Lwdrx0THZcAu"
      },
      "outputs": [],
      "source": [
        "model2 = Sequential()\n",
        "model2.add(layers.Dense(64,activation='relu',input_shape=(3844,)))\n",
        "model2.add(layers.Dense(10, activation='softmax'))\n",
        "# Add a dense layer with 64 neurons and ReLU activation\n",
        "# Add a dense layer with 10 neurons and softmax activation"
      ]
    },
    {
      "cell_type": "code",
      "execution_count": null,
      "metadata": {
        "id": "ndEJn8CqZcAu",
        "colab": {
          "base_uri": "https://localhost:8080/"
        },
        "outputId": "ef8c97e5-3aaa-4f00-e474-5ec987c8cf36"
      },
      "outputs": [
        {
          "output_type": "execute_result",
          "data": {
            "text/plain": [
              "<keras.src.callbacks.EarlyStopping at 0x790a8742c7c0>"
            ]
          },
          "metadata": {},
          "execution_count": 37
        }
      ],
      "source": [
        "optimizer_SGD = keras.optimizers.SGD(learning_rate=0.001)\n",
        "model2.compile( loss= keras.losses.categorical_crossentropy, optimizer=optimizer_SGD, metrics=['accuracy'])\n",
        "EarlyStopping(monitor='val_loss', patience=10)"
      ]
    },
    {
      "cell_type": "code",
      "execution_count": null,
      "metadata": {
        "id": "MKz1HD0CZcAu",
        "colab": {
          "base_uri": "https://localhost:8080/"
        },
        "outputId": "b0acf2df-677b-4573-92c2-71e4cfef8396"
      },
      "outputs": [
        {
          "output_type": "stream",
          "name": "stdout",
          "text": [
            "Epoch 1/100\n",
            "1250/1250 [==============================] - 8s 6ms/step - loss: 1.3509 - accuracy: 0.7179 - val_loss: 0.7713 - val_accuracy: 0.8574\n",
            "Epoch 2/100\n",
            "1250/1250 [==============================] - 5s 4ms/step - loss: 0.5947 - accuracy: 0.8761 - val_loss: 0.4969 - val_accuracy: 0.8831\n",
            "Epoch 3/100\n",
            "1250/1250 [==============================] - 8s 6ms/step - loss: 0.4372 - accuracy: 0.8921 - val_loss: 0.4051 - val_accuracy: 0.8957\n",
            "Epoch 4/100\n",
            "1250/1250 [==============================] - 5s 4ms/step - loss: 0.3707 - accuracy: 0.9037 - val_loss: 0.3569 - val_accuracy: 0.9048\n",
            "Epoch 5/100\n",
            "1250/1250 [==============================] - 5s 4ms/step - loss: 0.3318 - accuracy: 0.9121 - val_loss: 0.3252 - val_accuracy: 0.9127\n",
            "Epoch 6/100\n",
            "1250/1250 [==============================] - 10s 8ms/step - loss: 0.3055 - accuracy: 0.9190 - val_loss: 0.3031 - val_accuracy: 0.9181\n",
            "Epoch 7/100\n",
            "1250/1250 [==============================] - 5s 4ms/step - loss: 0.2862 - accuracy: 0.9234 - val_loss: 0.2861 - val_accuracy: 0.9236\n",
            "Epoch 8/100\n",
            "1250/1250 [==============================] - 7s 6ms/step - loss: 0.2712 - accuracy: 0.9272 - val_loss: 0.2728 - val_accuracy: 0.9266\n",
            "Epoch 9/100\n",
            "1250/1250 [==============================] - 5s 4ms/step - loss: 0.2591 - accuracy: 0.9306 - val_loss: 0.2623 - val_accuracy: 0.9286\n",
            "Epoch 10/100\n",
            "1250/1250 [==============================] - 6s 5ms/step - loss: 0.2490 - accuracy: 0.9330 - val_loss: 0.2530 - val_accuracy: 0.9311\n",
            "Epoch 11/100\n",
            "1250/1250 [==============================] - 8s 6ms/step - loss: 0.2405 - accuracy: 0.9355 - val_loss: 0.2453 - val_accuracy: 0.9332\n",
            "Epoch 12/100\n",
            "1250/1250 [==============================] - 5s 4ms/step - loss: 0.2331 - accuracy: 0.9379 - val_loss: 0.2385 - val_accuracy: 0.9361\n",
            "Epoch 13/100\n",
            "1250/1250 [==============================] - 6s 5ms/step - loss: 0.2267 - accuracy: 0.9396 - val_loss: 0.2324 - val_accuracy: 0.9371\n",
            "Epoch 14/100\n",
            "1250/1250 [==============================] - 5s 4ms/step - loss: 0.2209 - accuracy: 0.9409 - val_loss: 0.2272 - val_accuracy: 0.9386\n",
            "Epoch 15/100\n",
            "1250/1250 [==============================] - 5s 4ms/step - loss: 0.2158 - accuracy: 0.9421 - val_loss: 0.2225 - val_accuracy: 0.9402\n",
            "Epoch 16/100\n",
            "1250/1250 [==============================] - 7s 5ms/step - loss: 0.2111 - accuracy: 0.9438 - val_loss: 0.2181 - val_accuracy: 0.9410\n",
            "Epoch 17/100\n",
            "1250/1250 [==============================] - 5s 4ms/step - loss: 0.2069 - accuracy: 0.9447 - val_loss: 0.2144 - val_accuracy: 0.9414\n",
            "Epoch 18/100\n",
            "1250/1250 [==============================] - 6s 5ms/step - loss: 0.2029 - accuracy: 0.9456 - val_loss: 0.2109 - val_accuracy: 0.9423\n",
            "Epoch 19/100\n",
            "1250/1250 [==============================] - 6s 5ms/step - loss: 0.1993 - accuracy: 0.9466 - val_loss: 0.2074 - val_accuracy: 0.9435\n",
            "Epoch 20/100\n",
            "1250/1250 [==============================] - 5s 4ms/step - loss: 0.1959 - accuracy: 0.9473 - val_loss: 0.2043 - val_accuracy: 0.9453\n",
            "Epoch 21/100\n",
            "1250/1250 [==============================] - 7s 6ms/step - loss: 0.1927 - accuracy: 0.9483 - val_loss: 0.2014 - val_accuracy: 0.9460\n",
            "Epoch 22/100\n",
            "1250/1250 [==============================] - 5s 4ms/step - loss: 0.1898 - accuracy: 0.9487 - val_loss: 0.1988 - val_accuracy: 0.9469\n",
            "Epoch 23/100\n",
            "1250/1250 [==============================] - 6s 5ms/step - loss: 0.1870 - accuracy: 0.9498 - val_loss: 0.1963 - val_accuracy: 0.9482\n",
            "Epoch 24/100\n",
            "1250/1250 [==============================] - 6s 5ms/step - loss: 0.1844 - accuracy: 0.9505 - val_loss: 0.1938 - val_accuracy: 0.9494\n",
            "Epoch 25/100\n",
            "1250/1250 [==============================] - 5s 4ms/step - loss: 0.1818 - accuracy: 0.9513 - val_loss: 0.1914 - val_accuracy: 0.9496\n",
            "Epoch 26/100\n",
            "1250/1250 [==============================] - 7s 5ms/step - loss: 0.1794 - accuracy: 0.9520 - val_loss: 0.1893 - val_accuracy: 0.9506\n",
            "Epoch 27/100\n",
            "1250/1250 [==============================] - 5s 4ms/step - loss: 0.1771 - accuracy: 0.9528 - val_loss: 0.1873 - val_accuracy: 0.9517\n",
            "Epoch 28/100\n",
            "1250/1250 [==============================] - 5s 4ms/step - loss: 0.1749 - accuracy: 0.9538 - val_loss: 0.1852 - val_accuracy: 0.9515\n",
            "Epoch 29/100\n",
            "1250/1250 [==============================] - 7s 6ms/step - loss: 0.1728 - accuracy: 0.9542 - val_loss: 0.1832 - val_accuracy: 0.9525\n",
            "Epoch 30/100\n",
            "1250/1250 [==============================] - 5s 4ms/step - loss: 0.1707 - accuracy: 0.9550 - val_loss: 0.1816 - val_accuracy: 0.9529\n",
            "Epoch 31/100\n",
            "1250/1250 [==============================] - 6s 5ms/step - loss: 0.1688 - accuracy: 0.9554 - val_loss: 0.1798 - val_accuracy: 0.9532\n",
            "Epoch 32/100\n",
            "1250/1250 [==============================] - 5s 4ms/step - loss: 0.1668 - accuracy: 0.9564 - val_loss: 0.1782 - val_accuracy: 0.9532\n",
            "Epoch 33/100\n",
            "1250/1250 [==============================] - 5s 4ms/step - loss: 0.1650 - accuracy: 0.9571 - val_loss: 0.1764 - val_accuracy: 0.9542\n",
            "Epoch 34/100\n",
            "1250/1250 [==============================] - 7s 5ms/step - loss: 0.1632 - accuracy: 0.9574 - val_loss: 0.1749 - val_accuracy: 0.9538\n",
            "Epoch 35/100\n",
            "1250/1250 [==============================] - 5s 4ms/step - loss: 0.1615 - accuracy: 0.9577 - val_loss: 0.1733 - val_accuracy: 0.9550\n",
            "Epoch 36/100\n",
            "1250/1250 [==============================] - 6s 5ms/step - loss: 0.1598 - accuracy: 0.9585 - val_loss: 0.1720 - val_accuracy: 0.9548\n",
            "Epoch 37/100\n",
            "1250/1250 [==============================] - 6s 5ms/step - loss: 0.1582 - accuracy: 0.9587 - val_loss: 0.1705 - val_accuracy: 0.9553\n",
            "Epoch 38/100\n",
            "1250/1250 [==============================] - 5s 4ms/step - loss: 0.1566 - accuracy: 0.9591 - val_loss: 0.1691 - val_accuracy: 0.9552\n",
            "Epoch 39/100\n",
            "1250/1250 [==============================] - 7s 6ms/step - loss: 0.1550 - accuracy: 0.9597 - val_loss: 0.1677 - val_accuracy: 0.9558\n",
            "Epoch 40/100\n",
            "1250/1250 [==============================] - 5s 4ms/step - loss: 0.1535 - accuracy: 0.9601 - val_loss: 0.1665 - val_accuracy: 0.9555\n",
            "Epoch 41/100\n",
            "1250/1250 [==============================] - 6s 4ms/step - loss: 0.1520 - accuracy: 0.9604 - val_loss: 0.1654 - val_accuracy: 0.9556\n",
            "Epoch 42/100\n",
            "1250/1250 [==============================] - 8s 7ms/step - loss: 0.1506 - accuracy: 0.9609 - val_loss: 0.1639 - val_accuracy: 0.9558\n",
            "Epoch 43/100\n",
            "1250/1250 [==============================] - 5s 4ms/step - loss: 0.1492 - accuracy: 0.9614 - val_loss: 0.1626 - val_accuracy: 0.9561\n",
            "Epoch 44/100\n",
            "1250/1250 [==============================] - 8s 6ms/step - loss: 0.1477 - accuracy: 0.9618 - val_loss: 0.1613 - val_accuracy: 0.9565\n",
            "Epoch 45/100\n",
            "1250/1250 [==============================] - 5s 4ms/step - loss: 0.1464 - accuracy: 0.9620 - val_loss: 0.1603 - val_accuracy: 0.9563\n",
            "Epoch 46/100\n",
            "1250/1250 [==============================] - 5s 4ms/step - loss: 0.1450 - accuracy: 0.9629 - val_loss: 0.1597 - val_accuracy: 0.9569\n",
            "Epoch 47/100\n",
            "1250/1250 [==============================] - 7s 5ms/step - loss: 0.1437 - accuracy: 0.9624 - val_loss: 0.1581 - val_accuracy: 0.9575\n",
            "Epoch 48/100\n",
            "1250/1250 [==============================] - 5s 4ms/step - loss: 0.1425 - accuracy: 0.9632 - val_loss: 0.1570 - val_accuracy: 0.9574\n",
            "Epoch 49/100\n",
            "1250/1250 [==============================] - 6s 5ms/step - loss: 0.1412 - accuracy: 0.9636 - val_loss: 0.1559 - val_accuracy: 0.9574\n",
            "Epoch 50/100\n",
            "1250/1250 [==============================] - 6s 5ms/step - loss: 0.1399 - accuracy: 0.9638 - val_loss: 0.1549 - val_accuracy: 0.9577\n",
            "Epoch 51/100\n",
            "1250/1250 [==============================] - 5s 4ms/step - loss: 0.1388 - accuracy: 0.9644 - val_loss: 0.1539 - val_accuracy: 0.9576\n",
            "Epoch 52/100\n",
            "1250/1250 [==============================] - 7s 5ms/step - loss: 0.1375 - accuracy: 0.9646 - val_loss: 0.1529 - val_accuracy: 0.9580\n",
            "Epoch 53/100\n",
            "1250/1250 [==============================] - 5s 4ms/step - loss: 0.1364 - accuracy: 0.9647 - val_loss: 0.1517 - val_accuracy: 0.9582\n",
            "Epoch 54/100\n",
            "1250/1250 [==============================] - 6s 4ms/step - loss: 0.1353 - accuracy: 0.9652 - val_loss: 0.1508 - val_accuracy: 0.9583\n",
            "Epoch 55/100\n",
            "1250/1250 [==============================] - 6s 5ms/step - loss: 0.1341 - accuracy: 0.9656 - val_loss: 0.1500 - val_accuracy: 0.9589\n",
            "Epoch 56/100\n",
            "1250/1250 [==============================] - 5s 4ms/step - loss: 0.1330 - accuracy: 0.9659 - val_loss: 0.1489 - val_accuracy: 0.9592\n",
            "Epoch 57/100\n",
            "1250/1250 [==============================] - 7s 6ms/step - loss: 0.1319 - accuracy: 0.9661 - val_loss: 0.1480 - val_accuracy: 0.9600\n",
            "Epoch 58/100\n",
            "1250/1250 [==============================] - 5s 4ms/step - loss: 0.1308 - accuracy: 0.9665 - val_loss: 0.1473 - val_accuracy: 0.9602\n",
            "Epoch 59/100\n",
            "1250/1250 [==============================] - 5s 4ms/step - loss: 0.1298 - accuracy: 0.9668 - val_loss: 0.1462 - val_accuracy: 0.9602\n",
            "Epoch 60/100\n",
            "1250/1250 [==============================] - 7s 5ms/step - loss: 0.1287 - accuracy: 0.9673 - val_loss: 0.1456 - val_accuracy: 0.9598\n",
            "Epoch 61/100\n",
            "1250/1250 [==============================] - 5s 4ms/step - loss: 0.1277 - accuracy: 0.9674 - val_loss: 0.1446 - val_accuracy: 0.9606\n",
            "Epoch 62/100\n",
            "1250/1250 [==============================] - 6s 5ms/step - loss: 0.1267 - accuracy: 0.9679 - val_loss: 0.1439 - val_accuracy: 0.9607\n",
            "Epoch 63/100\n",
            "1250/1250 [==============================] - 5s 4ms/step - loss: 0.1257 - accuracy: 0.9679 - val_loss: 0.1433 - val_accuracy: 0.9607\n",
            "Epoch 64/100\n",
            "1250/1250 [==============================] - 5s 4ms/step - loss: 0.1248 - accuracy: 0.9680 - val_loss: 0.1422 - val_accuracy: 0.9610\n",
            "Epoch 65/100\n",
            "1250/1250 [==============================] - 7s 6ms/step - loss: 0.1238 - accuracy: 0.9683 - val_loss: 0.1413 - val_accuracy: 0.9613\n",
            "Epoch 66/100\n",
            "1250/1250 [==============================] - 5s 4ms/step - loss: 0.1228 - accuracy: 0.9687 - val_loss: 0.1406 - val_accuracy: 0.9616\n",
            "Epoch 67/100\n",
            "1250/1250 [==============================] - 6s 5ms/step - loss: 0.1219 - accuracy: 0.9689 - val_loss: 0.1398 - val_accuracy: 0.9620\n",
            "Epoch 68/100\n",
            "1250/1250 [==============================] - 5s 4ms/step - loss: 0.1209 - accuracy: 0.9693 - val_loss: 0.1390 - val_accuracy: 0.9621\n",
            "Epoch 69/100\n",
            "1250/1250 [==============================] - 5s 4ms/step - loss: 0.1201 - accuracy: 0.9696 - val_loss: 0.1383 - val_accuracy: 0.9623\n",
            "Epoch 70/100\n",
            "1250/1250 [==============================] - 7s 6ms/step - loss: 0.1192 - accuracy: 0.9696 - val_loss: 0.1375 - val_accuracy: 0.9619\n",
            "Epoch 71/100\n",
            "1250/1250 [==============================] - 5s 4ms/step - loss: 0.1183 - accuracy: 0.9698 - val_loss: 0.1371 - val_accuracy: 0.9627\n",
            "Epoch 72/100\n",
            "1250/1250 [==============================] - 6s 5ms/step - loss: 0.1174 - accuracy: 0.9701 - val_loss: 0.1362 - val_accuracy: 0.9633\n",
            "Epoch 73/100\n",
            "1250/1250 [==============================] - 8s 6ms/step - loss: 0.1165 - accuracy: 0.9704 - val_loss: 0.1355 - val_accuracy: 0.9630\n",
            "Epoch 74/100\n",
            "1250/1250 [==============================] - 5s 4ms/step - loss: 0.1157 - accuracy: 0.9707 - val_loss: 0.1348 - val_accuracy: 0.9637\n",
            "Epoch 75/100\n",
            "1250/1250 [==============================] - 7s 6ms/step - loss: 0.1148 - accuracy: 0.9711 - val_loss: 0.1340 - val_accuracy: 0.9641\n",
            "Epoch 76/100\n",
            "1250/1250 [==============================] - 5s 4ms/step - loss: 0.1140 - accuracy: 0.9712 - val_loss: 0.1335 - val_accuracy: 0.9641\n",
            "Epoch 77/100\n",
            "1250/1250 [==============================] - 5s 4ms/step - loss: 0.1132 - accuracy: 0.9714 - val_loss: 0.1328 - val_accuracy: 0.9640\n",
            "Epoch 78/100\n",
            "1250/1250 [==============================] - 7s 6ms/step - loss: 0.1124 - accuracy: 0.9717 - val_loss: 0.1321 - val_accuracy: 0.9645\n",
            "Epoch 79/100\n",
            "1250/1250 [==============================] - 5s 4ms/step - loss: 0.1116 - accuracy: 0.9720 - val_loss: 0.1316 - val_accuracy: 0.9644\n",
            "Epoch 80/100\n",
            "1250/1250 [==============================] - 6s 5ms/step - loss: 0.1108 - accuracy: 0.9722 - val_loss: 0.1310 - val_accuracy: 0.9647\n",
            "Epoch 81/100\n",
            "1250/1250 [==============================] - 5s 4ms/step - loss: 0.1101 - accuracy: 0.9724 - val_loss: 0.1303 - val_accuracy: 0.9650\n",
            "Epoch 82/100\n",
            "1250/1250 [==============================] - 5s 4ms/step - loss: 0.1093 - accuracy: 0.9722 - val_loss: 0.1297 - val_accuracy: 0.9650\n",
            "Epoch 83/100\n",
            "1250/1250 [==============================] - 7s 5ms/step - loss: 0.1085 - accuracy: 0.9728 - val_loss: 0.1290 - val_accuracy: 0.9655\n",
            "Epoch 84/100\n",
            "1250/1250 [==============================] - 5s 4ms/step - loss: 0.1078 - accuracy: 0.9730 - val_loss: 0.1286 - val_accuracy: 0.9658\n",
            "Epoch 85/100\n",
            "1250/1250 [==============================] - 6s 5ms/step - loss: 0.1071 - accuracy: 0.9731 - val_loss: 0.1280 - val_accuracy: 0.9662\n",
            "Epoch 86/100\n",
            "1250/1250 [==============================] - 5s 4ms/step - loss: 0.1063 - accuracy: 0.9735 - val_loss: 0.1276 - val_accuracy: 0.9659\n",
            "Epoch 87/100\n",
            "1250/1250 [==============================] - 5s 4ms/step - loss: 0.1056 - accuracy: 0.9734 - val_loss: 0.1268 - val_accuracy: 0.9661\n",
            "Epoch 88/100\n",
            "1250/1250 [==============================] - 7s 5ms/step - loss: 0.1050 - accuracy: 0.9739 - val_loss: 0.1263 - val_accuracy: 0.9665\n",
            "Epoch 89/100\n",
            "1250/1250 [==============================] - 5s 4ms/step - loss: 0.1042 - accuracy: 0.9739 - val_loss: 0.1257 - val_accuracy: 0.9669\n",
            "Epoch 90/100\n",
            "1250/1250 [==============================] - 6s 5ms/step - loss: 0.1036 - accuracy: 0.9740 - val_loss: 0.1252 - val_accuracy: 0.9668\n",
            "Epoch 91/100\n",
            "1250/1250 [==============================] - 6s 5ms/step - loss: 0.1028 - accuracy: 0.9743 - val_loss: 0.1247 - val_accuracy: 0.9671\n",
            "Epoch 92/100\n",
            "1250/1250 [==============================] - 5s 4ms/step - loss: 0.1022 - accuracy: 0.9745 - val_loss: 0.1242 - val_accuracy: 0.9671\n",
            "Epoch 93/100\n",
            "1250/1250 [==============================] - 7s 5ms/step - loss: 0.1015 - accuracy: 0.9745 - val_loss: 0.1237 - val_accuracy: 0.9670\n",
            "Epoch 94/100\n",
            "1250/1250 [==============================] - 5s 4ms/step - loss: 0.1009 - accuracy: 0.9749 - val_loss: 0.1233 - val_accuracy: 0.9672\n",
            "Epoch 95/100\n",
            "1250/1250 [==============================] - 6s 5ms/step - loss: 0.1002 - accuracy: 0.9750 - val_loss: 0.1228 - val_accuracy: 0.9673\n",
            "Epoch 96/100\n",
            "1250/1250 [==============================] - 6s 5ms/step - loss: 0.0996 - accuracy: 0.9752 - val_loss: 0.1222 - val_accuracy: 0.9673\n",
            "Epoch 97/100\n",
            "1250/1250 [==============================] - 5s 4ms/step - loss: 0.0989 - accuracy: 0.9755 - val_loss: 0.1217 - val_accuracy: 0.9677\n",
            "Epoch 98/100\n",
            "1250/1250 [==============================] - 7s 6ms/step - loss: 0.0983 - accuracy: 0.9754 - val_loss: 0.1212 - val_accuracy: 0.9674\n",
            "Epoch 99/100\n",
            "1250/1250 [==============================] - 5s 4ms/step - loss: 0.0977 - accuracy: 0.9757 - val_loss: 0.1208 - val_accuracy: 0.9679\n",
            "Epoch 100/100\n",
            "1250/1250 [==============================] - 6s 5ms/step - loss: 0.0971 - accuracy: 0.9757 - val_loss: 0.1203 - val_accuracy: 0.9681\n"
          ]
        }
      ],
      "source": [
        "history2 = model2.fit(X_train_normalized , y_train_onehot, validation_data=(X_valid_normalized, y_valid_onehot), callbacks=[early_stopping],batch_size=32, epochs=100)"
      ]
    },
    {
      "cell_type": "code",
      "source": [
        "loss2, accuracy2 = model2.evaluate(X_valid_normalized  ,  y_valid_onehot, verbose = 0) # To-Do (Evaluate the model on train data)\n",
        "print(f\"Valid Loss: {loss2:.4f}, Valid Accuracy: {accuracy2:.4f}\")"
      ],
      "metadata": {
        "colab": {
          "base_uri": "https://localhost:8080/"
        },
        "id": "hGsaEMIjjT1E",
        "outputId": "9a0b6917-3346-4b3f-b81a-b449e6e6b48c"
      },
      "execution_count": null,
      "outputs": [
        {
          "output_type": "stream",
          "name": "stdout",
          "text": [
            "Valid Loss: 0.1203, Valid Accuracy: 0.9681\n"
          ]
        }
      ]
    },
    {
      "cell_type": "code",
      "source": [
        "loss2_tr, accuracy2_tr = model2.evaluate(X_train_normalized ,y_train_onehot)\n",
        "print(f\"Train Loss: {loss2_tr:.4f}, Train Accuracy: {accuracy2_tr :.4f}\")"
      ],
      "metadata": {
        "colab": {
          "base_uri": "https://localhost:8080/"
        },
        "id": "0usspf24je7H",
        "outputId": "79708eae-bb7c-4e6c-957e-5dde035da2eb"
      },
      "execution_count": null,
      "outputs": [
        {
          "output_type": "stream",
          "name": "stdout",
          "text": [
            "1250/1250 [==============================] - 3s 2ms/step - loss: 0.0964 - accuracy: 0.9760\n",
            "Train Loss: 0.0964, Train Accuracy: 0.9760\n"
          ]
        }
      ]
    },
    {
      "cell_type": "code",
      "source": [
        "loss2_test, accuracy2_test = model2.evaluate(X_test_normalized ,y_test_onehot)\n",
        "print(f\"Test Loss: {loss2_tr:.4f}, Test Accuracy: {accuracy2_tr :.4f}\")"
      ],
      "metadata": {
        "id": "d-FH1Haqj4LR",
        "outputId": "3d860582-9c11-44a7-dee3-a01f0b5bd4b9",
        "colab": {
          "base_uri": "https://localhost:8080/"
        }
      },
      "execution_count": null,
      "outputs": [
        {
          "output_type": "stream",
          "name": "stdout",
          "text": [
            "313/313 [==============================] - 1s 2ms/step - loss: 0.1193 - accuracy: 0.9673\n",
            "Test Loss: 0.0964, Test Accuracy: 0.9760\n"
          ]
        }
      ]
    },
    {
      "cell_type": "code",
      "source": [
        "tr_acc = history2.history['accuracy']\n",
        "tr_loss = history2.history['loss']\n",
        "val_acc =history2.history['val_accuracy']\n",
        "val_loss = history2.history['val_loss']\n",
        "\n",
        "epochs = [i+1 for i in range(len(tr_acc))]\n",
        "\n",
        "plt.figure(figsize=(20, 8))\n",
        "plt.subplot(1, 2, 1)\n",
        "plt.plot(epochs, tr_loss, 'r', label='Train Loss')\n",
        "plt.plot(epochs, val_loss, 'g', label='Val Loss')\n",
        "plt.title('Loss')\n",
        "plt.legend()\n",
        "plt.xlabel('Epochs')\n",
        "plt.ylabel('Loss')\n",
        "\n",
        "plt.subplot(1, 2, 2)\n",
        "plt.plot(epochs, tr_acc, 'r', label='Train Accuracy')\n",
        "plt.plot(epochs, val_acc, 'g', label='Val Accuracy')\n",
        "plt.title('Accuracy')\n",
        "plt.legend()\n",
        "plt.xlabel('Epochs')\n",
        "plt.ylabel('Accuracy')\n",
        "\n",
        "plt.tight_layout()\n",
        "plt.show()"
      ],
      "metadata": {
        "colab": {
          "base_uri": "https://localhost:8080/",
          "height": 611
        },
        "id": "R-Feyrf6uadj",
        "outputId": "41188281-6e9c-49d2-976e-0f769d8e7f64"
      },
      "execution_count": null,
      "outputs": [
        {
          "output_type": "display_data",
          "data": {
            "text/plain": [
              "<Figure size 2000x800 with 2 Axes>"
            ],
            "image/png": "[encoded data removed]"
          },
          "metadata": {}
        }
      ]
    },
    {
      "cell_type": "code",
      "execution_count": null,
      "metadata": {
        "id": "v0dYkT87ZcAv"
      },
      "outputs": [],
      "source": [
        "# To-Do (Final accuracy on validation data)"
      ]
    },
    {
      "cell_type": "code",
      "execution_count": null,
      "metadata": {
        "id": "KMDEalnEZcAv"
      },
      "outputs": [],
      "source": [
        "# To-Do (Plot training and validation accuracy)"
      ]
    },
    {
      "cell_type": "markdown",
      "metadata": {
        "id": "J54D7-2KZcAw"
      },
      "source": [
        "<h3 align=right style=\"line-height:200%;font-family:vazir;color:#0099cc\">\n",
        "<font face=\"vazir\" color=\"#0099cc\">\n",
        "مدل سوم\n",
        "</font>\n",
        "</h3>\n",
        "\n",
        "<p dir=rtl style=\"direction: rtl;text-align: justify;line-height:200%;font-family:vazir;font-size:medium\">\n",
        "<font face=\"vazir\" size=3>\n",
        "اکنون یک مدل مشابه مدل قبل طراحی کرده اما بین لایه‌ی ورودی و خروجی یک لایه‌ی کاملاً متصل دیگر شامل ۲۵۶ نورون قرار دهید و از تابع فعال‌سازی <code>relu</code> استفاده کنید. مراحل قبل را تکرار کنید.\n",
        "</font>\n",
        "</p>"
      ]
    },
    {
      "cell_type": "code",
      "execution_count": null,
      "metadata": {
        "id": "nFmR3g6KZcAx"
      },
      "outputs": [],
      "source": [
        "model3 = Sequential()\n",
        "model3.add(layers.Dense(64,activation='relu',input_shape=(3844,)))\n",
        "model3.add(layers.Dense(256,activation='relu'))\n",
        "model3.add(layers.Dense(10, activation='softmax'))\n",
        "# Add a dense layer with 64 neurons and ReLU activation\n",
        "# Add a dense layer with 256 neurons and ReLU activation\n",
        "# Add a dense layer with 10 neurons and softmax activation"
      ]
    },
    {
      "cell_type": "code",
      "execution_count": null,
      "metadata": {
        "id": "HNdoPeJ1ZcAx",
        "colab": {
          "base_uri": "https://localhost:8080/"
        },
        "outputId": "dd90ee01-82e1-4040-9be0-319d6c0a5ad2"
      },
      "outputs": [
        {
          "output_type": "execute_result",
          "data": {
            "text/plain": [
              "<keras.src.callbacks.EarlyStopping at 0x790971f10910>"
            ]
          },
          "metadata": {},
          "execution_count": 44
        }
      ],
      "source": [
        "optimizer_SGD = keras.optimizers.SGD(learning_rate=0.001)\n",
        "model3.compile( loss= keras.losses.categorical_crossentropy, optimizer=optimizer_SGD, metrics=['accuracy'])\n",
        "EarlyStopping(monitor='val_loss', patience=10)"
      ]
    },
    {
      "cell_type": "code",
      "execution_count": null,
      "metadata": {
        "id": "eMi9JBMJZcAx",
        "colab": {
          "base_uri": "https://localhost:8080/"
        },
        "outputId": "89eaec5a-392c-425c-8080-0df0850101d9"
      },
      "outputs": [
        {
          "output_type": "stream",
          "name": "stdout",
          "text": [
            "Epoch 1/100\n",
            "1250/1250 [==============================] - 8s 6ms/step - loss: 1.9880 - accuracy: 0.4522 - val_loss: 1.5443 - val_accuracy: 0.7239\n",
            "Epoch 2/100\n",
            "1250/1250 [==============================] - 5s 4ms/step - loss: 1.0747 - accuracy: 0.8101 - val_loss: 0.7428 - val_accuracy: 0.8480\n",
            "Epoch 3/100\n",
            "1250/1250 [==============================] - 6s 5ms/step - loss: 0.5862 - accuracy: 0.8666 - val_loss: 0.4945 - val_accuracy: 0.8771\n",
            "Epoch 4/100\n",
            "1250/1250 [==============================] - 6s 5ms/step - loss: 0.4318 - accuracy: 0.8876 - val_loss: 0.3986 - val_accuracy: 0.8915\n",
            "Epoch 5/100\n",
            "1250/1250 [==============================] - 5s 4ms/step - loss: 0.3608 - accuracy: 0.9013 - val_loss: 0.3456 - val_accuracy: 0.9030\n",
            "Epoch 6/100\n",
            "1250/1250 [==============================] - 7s 6ms/step - loss: 0.3182 - accuracy: 0.9109 - val_loss: 0.3107 - val_accuracy: 0.9110\n",
            "Epoch 7/100\n",
            "1250/1250 [==============================] - 5s 4ms/step - loss: 0.2893 - accuracy: 0.9183 - val_loss: 0.2862 - val_accuracy: 0.9173\n",
            "Epoch 8/100\n",
            "1250/1250 [==============================] - 6s 5ms/step - loss: 0.2681 - accuracy: 0.9251 - val_loss: 0.2673 - val_accuracy: 0.9236\n",
            "Epoch 9/100\n",
            "1250/1250 [==============================] - 6s 5ms/step - loss: 0.2519 - accuracy: 0.9301 - val_loss: 0.2534 - val_accuracy: 0.9284\n",
            "Epoch 10/100\n",
            "1250/1250 [==============================] - 5s 4ms/step - loss: 0.2389 - accuracy: 0.9334 - val_loss: 0.2414 - val_accuracy: 0.9317\n",
            "Epoch 11/100\n",
            "1250/1250 [==============================] - 7s 6ms/step - loss: 0.2283 - accuracy: 0.9364 - val_loss: 0.2318 - val_accuracy: 0.9345\n",
            "Epoch 12/100\n",
            "1250/1250 [==============================] - 5s 4ms/step - loss: 0.2193 - accuracy: 0.9396 - val_loss: 0.2231 - val_accuracy: 0.9372\n",
            "Epoch 13/100\n",
            "1250/1250 [==============================] - 7s 6ms/step - loss: 0.2116 - accuracy: 0.9419 - val_loss: 0.2164 - val_accuracy: 0.9381\n",
            "Epoch 14/100\n",
            "1250/1250 [==============================] - 6s 4ms/step - loss: 0.2049 - accuracy: 0.9437 - val_loss: 0.2099 - val_accuracy: 0.9414\n",
            "Epoch 15/100\n",
            "1250/1250 [==============================] - 6s 5ms/step - loss: 0.1988 - accuracy: 0.9454 - val_loss: 0.2044 - val_accuracy: 0.9416\n",
            "Epoch 16/100\n",
            "1250/1250 [==============================] - 7s 5ms/step - loss: 0.1934 - accuracy: 0.9477 - val_loss: 0.1996 - val_accuracy: 0.9435\n",
            "Epoch 17/100\n",
            "1250/1250 [==============================] - 5s 4ms/step - loss: 0.1885 - accuracy: 0.9491 - val_loss: 0.1953 - val_accuracy: 0.9448\n",
            "Epoch 18/100\n",
            "1250/1250 [==============================] - 7s 6ms/step - loss: 0.1840 - accuracy: 0.9503 - val_loss: 0.1909 - val_accuracy: 0.9451\n",
            "Epoch 19/100\n",
            "1250/1250 [==============================] - 5s 4ms/step - loss: 0.1801 - accuracy: 0.9516 - val_loss: 0.1873 - val_accuracy: 0.9474\n",
            "Epoch 20/100\n",
            "1250/1250 [==============================] - 8s 6ms/step - loss: 0.1763 - accuracy: 0.9528 - val_loss: 0.1837 - val_accuracy: 0.9498\n",
            "Epoch 21/100\n",
            "1250/1250 [==============================] - 5s 4ms/step - loss: 0.1728 - accuracy: 0.9538 - val_loss: 0.1806 - val_accuracy: 0.9498\n",
            "Epoch 22/100\n",
            "1250/1250 [==============================] - 6s 5ms/step - loss: 0.1694 - accuracy: 0.9549 - val_loss: 0.1787 - val_accuracy: 0.9496\n",
            "Epoch 23/100\n",
            "1250/1250 [==============================] - 7s 5ms/step - loss: 0.1664 - accuracy: 0.9555 - val_loss: 0.1752 - val_accuracy: 0.9526\n",
            "Epoch 24/100\n",
            "1250/1250 [==============================] - 5s 4ms/step - loss: 0.1635 - accuracy: 0.9563 - val_loss: 0.1728 - val_accuracy: 0.9526\n",
            "Epoch 25/100\n",
            "1250/1250 [==============================] - 7s 6ms/step - loss: 0.1608 - accuracy: 0.9574 - val_loss: 0.1700 - val_accuracy: 0.9537\n",
            "Epoch 26/100\n",
            "1250/1250 [==============================] - 5s 4ms/step - loss: 0.1581 - accuracy: 0.9584 - val_loss: 0.1677 - val_accuracy: 0.9542\n",
            "Epoch 27/100\n",
            "1250/1250 [==============================] - 7s 5ms/step - loss: 0.1557 - accuracy: 0.9590 - val_loss: 0.1659 - val_accuracy: 0.9545\n",
            "Epoch 28/100\n",
            "1250/1250 [==============================] - 7s 6ms/step - loss: 0.1533 - accuracy: 0.9598 - val_loss: 0.1634 - val_accuracy: 0.9559\n",
            "Epoch 29/100\n",
            "1250/1250 [==============================] - 5s 4ms/step - loss: 0.1511 - accuracy: 0.9603 - val_loss: 0.1616 - val_accuracy: 0.9565\n",
            "Epoch 30/100\n",
            "1250/1250 [==============================] - 8s 6ms/step - loss: 0.1488 - accuracy: 0.9610 - val_loss: 0.1598 - val_accuracy: 0.9566\n",
            "Epoch 31/100\n",
            "1250/1250 [==============================] - 5s 4ms/step - loss: 0.1466 - accuracy: 0.9623 - val_loss: 0.1579 - val_accuracy: 0.9573\n",
            "Epoch 32/100\n",
            "1250/1250 [==============================] - 6s 5ms/step - loss: 0.1446 - accuracy: 0.9623 - val_loss: 0.1564 - val_accuracy: 0.9581\n",
            "Epoch 33/100\n",
            "1250/1250 [==============================] - 7s 5ms/step - loss: 0.1427 - accuracy: 0.9627 - val_loss: 0.1543 - val_accuracy: 0.9587\n",
            "Epoch 34/100\n",
            "1250/1250 [==============================] - 5s 4ms/step - loss: 0.1407 - accuracy: 0.9634 - val_loss: 0.1530 - val_accuracy: 0.9582\n",
            "Epoch 35/100\n",
            "1250/1250 [==============================] - 7s 6ms/step - loss: 0.1389 - accuracy: 0.9639 - val_loss: 0.1514 - val_accuracy: 0.9590\n",
            "Epoch 36/100\n",
            "1250/1250 [==============================] - 5s 4ms/step - loss: 0.1370 - accuracy: 0.9645 - val_loss: 0.1499 - val_accuracy: 0.9599\n",
            "Epoch 37/100\n",
            "1250/1250 [==============================] - 6s 5ms/step - loss: 0.1353 - accuracy: 0.9649 - val_loss: 0.1486 - val_accuracy: 0.9601\n",
            "Epoch 38/100\n",
            "1250/1250 [==============================] - 6s 5ms/step - loss: 0.1335 - accuracy: 0.9653 - val_loss: 0.1474 - val_accuracy: 0.9604\n",
            "Epoch 39/100\n",
            "1250/1250 [==============================] - 5s 4ms/step - loss: 0.1321 - accuracy: 0.9654 - val_loss: 0.1457 - val_accuracy: 0.9600\n",
            "Epoch 40/100\n",
            "1250/1250 [==============================] - 7s 6ms/step - loss: 0.1304 - accuracy: 0.9665 - val_loss: 0.1446 - val_accuracy: 0.9608\n",
            "Epoch 41/100\n",
            "1250/1250 [==============================] - 5s 4ms/step - loss: 0.1289 - accuracy: 0.9667 - val_loss: 0.1432 - val_accuracy: 0.9617\n",
            "Epoch 42/100\n",
            "1250/1250 [==============================] - 7s 6ms/step - loss: 0.1273 - accuracy: 0.9668 - val_loss: 0.1424 - val_accuracy: 0.9615\n",
            "Epoch 43/100\n",
            "1250/1250 [==============================] - 5s 4ms/step - loss: 0.1259 - accuracy: 0.9676 - val_loss: 0.1408 - val_accuracy: 0.9624\n",
            "Epoch 44/100\n",
            "1250/1250 [==============================] - 6s 5ms/step - loss: 0.1245 - accuracy: 0.9679 - val_loss: 0.1400 - val_accuracy: 0.9626\n",
            "Epoch 45/100\n",
            "1250/1250 [==============================] - 7s 5ms/step - loss: 0.1231 - accuracy: 0.9683 - val_loss: 0.1386 - val_accuracy: 0.9630\n",
            "Epoch 46/100\n",
            "1250/1250 [==============================] - 5s 4ms/step - loss: 0.1216 - accuracy: 0.9685 - val_loss: 0.1381 - val_accuracy: 0.9628\n",
            "Epoch 47/100\n",
            "1250/1250 [==============================] - 7s 6ms/step - loss: 0.1203 - accuracy: 0.9689 - val_loss: 0.1365 - val_accuracy: 0.9638\n",
            "Epoch 48/100\n",
            "1250/1250 [==============================] - 5s 4ms/step - loss: 0.1189 - accuracy: 0.9694 - val_loss: 0.1366 - val_accuracy: 0.9624\n",
            "Epoch 49/100\n",
            "1250/1250 [==============================] - 9s 7ms/step - loss: 0.1177 - accuracy: 0.9694 - val_loss: 0.1345 - val_accuracy: 0.9649\n",
            "Epoch 50/100\n",
            "1250/1250 [==============================] - 5s 4ms/step - loss: 0.1164 - accuracy: 0.9702 - val_loss: 0.1338 - val_accuracy: 0.9646\n",
            "Epoch 51/100\n",
            "1250/1250 [==============================] - 6s 5ms/step - loss: 0.1151 - accuracy: 0.9705 - val_loss: 0.1329 - val_accuracy: 0.9653\n",
            "Epoch 52/100\n",
            "1250/1250 [==============================] - 6s 5ms/step - loss: 0.1139 - accuracy: 0.9707 - val_loss: 0.1316 - val_accuracy: 0.9656\n",
            "Epoch 53/100\n",
            "1250/1250 [==============================] - 6s 5ms/step - loss: 0.1128 - accuracy: 0.9711 - val_loss: 0.1306 - val_accuracy: 0.9655\n",
            "Epoch 54/100\n",
            "1250/1250 [==============================] - 7s 6ms/step - loss: 0.1115 - accuracy: 0.9714 - val_loss: 0.1304 - val_accuracy: 0.9651\n",
            "Epoch 55/100\n",
            "1250/1250 [==============================] - 5s 4ms/step - loss: 0.1104 - accuracy: 0.9715 - val_loss: 0.1291 - val_accuracy: 0.9663\n",
            "Epoch 56/100\n",
            "1250/1250 [==============================] - 9s 7ms/step - loss: 0.1093 - accuracy: 0.9720 - val_loss: 0.1282 - val_accuracy: 0.9670\n",
            "Epoch 57/100\n",
            "1250/1250 [==============================] - 5s 4ms/step - loss: 0.1081 - accuracy: 0.9724 - val_loss: 0.1274 - val_accuracy: 0.9667\n",
            "Epoch 58/100\n",
            "1250/1250 [==============================] - 5s 4ms/step - loss: 0.1069 - accuracy: 0.9728 - val_loss: 0.1271 - val_accuracy: 0.9675\n",
            "Epoch 59/100\n",
            "1250/1250 [==============================] - 8s 6ms/step - loss: 0.1059 - accuracy: 0.9728 - val_loss: 0.1260 - val_accuracy: 0.9670\n",
            "Epoch 60/100\n",
            "1250/1250 [==============================] - 5s 4ms/step - loss: 0.1048 - accuracy: 0.9731 - val_loss: 0.1252 - val_accuracy: 0.9673\n",
            "Epoch 61/100\n",
            "1250/1250 [==============================] - 7s 6ms/step - loss: 0.1037 - accuracy: 0.9735 - val_loss: 0.1244 - val_accuracy: 0.9676\n",
            "Epoch 62/100\n",
            "1250/1250 [==============================] - 5s 4ms/step - loss: 0.1027 - accuracy: 0.9736 - val_loss: 0.1232 - val_accuracy: 0.9682\n",
            "Epoch 63/100\n",
            "1250/1250 [==============================] - 6s 5ms/step - loss: 0.1017 - accuracy: 0.9740 - val_loss: 0.1226 - val_accuracy: 0.9682\n",
            "Epoch 64/100\n",
            "1250/1250 [==============================] - 6s 5ms/step - loss: 0.1006 - accuracy: 0.9741 - val_loss: 0.1221 - val_accuracy: 0.9678\n",
            "Epoch 65/100\n",
            "1250/1250 [==============================] - 5s 4ms/step - loss: 0.0997 - accuracy: 0.9746 - val_loss: 0.1215 - val_accuracy: 0.9681\n",
            "Epoch 66/100\n",
            "1250/1250 [==============================] - 7s 6ms/step - loss: 0.0986 - accuracy: 0.9746 - val_loss: 0.1206 - val_accuracy: 0.9684\n",
            "Epoch 67/100\n",
            "1250/1250 [==============================] - 5s 4ms/step - loss: 0.0977 - accuracy: 0.9752 - val_loss: 0.1196 - val_accuracy: 0.9691\n",
            "Epoch 68/100\n",
            "1250/1250 [==============================] - 7s 6ms/step - loss: 0.0968 - accuracy: 0.9750 - val_loss: 0.1191 - val_accuracy: 0.9688\n",
            "Epoch 69/100\n",
            "1250/1250 [==============================] - 6s 4ms/step - loss: 0.0957 - accuracy: 0.9754 - val_loss: 0.1186 - val_accuracy: 0.9693\n",
            "Epoch 70/100\n",
            "1250/1250 [==============================] - 6s 5ms/step - loss: 0.0948 - accuracy: 0.9755 - val_loss: 0.1184 - val_accuracy: 0.9687\n",
            "Epoch 71/100\n",
            "1250/1250 [==============================] - 7s 5ms/step - loss: 0.0939 - accuracy: 0.9757 - val_loss: 0.1172 - val_accuracy: 0.9693\n",
            "Epoch 72/100\n",
            "1250/1250 [==============================] - 5s 4ms/step - loss: 0.0931 - accuracy: 0.9762 - val_loss: 0.1166 - val_accuracy: 0.9697\n",
            "Epoch 73/100\n",
            "1250/1250 [==============================] - 7s 6ms/step - loss: 0.0921 - accuracy: 0.9761 - val_loss: 0.1158 - val_accuracy: 0.9699\n",
            "Epoch 74/100\n",
            "1250/1250 [==============================] - 5s 4ms/step - loss: 0.0913 - accuracy: 0.9767 - val_loss: 0.1155 - val_accuracy: 0.9700\n",
            "Epoch 75/100\n",
            "1250/1250 [==============================] - 7s 6ms/step - loss: 0.0904 - accuracy: 0.9765 - val_loss: 0.1145 - val_accuracy: 0.9703\n",
            "Epoch 76/100\n",
            "1250/1250 [==============================] - 5s 4ms/step - loss: 0.0896 - accuracy: 0.9772 - val_loss: 0.1140 - val_accuracy: 0.9700\n",
            "Epoch 77/100\n",
            "1250/1250 [==============================] - 6s 4ms/step - loss: 0.0887 - accuracy: 0.9772 - val_loss: 0.1139 - val_accuracy: 0.9703\n",
            "Epoch 78/100\n",
            "1250/1250 [==============================] - 7s 6ms/step - loss: 0.0879 - accuracy: 0.9776 - val_loss: 0.1132 - val_accuracy: 0.9701\n",
            "Epoch 79/100\n",
            "1250/1250 [==============================] - 5s 4ms/step - loss: 0.0871 - accuracy: 0.9778 - val_loss: 0.1129 - val_accuracy: 0.9700\n",
            "Epoch 80/100\n",
            "1250/1250 [==============================] - 7s 6ms/step - loss: 0.0863 - accuracy: 0.9781 - val_loss: 0.1120 - val_accuracy: 0.9705\n",
            "Epoch 81/100\n",
            "1250/1250 [==============================] - 5s 4ms/step - loss: 0.0854 - accuracy: 0.9780 - val_loss: 0.1112 - val_accuracy: 0.9706\n",
            "Epoch 82/100\n",
            "1250/1250 [==============================] - 7s 5ms/step - loss: 0.0845 - accuracy: 0.9781 - val_loss: 0.1113 - val_accuracy: 0.9706\n",
            "Epoch 83/100\n",
            "1250/1250 [==============================] - 7s 5ms/step - loss: 0.0838 - accuracy: 0.9786 - val_loss: 0.1104 - val_accuracy: 0.9705\n",
            "Epoch 84/100\n",
            "1250/1250 [==============================] - 8s 6ms/step - loss: 0.0829 - accuracy: 0.9788 - val_loss: 0.1095 - val_accuracy: 0.9710\n",
            "Epoch 85/100\n",
            "1250/1250 [==============================] - 6s 5ms/step - loss: 0.0822 - accuracy: 0.9786 - val_loss: 0.1091 - val_accuracy: 0.9704\n",
            "Epoch 86/100\n",
            "1250/1250 [==============================] - 5s 4ms/step - loss: 0.0815 - accuracy: 0.9789 - val_loss: 0.1085 - val_accuracy: 0.9711\n",
            "Epoch 87/100\n",
            "1250/1250 [==============================] - 7s 6ms/step - loss: 0.0808 - accuracy: 0.9795 - val_loss: 0.1081 - val_accuracy: 0.9709\n",
            "Epoch 88/100\n",
            "1250/1250 [==============================] - 5s 4ms/step - loss: 0.0801 - accuracy: 0.9797 - val_loss: 0.1074 - val_accuracy: 0.9712\n",
            "Epoch 89/100\n",
            "1250/1250 [==============================] - 7s 6ms/step - loss: 0.0793 - accuracy: 0.9796 - val_loss: 0.1071 - val_accuracy: 0.9715\n",
            "Epoch 90/100\n",
            "1250/1250 [==============================] - 5s 4ms/step - loss: 0.0786 - accuracy: 0.9800 - val_loss: 0.1065 - val_accuracy: 0.9715\n",
            "Epoch 91/100\n",
            "1250/1250 [==============================] - 6s 5ms/step - loss: 0.0778 - accuracy: 0.9801 - val_loss: 0.1063 - val_accuracy: 0.9715\n",
            "Epoch 92/100\n",
            "1250/1250 [==============================] - 7s 5ms/step - loss: 0.0772 - accuracy: 0.9805 - val_loss: 0.1059 - val_accuracy: 0.9714\n",
            "Epoch 93/100\n",
            "1250/1250 [==============================] - 5s 4ms/step - loss: 0.0765 - accuracy: 0.9804 - val_loss: 0.1052 - val_accuracy: 0.9718\n",
            "Epoch 94/100\n",
            "1250/1250 [==============================] - 7s 6ms/step - loss: 0.0758 - accuracy: 0.9805 - val_loss: 0.1046 - val_accuracy: 0.9721\n",
            "Epoch 95/100\n",
            "1250/1250 [==============================] - 5s 4ms/step - loss: 0.0751 - accuracy: 0.9809 - val_loss: 0.1044 - val_accuracy: 0.9723\n",
            "Epoch 96/100\n",
            "1250/1250 [==============================] - 6s 5ms/step - loss: 0.0745 - accuracy: 0.9811 - val_loss: 0.1038 - val_accuracy: 0.9722\n",
            "Epoch 97/100\n",
            "1250/1250 [==============================] - 6s 5ms/step - loss: 0.0738 - accuracy: 0.9813 - val_loss: 0.1033 - val_accuracy: 0.9724\n",
            "Epoch 98/100\n",
            "1250/1250 [==============================] - 5s 4ms/step - loss: 0.0731 - accuracy: 0.9817 - val_loss: 0.1030 - val_accuracy: 0.9725\n",
            "Epoch 99/100\n",
            "1250/1250 [==============================] - 7s 6ms/step - loss: 0.0725 - accuracy: 0.9815 - val_loss: 0.1026 - val_accuracy: 0.9726\n",
            "Epoch 100/100\n",
            "1250/1250 [==============================] - 5s 4ms/step - loss: 0.0718 - accuracy: 0.9819 - val_loss: 0.1020 - val_accuracy: 0.9725\n"
          ]
        }
      ],
      "source": [
        "history3 = model3.fit(X_train_normalized , y_train_onehot, validation_data=(X_valid_normalized, y_valid_onehot), callbacks=[early_stopping],batch_size=32, epochs=100)"
      ]
    },
    {
      "cell_type": "code",
      "source": [
        "loss3, accuracy3 = model3.evaluate(X_valid_normalized  ,  y_valid_onehot, verbose = 0) # To-Do (Evaluate the model on train data)\n",
        "print(f\"Valid Loss: {loss3:.4f}, Valid Accuracy: {accuracy3:.4f}\")"
      ],
      "metadata": {
        "colab": {
          "base_uri": "https://localhost:8080/"
        },
        "id": "5FvuvBSswJB5",
        "outputId": "beab9db0-4096-4a2c-8dd5-fae84532d852"
      },
      "execution_count": null,
      "outputs": [
        {
          "output_type": "stream",
          "name": "stdout",
          "text": [
            "Valid Loss: 0.1020, Valid Accuracy: 0.9725\n"
          ]
        }
      ]
    },
    {
      "cell_type": "code",
      "source": [
        "loss3_tr, accuracy3_tr = model3.evaluate(X_train_normalized ,y_train_onehot)\n",
        "print(f\"Train Loss: {loss3_tr:.4f}, Train Accuracy: {accuracy3_tr :.4f}\")"
      ],
      "metadata": {
        "colab": {
          "base_uri": "https://localhost:8080/"
        },
        "id": "IXJK3-NLwU1i",
        "outputId": "cc8ad51e-984d-4d07-ef51-08b3d7eb90a4"
      },
      "execution_count": null,
      "outputs": [
        {
          "output_type": "stream",
          "name": "stdout",
          "text": [
            "1250/1250 [==============================] - 3s 2ms/step - loss: 0.0708 - accuracy: 0.9822\n",
            "Train Loss: 0.0708, Train Accuracy: 0.9822\n"
          ]
        }
      ]
    },
    {
      "cell_type": "code",
      "source": [
        "loss3_test, accuracy3_test = model2.evaluate(X_test_normalized ,y_test_onehot)\n",
        "print(f\"Test Loss: {loss3_tr:.4f}, Test Accuracy: {accuracy3_tr :.4f}\")"
      ],
      "metadata": {
        "colab": {
          "base_uri": "https://localhost:8080/"
        },
        "id": "flcTmisswgs9",
        "outputId": "d62c600f-b42f-41ec-c2c3-51f704410e6f"
      },
      "execution_count": null,
      "outputs": [
        {
          "output_type": "stream",
          "name": "stdout",
          "text": [
            "313/313 [==============================] - 1s 2ms/step - loss: 0.1193 - accuracy: 0.9673\n",
            "Test Loss: 0.0708, Test Accuracy: 0.9822\n"
          ]
        }
      ]
    },
    {
      "cell_type": "code",
      "source": [
        "tr_acc = history3.history['accuracy']\n",
        "tr_loss = history3.history['loss']\n",
        "val_acc =history3.history['val_accuracy']\n",
        "val_loss = history3.history['val_loss']\n",
        "\n",
        "epochs = [i+1 for i in range(len(tr_acc))]\n",
        "\n",
        "plt.figure(figsize=(20, 8))\n",
        "plt.subplot(1, 2, 1)\n",
        "plt.plot(epochs, tr_loss, 'r', label='Train Loss')\n",
        "plt.plot(epochs, val_loss, 'g', label='Val Loss')\n",
        "plt.title('Loss')\n",
        "plt.legend()\n",
        "plt.xlabel('Epochs')\n",
        "plt.ylabel('Loss')\n",
        "\n",
        "plt.subplot(1, 2, 2)\n",
        "plt.plot(epochs, tr_acc, 'r', label='Train Accuracy')\n",
        "plt.plot(epochs, val_acc, 'g', label='Val Accuracy')\n",
        "plt.title('Accuracy')\n",
        "plt.legend()\n",
        "plt.xlabel('Epochs')\n",
        "plt.ylabel('Accuracy')\n",
        "\n",
        "plt.tight_layout()\n",
        "plt.show()"
      ],
      "metadata": {
        "colab": {
          "base_uri": "https://localhost:8080/",
          "height": 610
        },
        "id": "KM8BrIR8woeJ",
        "outputId": "727051eb-8900-4d00-cfc8-f66ee8d5f659"
      },
      "execution_count": null,
      "outputs": [
        {
          "output_type": "display_data",
          "data": {
            "text/plain": [
              "<Figure size 2000x800 with 2 Axes>"
            ],
            "image/png": "[encoded data removed]"
          },
          "metadata": {}
        }
      ]
    },
    {
      "cell_type": "code",
      "execution_count": null,
      "metadata": {
        "id": "2ACEcx5jZcAy"
      },
      "outputs": [],
      "source": [
        "# To-Do (Final accuracy on validation data)"
      ]
    },
    {
      "cell_type": "code",
      "execution_count": null,
      "metadata": {
        "id": "9Ksihks4ZcAz"
      },
      "outputs": [],
      "source": [
        "# To-Do (Plot training and validation accuracy)"
      ]
    },
    {
      "cell_type": "markdown",
      "metadata": {
        "id": "RySS1UjTZcA1"
      },
      "source": [
        "<h3 align=right style=\"line-height:200%;font-family:vazir;color:#0099cc\">\n",
        "<font face=\"vazir\" color=\"#0099cc\">\n",
        "مدل چهارم\n",
        "</font>\n",
        "</h3>\n",
        "\n",
        "<p dir=rtl style=\"direction: rtl;text-align: justify;line-height:200%;font-family:vazir;font-size:medium\">\n",
        "<font face=\"vazir\" size=3>\n",
        "اکنون توابع فعال‌ساز <code>ReLU</code> مدل قبل را به <code>LeakyReLU</code> با آلفای <code>0.1</code> تغییر دهید و مراحل قبل را تکرار کنید.\n",
        "</font>\n",
        "</p>"
      ]
    },
    {
      "cell_type": "code",
      "source": [
        "from keras.layers import LeakyReLU\n"
      ],
      "metadata": {
        "id": "cpvhY9CmzAbA"
      },
      "execution_count": null,
      "outputs": []
    },
    {
      "cell_type": "code",
      "execution_count": null,
      "metadata": {
        "id": "7NejBBNaZcA2"
      },
      "outputs": [],
      "source": [
        "model4 = Sequential()\n",
        "activator=keras.layers.LeakyReLU(alpha=0.1)\n",
        "model4.add(layers.Dense(64,activation=activator ,input_shape=(3844,)))\n",
        "model4.add(layers.Dense(256,activation=activator) )\n",
        "model4.add(layers.Dense(10, activation='softmax'))\n",
        "# Add a dense layer with 64 neurons and LeakyReLU activation\n",
        "# Add a dense layer with 256 neurons and LeakyReLU activation\n",
        "# Add a dense layer with 10 neurons and softmax activation"
      ]
    },
    {
      "cell_type": "code",
      "execution_count": null,
      "metadata": {
        "id": "XuT6J3vXZcA2",
        "colab": {
          "base_uri": "https://localhost:8080/"
        },
        "outputId": "19fba43e-4de2-4f7e-bbd7-49fe6c2d1f6f"
      },
      "outputs": [
        {
          "output_type": "execute_result",
          "data": {
            "text/plain": [
              "<keras.src.callbacks.EarlyStopping at 0x790971d7e0b0>"
            ]
          },
          "metadata": {},
          "execution_count": 55
        }
      ],
      "source": [
        "optimizer_SGD = keras.optimizers.SGD(learning_rate=0.001)\n",
        "model4.compile( loss= keras.losses.categorical_crossentropy, optimizer=optimizer_SGD, metrics=['accuracy'])\n",
        "EarlyStopping(monitor='val_loss', patience=10)"
      ]
    },
    {
      "cell_type": "code",
      "execution_count": null,
      "metadata": {
        "id": "EipJcqHaZcA3",
        "colab": {
          "base_uri": "https://localhost:8080/"
        },
        "outputId": "bab1d8a5-7282-4fbf-ed64-1b224f7c6187"
      },
      "outputs": [
        {
          "output_type": "stream",
          "name": "stdout",
          "text": [
            "Epoch 1/100\n",
            "1250/1250 [==============================] - 8s 6ms/step - loss: 1.8847 - accuracy: 0.5640 - val_loss: 1.3434 - val_accuracy: 0.7954\n",
            "Epoch 2/100\n",
            "1250/1250 [==============================] - 5s 4ms/step - loss: 0.9150 - accuracy: 0.8383 - val_loss: 0.6421 - val_accuracy: 0.8600\n",
            "Epoch 3/100\n",
            "1250/1250 [==============================] - 7s 6ms/step - loss: 0.5236 - accuracy: 0.8741 - val_loss: 0.4519 - val_accuracy: 0.8812\n",
            "Epoch 4/100\n",
            "1250/1250 [==============================] - 5s 4ms/step - loss: 0.4019 - accuracy: 0.8921 - val_loss: 0.3738 - val_accuracy: 0.8952\n",
            "Epoch 5/100\n",
            "1250/1250 [==============================] - 7s 6ms/step - loss: 0.3431 - accuracy: 0.9050 - val_loss: 0.3295 - val_accuracy: 0.9075\n",
            "Epoch 6/100\n",
            "1250/1250 [==============================] - 5s 4ms/step - loss: 0.3070 - accuracy: 0.9132 - val_loss: 0.3003 - val_accuracy: 0.9152\n",
            "Epoch 7/100\n",
            "1250/1250 [==============================] - 6s 5ms/step - loss: 0.2819 - accuracy: 0.9198 - val_loss: 0.2795 - val_accuracy: 0.9198\n",
            "Epoch 8/100\n",
            "1250/1250 [==============================] - 7s 5ms/step - loss: 0.2634 - accuracy: 0.9256 - val_loss: 0.2629 - val_accuracy: 0.9249\n",
            "Epoch 9/100\n",
            "1250/1250 [==============================] - 5s 4ms/step - loss: 0.2487 - accuracy: 0.9298 - val_loss: 0.2504 - val_accuracy: 0.9289\n",
            "Epoch 10/100\n",
            "1250/1250 [==============================] - 7s 6ms/step - loss: 0.2372 - accuracy: 0.9341 - val_loss: 0.2398 - val_accuracy: 0.9322\n",
            "Epoch 11/100\n",
            "1250/1250 [==============================] - 5s 4ms/step - loss: 0.2274 - accuracy: 0.9369 - val_loss: 0.2312 - val_accuracy: 0.9330\n",
            "Epoch 12/100\n",
            "1250/1250 [==============================] - 7s 6ms/step - loss: 0.2192 - accuracy: 0.9394 - val_loss: 0.2236 - val_accuracy: 0.9362\n",
            "Epoch 13/100\n",
            "1250/1250 [==============================] - 5s 4ms/step - loss: 0.2120 - accuracy: 0.9416 - val_loss: 0.2178 - val_accuracy: 0.9394\n",
            "Epoch 14/100\n",
            "1250/1250 [==============================] - 6s 5ms/step - loss: 0.2058 - accuracy: 0.9436 - val_loss: 0.2121 - val_accuracy: 0.9399\n",
            "Epoch 15/100\n",
            "1250/1250 [==============================] - 6s 5ms/step - loss: 0.2002 - accuracy: 0.9455 - val_loss: 0.2067 - val_accuracy: 0.9415\n",
            "Epoch 16/100\n",
            "1250/1250 [==============================] - 5s 4ms/step - loss: 0.1953 - accuracy: 0.9464 - val_loss: 0.2021 - val_accuracy: 0.9433\n",
            "Epoch 17/100\n",
            "1250/1250 [==============================] - 7s 6ms/step - loss: 0.1908 - accuracy: 0.9480 - val_loss: 0.1982 - val_accuracy: 0.9442\n",
            "Epoch 18/100\n",
            "1250/1250 [==============================] - 7s 6ms/step - loss: 0.1865 - accuracy: 0.9494 - val_loss: 0.1945 - val_accuracy: 0.9452\n",
            "Epoch 19/100\n",
            "1250/1250 [==============================] - 7s 6ms/step - loss: 0.1828 - accuracy: 0.9509 - val_loss: 0.1911 - val_accuracy: 0.9458\n",
            "Epoch 20/100\n",
            "1250/1250 [==============================] - 5s 4ms/step - loss: 0.1791 - accuracy: 0.9520 - val_loss: 0.1882 - val_accuracy: 0.9477\n",
            "Epoch 21/100\n",
            "1250/1250 [==============================] - 7s 6ms/step - loss: 0.1760 - accuracy: 0.9527 - val_loss: 0.1859 - val_accuracy: 0.9484\n",
            "Epoch 22/100\n",
            "1250/1250 [==============================] - 6s 5ms/step - loss: 0.1729 - accuracy: 0.9536 - val_loss: 0.1821 - val_accuracy: 0.9496\n",
            "Epoch 23/100\n",
            "1250/1250 [==============================] - 5s 4ms/step - loss: 0.1700 - accuracy: 0.9548 - val_loss: 0.1802 - val_accuracy: 0.9502\n",
            "Epoch 24/100\n",
            "1250/1250 [==============================] - 7s 6ms/step - loss: 0.1674 - accuracy: 0.9551 - val_loss: 0.1779 - val_accuracy: 0.9509\n",
            "Epoch 25/100\n",
            "1250/1250 [==============================] - 5s 4ms/step - loss: 0.1647 - accuracy: 0.9561 - val_loss: 0.1755 - val_accuracy: 0.9518\n",
            "Epoch 26/100\n",
            "1250/1250 [==============================] - 8s 6ms/step - loss: 0.1624 - accuracy: 0.9565 - val_loss: 0.1731 - val_accuracy: 0.9520\n",
            "Epoch 27/100\n",
            "1250/1250 [==============================] - 6s 4ms/step - loss: 0.1600 - accuracy: 0.9578 - val_loss: 0.1718 - val_accuracy: 0.9528\n",
            "Epoch 28/100\n",
            "1250/1250 [==============================] - 7s 5ms/step - loss: 0.1578 - accuracy: 0.9585 - val_loss: 0.1693 - val_accuracy: 0.9535\n",
            "Epoch 29/100\n",
            "1250/1250 [==============================] - 6s 4ms/step - loss: 0.1557 - accuracy: 0.9586 - val_loss: 0.1674 - val_accuracy: 0.9534\n",
            "Epoch 30/100\n",
            "1250/1250 [==============================] - 5s 4ms/step - loss: 0.1536 - accuracy: 0.9596 - val_loss: 0.1661 - val_accuracy: 0.9543\n",
            "Epoch 31/100\n",
            "1250/1250 [==============================] - 7s 6ms/step - loss: 0.1517 - accuracy: 0.9597 - val_loss: 0.1640 - val_accuracy: 0.9559\n",
            "Epoch 32/100\n",
            "1250/1250 [==============================] - 5s 4ms/step - loss: 0.1497 - accuracy: 0.9605 - val_loss: 0.1629 - val_accuracy: 0.9552\n",
            "Epoch 33/100\n",
            "1250/1250 [==============================] - 8s 6ms/step - loss: 0.1480 - accuracy: 0.9609 - val_loss: 0.1614 - val_accuracy: 0.9568\n",
            "Epoch 34/100\n",
            "1250/1250 [==============================] - 5s 4ms/step - loss: 0.1462 - accuracy: 0.9612 - val_loss: 0.1595 - val_accuracy: 0.9573\n",
            "Epoch 35/100\n",
            "1250/1250 [==============================] - 6s 5ms/step - loss: 0.1445 - accuracy: 0.9619 - val_loss: 0.1582 - val_accuracy: 0.9567\n",
            "Epoch 36/100\n",
            "1250/1250 [==============================] - 6s 5ms/step - loss: 0.1428 - accuracy: 0.9625 - val_loss: 0.1571 - val_accuracy: 0.9577\n",
            "Epoch 37/100\n",
            "1250/1250 [==============================] - 5s 4ms/step - loss: 0.1412 - accuracy: 0.9631 - val_loss: 0.1557 - val_accuracy: 0.9579\n",
            "Epoch 38/100\n",
            "1250/1250 [==============================] - 7s 6ms/step - loss: 0.1396 - accuracy: 0.9633 - val_loss: 0.1543 - val_accuracy: 0.9581\n",
            "Epoch 39/100\n",
            "1250/1250 [==============================] - 7s 5ms/step - loss: 0.1380 - accuracy: 0.9638 - val_loss: 0.1532 - val_accuracy: 0.9588\n",
            "Epoch 40/100\n",
            "1250/1250 [==============================] - 7s 6ms/step - loss: 0.1366 - accuracy: 0.9641 - val_loss: 0.1520 - val_accuracy: 0.9595\n",
            "Epoch 41/100\n",
            "1250/1250 [==============================] - 6s 5ms/step - loss: 0.1351 - accuracy: 0.9647 - val_loss: 0.1507 - val_accuracy: 0.9592\n",
            "Epoch 42/100\n",
            "1250/1250 [==============================] - 7s 6ms/step - loss: 0.1336 - accuracy: 0.9653 - val_loss: 0.1495 - val_accuracy: 0.9596\n",
            "Epoch 43/100\n",
            "1250/1250 [==============================] - 6s 4ms/step - loss: 0.1323 - accuracy: 0.9651 - val_loss: 0.1483 - val_accuracy: 0.9606\n",
            "Epoch 44/100\n",
            "1250/1250 [==============================] - 6s 5ms/step - loss: 0.1309 - accuracy: 0.9654 - val_loss: 0.1475 - val_accuracy: 0.9606\n",
            "Epoch 45/100\n",
            "1250/1250 [==============================] - 8s 7ms/step - loss: 0.1296 - accuracy: 0.9659 - val_loss: 0.1463 - val_accuracy: 0.9610\n",
            "Epoch 46/100\n",
            "1250/1250 [==============================] - 6s 5ms/step - loss: 0.1282 - accuracy: 0.9661 - val_loss: 0.1452 - val_accuracy: 0.9615\n",
            "Epoch 47/100\n",
            "1250/1250 [==============================] - 7s 5ms/step - loss: 0.1269 - accuracy: 0.9668 - val_loss: 0.1442 - val_accuracy: 0.9618\n",
            "Epoch 48/100\n",
            "1250/1250 [==============================] - 5s 4ms/step - loss: 0.1257 - accuracy: 0.9669 - val_loss: 0.1430 - val_accuracy: 0.9621\n",
            "Epoch 49/100\n",
            "1250/1250 [==============================] - 7s 6ms/step - loss: 0.1244 - accuracy: 0.9676 - val_loss: 0.1424 - val_accuracy: 0.9622\n",
            "Epoch 50/100\n",
            "1250/1250 [==============================] - 5s 4ms/step - loss: 0.1232 - accuracy: 0.9681 - val_loss: 0.1413 - val_accuracy: 0.9625\n",
            "Epoch 51/100\n",
            "1250/1250 [==============================] - 8s 6ms/step - loss: 0.1220 - accuracy: 0.9683 - val_loss: 0.1407 - val_accuracy: 0.9629\n",
            "Epoch 52/100\n",
            "1250/1250 [==============================] - 5s 4ms/step - loss: 0.1209 - accuracy: 0.9686 - val_loss: 0.1394 - val_accuracy: 0.9629\n",
            "Epoch 53/100\n",
            "1250/1250 [==============================] - 7s 5ms/step - loss: 0.1197 - accuracy: 0.9693 - val_loss: 0.1389 - val_accuracy: 0.9630\n",
            "Epoch 54/100\n",
            "1250/1250 [==============================] - 6s 5ms/step - loss: 0.1186 - accuracy: 0.9695 - val_loss: 0.1380 - val_accuracy: 0.9632\n",
            "Epoch 55/100\n",
            "1250/1250 [==============================] - 5s 4ms/step - loss: 0.1175 - accuracy: 0.9694 - val_loss: 0.1371 - val_accuracy: 0.9636\n",
            "Epoch 56/100\n",
            "1250/1250 [==============================] - 7s 6ms/step - loss: 0.1164 - accuracy: 0.9698 - val_loss: 0.1360 - val_accuracy: 0.9635\n",
            "Epoch 57/100\n",
            "1250/1250 [==============================] - 5s 4ms/step - loss: 0.1153 - accuracy: 0.9700 - val_loss: 0.1352 - val_accuracy: 0.9638\n",
            "Epoch 58/100\n",
            "1250/1250 [==============================] - 7s 6ms/step - loss: 0.1143 - accuracy: 0.9702 - val_loss: 0.1345 - val_accuracy: 0.9639\n",
            "Epoch 59/100\n",
            "1250/1250 [==============================] - 5s 4ms/step - loss: 0.1133 - accuracy: 0.9707 - val_loss: 0.1335 - val_accuracy: 0.9642\n",
            "Epoch 60/100\n",
            "1250/1250 [==============================] - 7s 5ms/step - loss: 0.1122 - accuracy: 0.9708 - val_loss: 0.1328 - val_accuracy: 0.9646\n",
            "Epoch 61/100\n",
            "1250/1250 [==============================] - 6s 5ms/step - loss: 0.1112 - accuracy: 0.9712 - val_loss: 0.1323 - val_accuracy: 0.9642\n",
            "Epoch 62/100\n",
            "1250/1250 [==============================] - 6s 5ms/step - loss: 0.1102 - accuracy: 0.9717 - val_loss: 0.1313 - val_accuracy: 0.9648\n",
            "Epoch 63/100\n",
            "1250/1250 [==============================] - 7s 5ms/step - loss: 0.1092 - accuracy: 0.9719 - val_loss: 0.1307 - val_accuracy: 0.9651\n",
            "Epoch 64/100\n",
            "1250/1250 [==============================] - 5s 4ms/step - loss: 0.1083 - accuracy: 0.9720 - val_loss: 0.1295 - val_accuracy: 0.9648\n",
            "Epoch 65/100\n",
            "1250/1250 [==============================] - 7s 6ms/step - loss: 0.1073 - accuracy: 0.9722 - val_loss: 0.1289 - val_accuracy: 0.9656\n",
            "Epoch 66/100\n",
            "1250/1250 [==============================] - 6s 4ms/step - loss: 0.1063 - accuracy: 0.9729 - val_loss: 0.1287 - val_accuracy: 0.9655\n",
            "Epoch 67/100\n",
            "1250/1250 [==============================] - 8s 6ms/step - loss: 0.1054 - accuracy: 0.9734 - val_loss: 0.1276 - val_accuracy: 0.9658\n",
            "Epoch 68/100\n",
            "1250/1250 [==============================] - 6s 4ms/step - loss: 0.1046 - accuracy: 0.9732 - val_loss: 0.1268 - val_accuracy: 0.9661\n",
            "Epoch 69/100\n",
            "1250/1250 [==============================] - 7s 6ms/step - loss: 0.1036 - accuracy: 0.9737 - val_loss: 0.1265 - val_accuracy: 0.9657\n",
            "Epoch 70/100\n",
            "1250/1250 [==============================] - 6s 5ms/step - loss: 0.1027 - accuracy: 0.9736 - val_loss: 0.1256 - val_accuracy: 0.9662\n",
            "Epoch 71/100\n",
            "1250/1250 [==============================] - 6s 5ms/step - loss: 0.1019 - accuracy: 0.9738 - val_loss: 0.1249 - val_accuracy: 0.9659\n",
            "Epoch 72/100\n",
            "1250/1250 [==============================] - 8s 6ms/step - loss: 0.1010 - accuracy: 0.9744 - val_loss: 0.1245 - val_accuracy: 0.9666\n",
            "Epoch 73/100\n",
            "1250/1250 [==============================] - 6s 4ms/step - loss: 0.1001 - accuracy: 0.9743 - val_loss: 0.1239 - val_accuracy: 0.9666\n",
            "Epoch 74/100\n",
            "1250/1250 [==============================] - 8s 6ms/step - loss: 0.0992 - accuracy: 0.9748 - val_loss: 0.1229 - val_accuracy: 0.9669\n",
            "Epoch 75/100\n",
            "1250/1250 [==============================] - 6s 4ms/step - loss: 0.0985 - accuracy: 0.9750 - val_loss: 0.1227 - val_accuracy: 0.9669\n",
            "Epoch 76/100\n",
            "1250/1250 [==============================] - 8s 6ms/step - loss: 0.0977 - accuracy: 0.9750 - val_loss: 0.1221 - val_accuracy: 0.9670\n",
            "Epoch 77/100\n",
            "1250/1250 [==============================] - 5s 4ms/step - loss: 0.0968 - accuracy: 0.9756 - val_loss: 0.1209 - val_accuracy: 0.9670\n",
            "Epoch 78/100\n",
            "1250/1250 [==============================] - 7s 5ms/step - loss: 0.0959 - accuracy: 0.9758 - val_loss: 0.1207 - val_accuracy: 0.9670\n",
            "Epoch 79/100\n",
            "1250/1250 [==============================] - 6s 5ms/step - loss: 0.0952 - accuracy: 0.9758 - val_loss: 0.1203 - val_accuracy: 0.9672\n",
            "Epoch 80/100\n",
            "1250/1250 [==============================] - 6s 5ms/step - loss: 0.0943 - accuracy: 0.9764 - val_loss: 0.1202 - val_accuracy: 0.9676\n",
            "Epoch 81/100\n",
            "1250/1250 [==============================] - 7s 6ms/step - loss: 0.0937 - accuracy: 0.9765 - val_loss: 0.1190 - val_accuracy: 0.9674\n",
            "Epoch 82/100\n",
            "1250/1250 [==============================] - 5s 4ms/step - loss: 0.0928 - accuracy: 0.9766 - val_loss: 0.1182 - val_accuracy: 0.9683\n",
            "Epoch 83/100\n",
            "1250/1250 [==============================] - 8s 7ms/step - loss: 0.0921 - accuracy: 0.9768 - val_loss: 0.1182 - val_accuracy: 0.9676\n",
            "Epoch 84/100\n",
            "1250/1250 [==============================] - 6s 4ms/step - loss: 0.0914 - accuracy: 0.9771 - val_loss: 0.1173 - val_accuracy: 0.9685\n",
            "Epoch 85/100\n",
            "1250/1250 [==============================] - 7s 5ms/step - loss: 0.0906 - accuracy: 0.9773 - val_loss: 0.1167 - val_accuracy: 0.9686\n",
            "Epoch 86/100\n",
            "1250/1250 [==============================] - 6s 4ms/step - loss: 0.0899 - accuracy: 0.9776 - val_loss: 0.1162 - val_accuracy: 0.9683\n",
            "Epoch 87/100\n",
            "1250/1250 [==============================] - 6s 5ms/step - loss: 0.0891 - accuracy: 0.9776 - val_loss: 0.1162 - val_accuracy: 0.9688\n",
            "Epoch 88/100\n",
            "1250/1250 [==============================] - 7s 5ms/step - loss: 0.0885 - accuracy: 0.9781 - val_loss: 0.1154 - val_accuracy: 0.9689\n",
            "Epoch 89/100\n",
            "1250/1250 [==============================] - 5s 4ms/step - loss: 0.0878 - accuracy: 0.9780 - val_loss: 0.1148 - val_accuracy: 0.9689\n",
            "Epoch 90/100\n",
            "1250/1250 [==============================] - 7s 6ms/step - loss: 0.0871 - accuracy: 0.9779 - val_loss: 0.1144 - val_accuracy: 0.9689\n",
            "Epoch 91/100\n",
            "1250/1250 [==============================] - 5s 4ms/step - loss: 0.0864 - accuracy: 0.9786 - val_loss: 0.1137 - val_accuracy: 0.9696\n",
            "Epoch 92/100\n",
            "1250/1250 [==============================] - 6s 5ms/step - loss: 0.0857 - accuracy: 0.9789 - val_loss: 0.1133 - val_accuracy: 0.9693\n",
            "Epoch 93/100\n",
            "1250/1250 [==============================] - 6s 5ms/step - loss: 0.0850 - accuracy: 0.9786 - val_loss: 0.1130 - val_accuracy: 0.9695\n",
            "Epoch 94/100\n",
            "1250/1250 [==============================] - 5s 4ms/step - loss: 0.0843 - accuracy: 0.9790 - val_loss: 0.1125 - val_accuracy: 0.9696\n",
            "Epoch 95/100\n",
            "1250/1250 [==============================] - 7s 6ms/step - loss: 0.0836 - accuracy: 0.9793 - val_loss: 0.1120 - val_accuracy: 0.9699\n",
            "Epoch 96/100\n",
            "1250/1250 [==============================] - 5s 4ms/step - loss: 0.0830 - accuracy: 0.9794 - val_loss: 0.1116 - val_accuracy: 0.9702\n",
            "Epoch 97/100\n",
            "1250/1250 [==============================] - 8s 6ms/step - loss: 0.0823 - accuracy: 0.9795 - val_loss: 0.1112 - val_accuracy: 0.9703\n",
            "Epoch 98/100\n",
            "1250/1250 [==============================] - 8s 6ms/step - loss: 0.0817 - accuracy: 0.9798 - val_loss: 0.1107 - val_accuracy: 0.9702\n",
            "Epoch 99/100\n",
            "1250/1250 [==============================] - 8s 6ms/step - loss: 0.0811 - accuracy: 0.9797 - val_loss: 0.1101 - val_accuracy: 0.9706\n",
            "Epoch 100/100\n",
            "1250/1250 [==============================] - 6s 4ms/step - loss: 0.0805 - accuracy: 0.9800 - val_loss: 0.1099 - val_accuracy: 0.9709\n"
          ]
        }
      ],
      "source": [
        "history4 = model4.fit(X_train_normalized , y_train_onehot, validation_data=(X_valid_normalized, y_valid_onehot), callbacks=[early_stopping],batch_size=32, epochs=100)"
      ]
    },
    {
      "cell_type": "code",
      "source": [
        "loss4, accuracy4 = model4.evaluate(X_valid_normalized  ,  y_valid_onehot, verbose = 0) # To-Do (Evaluate the model on train data)\n",
        "print(f\"Valid Loss: {loss4:.4f}, Valid Accuracy: {accuracy4:.4f}\")"
      ],
      "metadata": {
        "colab": {
          "base_uri": "https://localhost:8080/"
        },
        "id": "Z1UQtCu10c5z",
        "outputId": "eb05a889-e0d4-4e57-a266-d9a79f2a5865"
      },
      "execution_count": null,
      "outputs": [
        {
          "output_type": "stream",
          "name": "stdout",
          "text": [
            "Valid Loss: 0.1099, Valid Accuracy: 0.9709\n"
          ]
        }
      ]
    },
    {
      "cell_type": "code",
      "source": [
        "loss4_tr, accuracy4_tr = model4.evaluate(X_train_normalized ,y_train_onehot)\n",
        "print(f\"Train Loss: {loss4_tr:.4f}, Train Accuracy: {accuracy4_tr :.4f}\")"
      ],
      "metadata": {
        "colab": {
          "base_uri": "https://localhost:8080/"
        },
        "id": "vzdgASQV0o0y",
        "outputId": "75f5181a-06f2-4bfa-fd3e-eddc0f2c5f81"
      },
      "execution_count": null,
      "outputs": [
        {
          "output_type": "stream",
          "name": "stdout",
          "text": [
            "1250/1250 [==============================] - 3s 2ms/step - loss: 0.0796 - accuracy: 0.9804\n",
            "Train Loss: 0.0796, Train Accuracy: 0.9804\n"
          ]
        }
      ]
    },
    {
      "cell_type": "code",
      "source": [
        "loss4_test, accuracy4_test = model4.evaluate(X_test_normalized ,y_test_onehot)\n",
        "print(f\"Test Loss: {loss4_tr:.4f}, Test Accuracy: {accuracy4_tr :.4f}\")"
      ],
      "metadata": {
        "colab": {
          "base_uri": "https://localhost:8080/"
        },
        "id": "zGM9Xa_a0y9k",
        "outputId": "5a079bd4-9fea-42b9-bae1-20097eed7a59"
      },
      "execution_count": null,
      "outputs": [
        {
          "output_type": "stream",
          "name": "stdout",
          "text": [
            "313/313 [==============================] - 1s 4ms/step - loss: 0.1075 - accuracy: 0.9706\n",
            "Test Loss: 0.0796, Test Accuracy: 0.9804\n"
          ]
        }
      ]
    },
    {
      "cell_type": "code",
      "source": [
        "tr_acc = history4.history['accuracy']\n",
        "tr_loss = history4.history['loss']\n",
        "val_acc =history4.history['val_accuracy']\n",
        "val_loss = history4.history['val_loss']\n",
        "\n",
        "epochs = [i+1 for i in range(len(tr_acc))]\n",
        "\n",
        "plt.figure(figsize=(20, 8))\n",
        "plt.subplot(1, 2, 1)\n",
        "plt.plot(epochs, tr_loss, 'r', label='Train Loss')\n",
        "plt.plot(epochs, val_loss, 'g', label='Val Loss')\n",
        "plt.title('Loss')\n",
        "plt.legend()\n",
        "plt.xlabel('Epochs')\n",
        "plt.ylabel('Loss')\n",
        "\n",
        "plt.subplot(1, 2, 2)\n",
        "plt.plot(epochs, tr_acc, 'r', label='Train Accuracy')\n",
        "plt.plot(epochs, val_acc, 'g', label='Val Accuracy')\n",
        "plt.title('Accuracy')\n",
        "plt.legend()\n",
        "plt.xlabel('Epochs')\n",
        "plt.ylabel('Accuracy')\n",
        "\n",
        "plt.tight_layout()\n",
        "plt.show()"
      ],
      "metadata": {
        "colab": {
          "base_uri": "https://localhost:8080/",
          "height": 610
        },
        "id": "HNTcMSag3goS",
        "outputId": "b4e3b992-9e2b-47e0-c1fc-032ec2f23c4a"
      },
      "execution_count": null,
      "outputs": [
        {
          "output_type": "display_data",
          "data": {
            "text/plain": [
              "<Figure size 2000x800 with 2 Axes>"
            ],
            "image/png": "[encoded data removed]"
          },
          "metadata": {}
        }
      ]
    },
    {
      "cell_type": "code",
      "execution_count": null,
      "metadata": {
        "id": "SuWnZqWMZcA3"
      },
      "outputs": [],
      "source": [
        "# To-Do (Final accuracy on validation data)"
      ]
    },
    {
      "cell_type": "code",
      "execution_count": null,
      "metadata": {
        "id": "0BEY4JptZcA3"
      },
      "outputs": [],
      "source": [
        "# To-Do (Plot training and validation accuracy)"
      ]
    },
    {
      "cell_type": "markdown",
      "metadata": {
        "id": "tFcGibCJZcA4"
      },
      "source": [
        "<h3 align=right style=\"line-height:200%;font-family:vazir;color:#0099cc\">\n",
        "<font face=\"vazir\" color=\"#0099cc\">\n",
        "مقایسه و تحلیل مدل‌ها\n",
        "</font>\n",
        "</h3>\n",
        "\n",
        "<p dir=rtl style=\"direction: rtl;text-align: justify;line-height:200%;font-family:vazir;font-size:medium\">\n",
        "<font face=\"vazir\" size=3>\n",
        "اکنون از شما می‌خواهیم یک نمودار واحد رسم کنید که دقت هرکدام از مدل‌های بالا روی مجموعه‌ی اعتبارسنجی در هر دور با یک خط و رنگ مجزا نشان داده شده باشد.\n",
        "<br>\n",
        "پس از رسم این نمودار، لطفاً طبق نتایج به‌دست‌آمده تحلیل خود را از تاثیر هرکدام از هایپرپارامترها یا تغییراتی که در مدل داده‌اید بنویسید. سعی کنید در تحلیل خود دلیلی برای وجود این تفاوت‌ها ارائه دهید.\n",
        "</font>\n",
        "</p>"
      ]
    },
    {
      "cell_type": "code",
      "source": [
        "# tr_acc = history4.history['accuracy']\n",
        "# tr_loss = history4.history['loss']\n",
        "val_acc4 =history4.history['val_accuracy']\n",
        "val_acc3 =history3.history['val_accuracy']\n",
        "val_acc2 =history2.history['val_accuracy']\n",
        "val_acc1 =history1.history['val_accuracy']\n",
        "\n",
        "\n",
        "# val_loss = history4.history['val_loss']\n",
        "\n",
        "epochs = [i+1 for i in range(len(val_acc))]\n",
        "\n",
        "plt.figure(figsize=(20, 8))\n",
        "# plt.subplot(1, 2, 1)\n",
        "# plt.plot(epochs, tr_loss, 'r', label='Train Loss')\n",
        "# plt.plot(epochs, val_loss, 'g', label='Val Loss')\n",
        "# plt.title('Loss')\n",
        "# plt.legend()\n",
        "# plt.xlabel('Epochs')\n",
        "# plt.ylabel('Loss')\n",
        "\n",
        "plt.subplot(1, 1, 1)\n",
        "# plt.plot(epochs, tr_acc, 'r', label='Train Accuracy')\n",
        "plt.plot(epochs, val_acc1, 'r', label='Val Accuracy1')\n",
        "plt.plot(epochs, val_acc2, 'g', label='Val Accuracy2')\n",
        "plt.plot(epochs, val_acc3, 'y', label='Val Accuracy3')\n",
        "plt.plot(epochs, val_acc4, 'o', label='Val Accuracy4')\n",
        "\n",
        "plt.title('Accuracy')\n",
        "plt.legend()\n",
        "plt.xlabel('Epochs')\n",
        "plt.ylabel('Accuracy')\n",
        "\n",
        "plt.tight_layout()\n",
        "plt.show()"
      ],
      "metadata": {
        "colab": {
          "base_uri": "https://localhost:8080/",
          "height": 610
        },
        "id": "hB9RlBpc50SY",
        "outputId": "b1a877e6-36ff-4777-d84f-5c1928ff7a95"
      },
      "execution_count": null,
      "outputs": [
        {
          "output_type": "display_data",
          "data": {
            "text/plain": [
              "<Figure size 2000x800 with 1 Axes>"
            ],
            "image/png": "[encoded data removed]"
          },
          "metadata": {}
        }
      ]
    },
    {
      "cell_type": "markdown",
      "source": [
        "مدل سوم\n",
        "که relu\n",
        "برای اکتیویشن آن استفاده شده،\n",
        "دقت بهتری دارد\n",
        "چرا که این اکتیویشن به کاهش مشکل گرادیان کمک می کند و باعث همگرایی بهتر می شود"
      ],
      "metadata": {
        "id": "qmJEQMsm12UK"
      }
    },
    {
      "cell_type": "code",
      "execution_count": null,
      "metadata": {
        "id": "Wphu163xZcA4"
      },
      "outputs": [],
      "source": [
        "# To-Do (Plot validation accuracy of all models)"
      ]
    },
    {
      "cell_type": "markdown",
      "metadata": {
        "id": "irMD5Vu2ZcA5"
      },
      "source": [
        "<p dir=rtl style=\"direction: rtl;text-align: center;line-height:200%;font-family:vazir;font-size:medium; color:#0099cc\"><font face=\"vazir\" size=3><i>\n",
        "تحلیل خود را در این بخش بنویسید.\n",
        "</i></font></p>"
      ]
    },
    {
      "cell_type": "markdown",
      "metadata": {
        "id": "axNP5mHjZcA5"
      },
      "source": [
        "<h2 align=right style=\"line-height:200%;font-family:vazir;color:#0099cc\">\n",
        "<font face=\"vazir\" color=\"#0099cc\">\n",
        "جست‌وجوی بیشتر\n",
        "</font>\n",
        "</h2>\n",
        "\n",
        "<p dir=rtl style=\"direction: rtl;text-align: justify;line-height:200%;font-family:vazir;font-size:medium\">\n",
        "<font face=\"vazir\" size=3>\n",
        "حال به صلاح‌دید خود سعی کنید هایپرپارامترهای بیشتری را تنظیم کنید تا به مدلی با عملکرد بهتر روی مجموعه‌ی اعتبارسنجی دست یابید. می‌توانید از تکنیک <code>Dropout</code> بهره ببرید، وزن‌ها را رگولارایز کنید، از روش دیگری برای مقداردهی اولیه‌ی وزن‌ها استفاده کنید، تعداد نورون‌ها یا لایه‌ها را کاهش یا افزایش دهید، تابع بهینه‌ساز را تغییر دهید یا نرخ یادگیری متفاوتی را امتحان کنید. همچنین می‌توانید از تنظیم‌کننده‌ی هایپرپارامتر کتابخانه‌ی کراس نیز بهره ببرید. در انتها نیاز است ساختار مدل شما،‌ عملکرد نهایی آن روی مجموعه‌ی آموزشی و نمودار دقت آن در مجموعه‌ی آموزشی و اعتبارسنجی قابل مشاهده باشد.\n",
        "</font>\n",
        "</p>"
      ]
    },
    {
      "cell_type": "code",
      "source": [
        "!pip install keras-tuner -q\n"
      ],
      "metadata": {
        "colab": {
          "base_uri": "https://localhost:8080/"
        },
        "id": "kJkL3HKtPuq2",
        "outputId": "b5cb25e6-3337-4d6f-a818-2db7389ae31f"
      },
      "execution_count": null,
      "outputs": [
        {
          "output_type": "stream",
          "name": "stdout",
          "text": [
            "\u001b[?25l     \u001b[90m━━━━━━━━━━━━━━━━━━━━━━━━━━━━━━━━━━━━━━━━\u001b[0m \u001b[32m0.0/129.1 kB\u001b[0m \u001b[31m?\u001b[0m eta \u001b[36m-:--:--\u001b[0m\r\u001b[2K     \u001b[91m━━━━━━━━━━━━━━━━━━━━━━━━━━━━━━━━━━━━━━\u001b[0m\u001b[90m╺\u001b[0m\u001b[90m━\u001b[0m \u001b[32m122.9/129.1 kB\u001b[0m \u001b[31m4.3 MB/s\u001b[0m eta \u001b[36m0:00:01\u001b[0m\r\u001b[2K     \u001b[90m━━━━━━━━━━━━━━━━━━━━━━━━━━━━━━━━━━━━━━━━\u001b[0m \u001b[32m129.1/129.1 kB\u001b[0m \u001b[31m3.3 MB/s\u001b[0m eta \u001b[36m0:00:00\u001b[0m\n",
            "\u001b[?25h"
          ]
        }
      ]
    },
    {
      "cell_type": "code",
      "source": [
        "import keras_tuner\n"
      ],
      "metadata": {
        "id": "6Ln_FD1CP6H6"
      },
      "execution_count": null,
      "outputs": []
    },
    {
      "cell_type": "code",
      "source": [
        "def build_model(hp):\n",
        "   model5 = Sequential()\n",
        "   model5.add(layers.Dense(64,activation='relu',input_shape=(3844,)))\n",
        "   model5.add(layers.Dense(256,activation='relu'))\n",
        "   model5.add(layers.Dense(10, activation='softmax'))\n",
        "   optimizer_SGD = keras.optimizers.SGD(learning_rate=0.001)\n",
        "   model5.compile( loss= keras.losses.categorical_crossentropy, optimizer=optimizer_SGD, metrics=['accuracy'])\n",
        "   EarlyStopping(monitor='val_loss', patience=10)\n",
        "   return model5\n",
        "\n",
        "\n",
        "build_model(keras_tuner.HyperParameters())"
      ],
      "metadata": {
        "colab": {
          "base_uri": "https://localhost:8080/"
        },
        "id": "e_oYzGLpQHJn",
        "outputId": "9a75b9c0-a5a1-45b5-85af-5d63c131a670"
      },
      "execution_count": null,
      "outputs": [
        {
          "output_type": "execute_result",
          "data": {
            "text/plain": [
              "<keras.src.engine.sequential.Sequential at 0x790a8778e7a0>"
            ]
          },
          "metadata": {},
          "execution_count": 88
        }
      ]
    },
    {
      "cell_type": "code",
      "source": [
        "tuner = keras_tuner.RandomSearch(\n",
        "    hypermodel=build_model,\n",
        "    objective=\"val_accuracy\",\n",
        "    max_trials=3,\n",
        "    executions_per_trial=2,\n",
        "    overwrite=True,\n",
        "    directory=None,\n",
        "    project_name=\"Hyper Model\",\n",
        ")"
      ],
      "metadata": {
        "id": "PhfrXeSEPYPr"
      },
      "execution_count": null,
      "outputs": []
    },
    {
      "cell_type": "code",
      "source": [
        "tuner.search(X_train_normalized , y_train_onehot, validation_data=(X_valid_normalized, y_valid_onehot),batch_size=32, epochs=100)"
      ],
      "metadata": {
        "colab": {
          "base_uri": "https://localhost:8080/"
        },
        "id": "GoT_CvFr85TW",
        "outputId": "b897519a-9d74-482b-bd68-4287d8bb3596"
      },
      "execution_count": null,
      "outputs": [
        {
          "output_type": "stream",
          "name": "stdout",
          "text": [
            "Trial 1 Complete [00h 21m 53s]\n",
            "val_accuracy: 0.972350001335144\n",
            "\n",
            "Best val_accuracy So Far: 0.972350001335144\n",
            "Total elapsed time: 00h 21m 53s\n"
          ]
        }
      ]
    },
    {
      "cell_type": "code",
      "source": [
        "best_model = tuner.get_best_models()[0]\n",
        "best_model"
      ],
      "metadata": {
        "colab": {
          "base_uri": "https://localhost:8080/"
        },
        "id": "fmQz7JP5jjQf",
        "outputId": "ce296d59-9e81-4778-bf75-5eca65fb3170"
      },
      "execution_count": null,
      "outputs": [
        {
          "output_type": "execute_result",
          "data": {
            "text/plain": [
              "<keras.src.engine.sequential.Sequential at 0x790b17ccb2e0>"
            ]
          },
          "metadata": {},
          "execution_count": 103
        }
      ]
    },
    {
      "cell_type": "code",
      "source": [
        "hypermodels = tuner.hypermodel.build(best_model )\n",
        "his5=hypermodels.fit(X_train_normalized , y_train_onehot, validation_data=(X_valid_normalized, y_valid_onehot), callbacks=[early_stopping],batch_size=32, epochs=100)\n"
      ],
      "metadata": {
        "colab": {
          "base_uri": "https://localhost:8080/"
        },
        "id": "I1pt7B-bkf3W",
        "outputId": "4487e2cb-2f71-46d4-bb63-24527cc4e960"
      },
      "execution_count": null,
      "outputs": [
        {
          "output_type": "stream",
          "name": "stdout",
          "text": [
            "Epoch 1/100\n",
            "1250/1250 [==============================] - 8s 6ms/step - loss: 1.8942 - accuracy: 0.5133 - val_loss: 1.3439 - val_accuracy: 0.8111\n",
            "Epoch 2/100\n",
            "1250/1250 [==============================] - 5s 4ms/step - loss: 0.9044 - accuracy: 0.8451 - val_loss: 0.6319 - val_accuracy: 0.8638\n",
            "Epoch 3/100\n",
            "1250/1250 [==============================] - 7s 6ms/step - loss: 0.5149 - accuracy: 0.8769 - val_loss: 0.4461 - val_accuracy: 0.8829\n",
            "Epoch 4/100\n",
            "1250/1250 [==============================] - 5s 4ms/step - loss: 0.3963 - accuracy: 0.8941 - val_loss: 0.3695 - val_accuracy: 0.8995\n",
            "Epoch 5/100\n",
            "1250/1250 [==============================] - 6s 5ms/step - loss: 0.3389 - accuracy: 0.9062 - val_loss: 0.3262 - val_accuracy: 0.9088\n",
            "Epoch 6/100\n",
            "1250/1250 [==============================] - 7s 5ms/step - loss: 0.3035 - accuracy: 0.9143 - val_loss: 0.2975 - val_accuracy: 0.9156\n",
            "Epoch 7/100\n",
            "1250/1250 [==============================] - 5s 4ms/step - loss: 0.2789 - accuracy: 0.9205 - val_loss: 0.2771 - val_accuracy: 0.9233\n",
            "Epoch 8/100\n",
            "1250/1250 [==============================] - 7s 6ms/step - loss: 0.2607 - accuracy: 0.9263 - val_loss: 0.2607 - val_accuracy: 0.9251\n",
            "Epoch 9/100\n",
            "1250/1250 [==============================] - 5s 4ms/step - loss: 0.2464 - accuracy: 0.9309 - val_loss: 0.2482 - val_accuracy: 0.9284\n",
            "Epoch 10/100\n",
            "1250/1250 [==============================] - 6s 5ms/step - loss: 0.2349 - accuracy: 0.9344 - val_loss: 0.2377 - val_accuracy: 0.9330\n",
            "Epoch 11/100\n",
            "1250/1250 [==============================] - 6s 5ms/step - loss: 0.2252 - accuracy: 0.9379 - val_loss: 0.2289 - val_accuracy: 0.9349\n",
            "Epoch 12/100\n",
            "1250/1250 [==============================] - 5s 4ms/step - loss: 0.2170 - accuracy: 0.9405 - val_loss: 0.2216 - val_accuracy: 0.9377\n",
            "Epoch 13/100\n",
            "1250/1250 [==============================] - 7s 6ms/step - loss: 0.2099 - accuracy: 0.9424 - val_loss: 0.2151 - val_accuracy: 0.9399\n",
            "Epoch 14/100\n",
            "1250/1250 [==============================] - 5s 4ms/step - loss: 0.2035 - accuracy: 0.9446 - val_loss: 0.2090 - val_accuracy: 0.9407\n",
            "Epoch 15/100\n",
            "1250/1250 [==============================] - 6s 5ms/step - loss: 0.1979 - accuracy: 0.9463 - val_loss: 0.2043 - val_accuracy: 0.9437\n",
            "Epoch 16/100\n",
            "1250/1250 [==============================] - 6s 4ms/step - loss: 0.1928 - accuracy: 0.9481 - val_loss: 0.1995 - val_accuracy: 0.9444\n",
            "Epoch 17/100\n",
            "1250/1250 [==============================] - 5s 4ms/step - loss: 0.1882 - accuracy: 0.9494 - val_loss: 0.1947 - val_accuracy: 0.9460\n",
            "Epoch 18/100\n",
            "1250/1250 [==============================] - 7s 6ms/step - loss: 0.1839 - accuracy: 0.9508 - val_loss: 0.1911 - val_accuracy: 0.9465\n",
            "Epoch 19/100\n",
            "1250/1250 [==============================] - 5s 4ms/step - loss: 0.1800 - accuracy: 0.9514 - val_loss: 0.1875 - val_accuracy: 0.9480\n",
            "Epoch 20/100\n",
            "1250/1250 [==============================] - 7s 5ms/step - loss: 0.1763 - accuracy: 0.9534 - val_loss: 0.1846 - val_accuracy: 0.9494\n",
            "Epoch 21/100\n",
            "1250/1250 [==============================] - 5s 4ms/step - loss: 0.1729 - accuracy: 0.9539 - val_loss: 0.1815 - val_accuracy: 0.9504\n",
            "Epoch 22/100\n",
            "1250/1250 [==============================] - 5s 4ms/step - loss: 0.1697 - accuracy: 0.9554 - val_loss: 0.1782 - val_accuracy: 0.9508\n",
            "Epoch 23/100\n",
            "1250/1250 [==============================] - 7s 6ms/step - loss: 0.1668 - accuracy: 0.9562 - val_loss: 0.1758 - val_accuracy: 0.9517\n",
            "Epoch 24/100\n",
            "1250/1250 [==============================] - 5s 4ms/step - loss: 0.1638 - accuracy: 0.9567 - val_loss: 0.1733 - val_accuracy: 0.9535\n",
            "Epoch 25/100\n",
            "1250/1250 [==============================] - 7s 5ms/step - loss: 0.1612 - accuracy: 0.9578 - val_loss: 0.1713 - val_accuracy: 0.9542\n",
            "Epoch 26/100\n",
            "1250/1250 [==============================] - 5s 4ms/step - loss: 0.1587 - accuracy: 0.9587 - val_loss: 0.1685 - val_accuracy: 0.9548\n",
            "Epoch 27/100\n",
            "1250/1250 [==============================] - 6s 5ms/step - loss: 0.1563 - accuracy: 0.9592 - val_loss: 0.1668 - val_accuracy: 0.9545\n",
            "Epoch 28/100\n",
            "1250/1250 [==============================] - 6s 5ms/step - loss: 0.1540 - accuracy: 0.9595 - val_loss: 0.1650 - val_accuracy: 0.9558\n",
            "Epoch 29/100\n",
            "1250/1250 [==============================] - 5s 4ms/step - loss: 0.1518 - accuracy: 0.9603 - val_loss: 0.1631 - val_accuracy: 0.9564\n",
            "Epoch 30/100\n",
            "1250/1250 [==============================] - 7s 6ms/step - loss: 0.1497 - accuracy: 0.9609 - val_loss: 0.1616 - val_accuracy: 0.9561\n",
            "Epoch 31/100\n",
            "1250/1250 [==============================] - 5s 4ms/step - loss: 0.1477 - accuracy: 0.9610 - val_loss: 0.1598 - val_accuracy: 0.9566\n",
            "Epoch 32/100\n",
            "1250/1250 [==============================] - 6s 5ms/step - loss: 0.1457 - accuracy: 0.9623 - val_loss: 0.1580 - val_accuracy: 0.9574\n",
            "Epoch 33/100\n",
            "1250/1250 [==============================] - 6s 4ms/step - loss: 0.1438 - accuracy: 0.9625 - val_loss: 0.1564 - val_accuracy: 0.9581\n",
            "Epoch 34/100\n",
            "1250/1250 [==============================] - 5s 4ms/step - loss: 0.1420 - accuracy: 0.9632 - val_loss: 0.1554 - val_accuracy: 0.9578\n",
            "Epoch 35/100\n",
            "1250/1250 [==============================] - 7s 6ms/step - loss: 0.1402 - accuracy: 0.9633 - val_loss: 0.1536 - val_accuracy: 0.9587\n",
            "Epoch 36/100\n",
            "1250/1250 [==============================] - 5s 4ms/step - loss: 0.1386 - accuracy: 0.9639 - val_loss: 0.1526 - val_accuracy: 0.9585\n",
            "Epoch 37/100\n",
            "1250/1250 [==============================] - 7s 6ms/step - loss: 0.1368 - accuracy: 0.9645 - val_loss: 0.1512 - val_accuracy: 0.9598\n",
            "Epoch 38/100\n",
            "1250/1250 [==============================] - 5s 4ms/step - loss: 0.1352 - accuracy: 0.9650 - val_loss: 0.1499 - val_accuracy: 0.9600\n",
            "Epoch 39/100\n",
            "1250/1250 [==============================] - 6s 5ms/step - loss: 0.1336 - accuracy: 0.9654 - val_loss: 0.1482 - val_accuracy: 0.9601\n",
            "Epoch 40/100\n",
            "1250/1250 [==============================] - 7s 5ms/step - loss: 0.1321 - accuracy: 0.9658 - val_loss: 0.1473 - val_accuracy: 0.9598\n",
            "Epoch 41/100\n",
            "1250/1250 [==============================] - 5s 4ms/step - loss: 0.1304 - accuracy: 0.9665 - val_loss: 0.1462 - val_accuracy: 0.9606\n",
            "Epoch 42/100\n",
            "1250/1250 [==============================] - 7s 6ms/step - loss: 0.1291 - accuracy: 0.9668 - val_loss: 0.1449 - val_accuracy: 0.9608\n",
            "Epoch 43/100\n",
            "1250/1250 [==============================] - 5s 4ms/step - loss: 0.1277 - accuracy: 0.9669 - val_loss: 0.1438 - val_accuracy: 0.9609\n",
            "Epoch 44/100\n",
            "1250/1250 [==============================] - 7s 5ms/step - loss: 0.1263 - accuracy: 0.9672 - val_loss: 0.1429 - val_accuracy: 0.9614\n",
            "Epoch 45/100\n",
            "1250/1250 [==============================] - 6s 5ms/step - loss: 0.1250 - accuracy: 0.9677 - val_loss: 0.1415 - val_accuracy: 0.9611\n",
            "Epoch 46/100\n",
            "1250/1250 [==============================] - 5s 4ms/step - loss: 0.1236 - accuracy: 0.9681 - val_loss: 0.1401 - val_accuracy: 0.9618\n",
            "Epoch 47/100\n",
            "1250/1250 [==============================] - 7s 6ms/step - loss: 0.1223 - accuracy: 0.9680 - val_loss: 0.1393 - val_accuracy: 0.9623\n",
            "Epoch 48/100\n",
            "1250/1250 [==============================] - 5s 4ms/step - loss: 0.1210 - accuracy: 0.9686 - val_loss: 0.1386 - val_accuracy: 0.9623\n",
            "Epoch 49/100\n",
            "1250/1250 [==============================] - 7s 6ms/step - loss: 0.1197 - accuracy: 0.9693 - val_loss: 0.1372 - val_accuracy: 0.9629\n",
            "Epoch 50/100\n",
            "1250/1250 [==============================] - 5s 4ms/step - loss: 0.1185 - accuracy: 0.9694 - val_loss: 0.1362 - val_accuracy: 0.9631\n",
            "Epoch 51/100\n",
            "1250/1250 [==============================] - 6s 5ms/step - loss: 0.1172 - accuracy: 0.9695 - val_loss: 0.1357 - val_accuracy: 0.9630\n",
            "Epoch 52/100\n",
            "1250/1250 [==============================] - 6s 5ms/step - loss: 0.1161 - accuracy: 0.9696 - val_loss: 0.1349 - val_accuracy: 0.9640\n",
            "Epoch 53/100\n",
            "1250/1250 [==============================] - 5s 4ms/step - loss: 0.1149 - accuracy: 0.9703 - val_loss: 0.1337 - val_accuracy: 0.9640\n",
            "Epoch 54/100\n",
            "1250/1250 [==============================] - 7s 6ms/step - loss: 0.1137 - accuracy: 0.9707 - val_loss: 0.1328 - val_accuracy: 0.9641\n",
            "Epoch 55/100\n",
            "1250/1250 [==============================] - 5s 4ms/step - loss: 0.1126 - accuracy: 0.9709 - val_loss: 0.1329 - val_accuracy: 0.9647\n",
            "Epoch 56/100\n",
            "1250/1250 [==============================] - 6s 5ms/step - loss: 0.1113 - accuracy: 0.9715 - val_loss: 0.1315 - val_accuracy: 0.9651\n",
            "Epoch 57/100\n",
            "1250/1250 [==============================] - 6s 5ms/step - loss: 0.1104 - accuracy: 0.9714 - val_loss: 0.1306 - val_accuracy: 0.9659\n",
            "Epoch 58/100\n",
            "1250/1250 [==============================] - 5s 4ms/step - loss: 0.1093 - accuracy: 0.9719 - val_loss: 0.1296 - val_accuracy: 0.9662\n",
            "Epoch 59/100\n",
            "1250/1250 [==============================] - 7s 6ms/step - loss: 0.1082 - accuracy: 0.9721 - val_loss: 0.1289 - val_accuracy: 0.9654\n",
            "Epoch 60/100\n",
            "1250/1250 [==============================] - 5s 4ms/step - loss: 0.1072 - accuracy: 0.9727 - val_loss: 0.1279 - val_accuracy: 0.9664\n",
            "Epoch 61/100\n",
            "1250/1250 [==============================] - 7s 5ms/step - loss: 0.1061 - accuracy: 0.9729 - val_loss: 0.1274 - val_accuracy: 0.9661\n",
            "Epoch 62/100\n",
            "1250/1250 [==============================] - 5s 4ms/step - loss: 0.1051 - accuracy: 0.9730 - val_loss: 0.1267 - val_accuracy: 0.9652\n",
            "Epoch 63/100\n",
            "1250/1250 [==============================] - 6s 4ms/step - loss: 0.1041 - accuracy: 0.9736 - val_loss: 0.1255 - val_accuracy: 0.9668\n",
            "Epoch 64/100\n",
            "1250/1250 [==============================] - 7s 5ms/step - loss: 0.1030 - accuracy: 0.9736 - val_loss: 0.1252 - val_accuracy: 0.9669\n",
            "Epoch 65/100\n",
            "1250/1250 [==============================] - 5s 4ms/step - loss: 0.1021 - accuracy: 0.9738 - val_loss: 0.1242 - val_accuracy: 0.9672\n",
            "Epoch 66/100\n",
            "1250/1250 [==============================] - 7s 6ms/step - loss: 0.1011 - accuracy: 0.9744 - val_loss: 0.1238 - val_accuracy: 0.9671\n",
            "Epoch 67/100\n",
            "1250/1250 [==============================] - 5s 4ms/step - loss: 0.1002 - accuracy: 0.9745 - val_loss: 0.1230 - val_accuracy: 0.9669\n",
            "Epoch 68/100\n",
            "1250/1250 [==============================] - 7s 5ms/step - loss: 0.0993 - accuracy: 0.9746 - val_loss: 0.1224 - val_accuracy: 0.9675\n",
            "Epoch 69/100\n",
            "1250/1250 [==============================] - 6s 5ms/step - loss: 0.0983 - accuracy: 0.9752 - val_loss: 0.1219 - val_accuracy: 0.9676\n",
            "Epoch 70/100\n",
            "1250/1250 [==============================] - 5s 4ms/step - loss: 0.0974 - accuracy: 0.9752 - val_loss: 0.1212 - val_accuracy: 0.9676\n",
            "Epoch 71/100\n",
            "1250/1250 [==============================] - 7s 6ms/step - loss: 0.0964 - accuracy: 0.9755 - val_loss: 0.1211 - val_accuracy: 0.9679\n",
            "Epoch 72/100\n",
            "1250/1250 [==============================] - 5s 4ms/step - loss: 0.0956 - accuracy: 0.9758 - val_loss: 0.1197 - val_accuracy: 0.9682\n",
            "Epoch 73/100\n",
            "1250/1250 [==============================] - 7s 5ms/step - loss: 0.0947 - accuracy: 0.9761 - val_loss: 0.1193 - val_accuracy: 0.9685\n",
            "Epoch 74/100\n",
            "1250/1250 [==============================] - 5s 4ms/step - loss: 0.0938 - accuracy: 0.9763 - val_loss: 0.1187 - val_accuracy: 0.9683\n",
            "Epoch 75/100\n",
            "1250/1250 [==============================] - 5s 4ms/step - loss: 0.0930 - accuracy: 0.9765 - val_loss: 0.1179 - val_accuracy: 0.9687\n",
            "Epoch 76/100\n",
            "1250/1250 [==============================] - 7s 6ms/step - loss: 0.0921 - accuracy: 0.9765 - val_loss: 0.1173 - val_accuracy: 0.9687\n",
            "Epoch 77/100\n",
            "1250/1250 [==============================] - 5s 4ms/step - loss: 0.0913 - accuracy: 0.9766 - val_loss: 0.1168 - val_accuracy: 0.9685\n",
            "Epoch 78/100\n",
            "1250/1250 [==============================] - 7s 6ms/step - loss: 0.0904 - accuracy: 0.9772 - val_loss: 0.1165 - val_accuracy: 0.9692\n",
            "Epoch 79/100\n",
            "1250/1250 [==============================] - 5s 4ms/step - loss: 0.0896 - accuracy: 0.9773 - val_loss: 0.1160 - val_accuracy: 0.9692\n",
            "Epoch 80/100\n",
            "1250/1250 [==============================] - 6s 5ms/step - loss: 0.0889 - accuracy: 0.9777 - val_loss: 0.1151 - val_accuracy: 0.9691\n",
            "Epoch 81/100\n",
            "1250/1250 [==============================] - 7s 5ms/step - loss: 0.0880 - accuracy: 0.9779 - val_loss: 0.1146 - val_accuracy: 0.9691\n",
            "Epoch 82/100\n",
            "1250/1250 [==============================] - 5s 4ms/step - loss: 0.0873 - accuracy: 0.9779 - val_loss: 0.1143 - val_accuracy: 0.9695\n",
            "Epoch 83/100\n",
            "1250/1250 [==============================] - 7s 6ms/step - loss: 0.0865 - accuracy: 0.9784 - val_loss: 0.1137 - val_accuracy: 0.9691\n",
            "Epoch 84/100\n",
            "1250/1250 [==============================] - 5s 4ms/step - loss: 0.0857 - accuracy: 0.9786 - val_loss: 0.1134 - val_accuracy: 0.9699\n",
            "Epoch 85/100\n",
            "1250/1250 [==============================] - 7s 5ms/step - loss: 0.0849 - accuracy: 0.9786 - val_loss: 0.1123 - val_accuracy: 0.9700\n",
            "Epoch 86/100\n",
            "1250/1250 [==============================] - 6s 5ms/step - loss: 0.0841 - accuracy: 0.9789 - val_loss: 0.1121 - val_accuracy: 0.9696\n",
            "Epoch 87/100\n",
            "1250/1250 [==============================] - 5s 4ms/step - loss: 0.0834 - accuracy: 0.9789 - val_loss: 0.1113 - val_accuracy: 0.9701\n",
            "Epoch 88/100\n",
            "1250/1250 [==============================] - 7s 6ms/step - loss: 0.0826 - accuracy: 0.9791 - val_loss: 0.1118 - val_accuracy: 0.9697\n",
            "Epoch 89/100\n",
            "1250/1250 [==============================] - 5s 4ms/step - loss: 0.0819 - accuracy: 0.9793 - val_loss: 0.1102 - val_accuracy: 0.9707\n",
            "Epoch 90/100\n",
            "1250/1250 [==============================] - 7s 6ms/step - loss: 0.0812 - accuracy: 0.9798 - val_loss: 0.1099 - val_accuracy: 0.9704\n",
            "Epoch 91/100\n",
            "1250/1250 [==============================] - 5s 4ms/step - loss: 0.0805 - accuracy: 0.9798 - val_loss: 0.1096 - val_accuracy: 0.9704\n",
            "Epoch 92/100\n",
            "1250/1250 [==============================] - 6s 5ms/step - loss: 0.0797 - accuracy: 0.9800 - val_loss: 0.1094 - val_accuracy: 0.9712\n",
            "Epoch 93/100\n",
            "1250/1250 [==============================] - 6s 5ms/step - loss: 0.0791 - accuracy: 0.9804 - val_loss: 0.1088 - val_accuracy: 0.9706\n",
            "Epoch 94/100\n",
            "1250/1250 [==============================] - 5s 4ms/step - loss: 0.0784 - accuracy: 0.9804 - val_loss: 0.1084 - val_accuracy: 0.9710\n",
            "Epoch 95/100\n",
            "1250/1250 [==============================] - 7s 6ms/step - loss: 0.0777 - accuracy: 0.9808 - val_loss: 0.1080 - val_accuracy: 0.9710\n",
            "Epoch 96/100\n",
            "1250/1250 [==============================] - 5s 4ms/step - loss: 0.0770 - accuracy: 0.9808 - val_loss: 0.1078 - val_accuracy: 0.9710\n",
            "Epoch 97/100\n",
            "1250/1250 [==============================] - 7s 6ms/step - loss: 0.0764 - accuracy: 0.9809 - val_loss: 0.1069 - val_accuracy: 0.9720\n",
            "Epoch 98/100\n",
            "1250/1250 [==============================] - 5s 4ms/step - loss: 0.0757 - accuracy: 0.9813 - val_loss: 0.1063 - val_accuracy: 0.9714\n",
            "Epoch 99/100\n",
            "1250/1250 [==============================] - 6s 5ms/step - loss: 0.0750 - accuracy: 0.9811 - val_loss: 0.1059 - val_accuracy: 0.9716\n",
            "Epoch 100/100\n",
            "1250/1250 [==============================] - 9s 7ms/step - loss: 0.0744 - accuracy: 0.9812 - val_loss: 0.1061 - val_accuracy: 0.9713\n"
          ]
        }
      ]
    },
    {
      "cell_type": "code",
      "source": [
        "eval_result = hypermodels.evaluate(X_test_normalized , y_test_onehot)"
      ],
      "metadata": {
        "colab": {
          "base_uri": "https://localhost:8080/"
        },
        "id": "hmGsVeq8lWOF",
        "outputId": "6284e968-56b8-4cc4-b29a-d7c1d1fab9f7"
      },
      "execution_count": null,
      "outputs": [
        {
          "output_type": "stream",
          "name": "stdout",
          "text": [
            "313/313 [==============================] - 1s 4ms/step - loss: 0.1034 - accuracy: 0.9710\n"
          ]
        }
      ]
    },
    {
      "cell_type": "code",
      "source": [
        "y_pred=hypermodels.predict(X_test_normalized )\n",
        "y_pred_1=np.argmax(y_pred, axis=1)\n",
        "y_test_1=np.argmax(y_test_onehot, axis=1)"
      ],
      "metadata": {
        "colab": {
          "base_uri": "https://localhost:8080/"
        },
        "id": "QJJb-Q-aoOLY",
        "outputId": "d50482cd-44a7-4ce0-a46b-998764035933"
      },
      "execution_count": null,
      "outputs": [
        {
          "output_type": "stream",
          "name": "stdout",
          "text": [
            "313/313 [==============================] - 1s 2ms/step\n"
          ]
        }
      ]
    },
    {
      "cell_type": "code",
      "source": [
        "from sklearn.metrics import classification_report\n",
        "# from sklearn import datasets, metrics, svm\n",
        "\n",
        "# target_names = ['class 0', 'class 1', 'class 2', 'class 3', 'class 4', 'class 5', 'class 5', '/ 6', 'class 7', 'class 8', 'class 9']"
      ],
      "metadata": {
        "id": "KTEQhuWQBk9r"
      },
      "execution_count": null,
      "outputs": []
    },
    {
      "cell_type": "markdown",
      "metadata": {
        "id": "02Ww5G9AZcA6"
      },
      "source": [
        "<h2 align=right style=\"line-height:200%;font-family:vazir;color:#0099cc\">\n",
        "<font face=\"vazir\" color=\"#0099cc\">\n",
        "نتیجه‌ی نهایی\n",
        "</font>\n",
        "</h2>\n",
        "\n",
        "<p dir=rtl style=\"direction: rtl;text-align: justify;line-height:200%;font-family:vazir;font-size:medium\">\n",
        "<font face=\"vazir\" size=3>\n",
        "حال که به مدلی با عملکرد بهتر روی مجموعه‌ی اعتبارسنجی دست پیدا کرده‌اید نیاز است این مدل نهایی‌شده را طبق نمونه‌های موجود در مجموعه‌ی آزمون ارزیابی کنید. با استفاده از تابع <code>classification_report</code> از کتابخانه‌ی <code>sklearn.metrics</code> گزارش دقت، صحت، بازخوانی و سایر معیارهای مربوط به مدل خود را روی مجموعه‌ی آزمون گزارش دهید.\n",
        "</font>\n",
        "</p>"
      ]
    },
    {
      "cell_type": "code",
      "source": [
        "print(classification_report(y_test_1 ,y_pred_1, labels=[0,1, 2, 3,4,5,6,7,8,9]))"
      ],
      "metadata": {
        "colab": {
          "base_uri": "https://localhost:8080/"
        },
        "id": "C-mqg7EDCErW",
        "outputId": "886f0d7b-a09a-4b16-b5c2-d90bec54916a"
      },
      "execution_count": null,
      "outputs": [
        {
          "output_type": "stream",
          "name": "stdout",
          "text": [
            "              precision    recall  f1-score   support\n",
            "\n",
            "           0       0.98      0.99      0.99       975\n",
            "           1       0.97      0.99      0.98       999\n",
            "           2       0.95      0.96      0.95       992\n",
            "           3       0.95      0.96      0.95      1005\n",
            "           4       0.97      0.92      0.94       991\n",
            "           5       0.99      0.98      0.99      1020\n",
            "           6       0.96      0.96      0.96       992\n",
            "           7       0.99      0.99      0.99      1006\n",
            "           8       0.98      0.99      0.99      1024\n",
            "           9       0.97      0.97      0.97       996\n",
            "\n",
            "    accuracy                           0.97     10000\n",
            "   macro avg       0.97      0.97      0.97     10000\n",
            "weighted avg       0.97      0.97      0.97     10000\n",
            "\n"
          ]
        }
      ]
    }
  ],
  "metadata": {
    "kernelspec": {
      "display_name": "py311",
      "language": "python",
      "name": "python3"
    },
    "language_info": {
      "codemirror_mode": {
        "name": "ipython",
        "version": 3
      },
      "file_extension": ".py",
      "mimetype": "text/x-python",
      "name": "python",
      "nbconvert_exporter": "python",
      "pygments_lexer": "ipython3",
      "version": "3.11.5"
    },
    "orig_nbformat": 4,
    "colab": {
      "provenance": []
    }
  },
  "nbformat": 4,
  "nbformat_minor": 0
}