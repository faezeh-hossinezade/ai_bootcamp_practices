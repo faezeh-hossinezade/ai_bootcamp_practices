{
  "cells": [
    {
      "cell_type": "markdown",
      "metadata": {
        "_uuid": "fa82fa6e259792dee3f25348d5cec67039512445",
        "id": "4FmjdYDsnUv8"
      },
      "source": [
        "<h1 align=center style=\"line-height:200%;font-family:vazir;color:#0099cc\">\n",
        "<font face=\"vazir\" color=\"#0099cc\">\n",
        "شبکه های عصبی پیچشی\n",
        "</font>\n",
        "</h1>\n",
        "<p dir=rtl style=\"direction: rtl;text-align: justify;line-height:200%;font-family:vazir;font-size:medium\">\n",
        "<font face=\"vazir\" size=3>\n",
        "شبکه عصبی پیچشی یک الگوریتم یادگیری عمیق است که برای تشخیص تصاویر استفاده می‌شود. این الگوریتم تصاویر را بر اساس شباهت دسته‌بندی کرده و شناسایی اشیاء در صحنه‌ها را انجام می‌دهد. CNN از ویژگی‌های منحصربه‌فرد تصاویر (مثلاً دم و گوش‌های گربه، بال و موتور هواپیما و غیره) برای شناسایی اشیایی که در تصویر قرار دارند استفاده می‌کند.این فرآیند بسیار شبیه به کاری است که مغز ما برای شناسایی اشیاء انجام می‌دهد.\n",
        "<p dir=rtl style=\"direction: rtl;text-align: justify;line-height:200%;font-family:vazir;font-size:medium\">\n",
        "<font face=\"vazir\" size=3>\n",
        "شبکه‌های عصبی برای پردازش تصاویر مناسب نیستند، به همین دلیل از CNN استفاده می‌کنیم. البته CNN تفاوت زیادی با شبکه‌های عصبی مصنوعی (ANN) ندارد. زیرا در نهایت الگوریتم CNN از شبکه‌های عصبی مصنوعی استفاده می‌کند، اما قبل از آن CNN از چندین لایه برای جمع‌آوری اطلاعات و تعیین ویژگی‌های تصویر استفاده می‌کند.\n",
        "<p dir=rtl style=\"direction: rtl;text-align: justify;line-height:200%;font-family:vazir;font-size:medium\">\n",
        "<font face=\"vazir\" size=3>\n",
        "لایه‌ها و فرآیندهای مختلفی در شبکه عصبی پیچشی (CNN) وجود دارند که هر کدام نقش مهمی در پردازش و تحلیل تصاویر ایفا می‌کنند. این لایه‌ها و فرآیندها به شرح زیر هستند:\n",
        "<p dir=rtl style=\"direction: rtl;text-align: justify;line-height:200%;font-family:vazir;font-size:medium\">\n",
        "<font face=\"vazir\" size=3>\n",
        "1. لایه پیچش (Convolution):\n",
        "لایه پیچش یا کانولوشن اصلی‌ترین جزء شبکه عصبی پیچشی است. در این لایه، فیلترهایی (kernel) با اندازه‌های کوچک روی تصویر ورودی حرکت می‌کنند و یک ماتریس جدید ایجاد می‌کنند که ویژگی‌های مهم تصویر را استخراج می‌کند. این فرآیند به شناسایی الگوهای خاص مانند لبه‌ها، بافت‌ها و غیره کمک می‌کند.\n",
        "<p dir=rtl style=\"direction: rtl;text-align: justify;line-height:200%;font-family:vazir;font-size:medium\">\n",
        "<font face=\"vazir\" size=3>\n",
        "2. لایه افزودن (Padding):\n",
        "افزودن یا پدینگ یک روش است که در آن پیکسل‌های اضافی به لبه‌های تصویر ورودی اضافه می‌شوند. این کار به منظور حفظ اندازه تصویر اصلی پس از اعمال لایه پیچش انجام می‌شود. پدینگ کمک می‌کند که اطلاعات مربوط به لبه‌های تصویر نیز در فرآیند پردازش در نظر گرفته شوند.\n",
        "<p dir=rtl style=\"direction: rtl;text-align: justify;line-height:200%;font-family:vazir;font-size:medium\">\n",
        "<font face=\"vazir\" size=3>\n",
        "3. لایه تجمع (Pooling)\n",
        "لایه تجمع یا پولینگ یک روش برای کاهش ابعاد تصویر است که بدون از دست دادن اطلاعات مهم، ابعاد تصویر را کاهش می‌دهد. دو نوع اصلی پولینگ وجود دارد:\n",
        "<ul dir=rtl>\n",
        "<li dir=rtl style=\"direction: rtl;text-align: justify;line-height:200%;font-family:vazir;font-size:medium\">\n",
        "Max Pooling: انتخاب بیشترین مقدار از هر ناحیه کوچک.\n",
        "<li dir=rtl style=\"direction: rtl;text-align: justify;line-height:200%;font-family:vazir;font-size:medium\">\n",
        "Average Pooling: محاسبه میانگین مقادیر در هر ناحیه کوچک.\n",
        "</ul>\n",
        "<p dir=rtl style=\"direction: rtl;text-align: justify;line-height:200%;font-family:vazir;font-size:medium\">\n",
        "<font face=\"vazir\" size=3>\n",
        "این فرآیند به کاهش محاسبات و جلوگیری از بیش‌برازش کمک می‌کند.\n",
        "<p dir=rtl style=\"direction: rtl;text-align: justify;line-height:200%;font-family:vazir;font-size:medium\">\n",
        "<font face=\"vazir\" size=3>\n",
        "4. لایه مسطح‌سازی (Flattening)\n",
        "پس از اعمال لایه‌های پیچش و تجمع، داده‌ها به شکل یک ماتریس چندبُعدی هستند. در این مرحله، داده‌ها به یک بردار یک‌بعدی تبدیل می‌شوند. این فرآیند مسطح‌سازی نام دارد و به اتصال کامل (Fully Connected) کمک می‌کند.\n",
        "<p dir=rtl style=\"direction: rtl;text-align: justify;line-height:200%;font-family:vazir;font-size:medium\">\n",
        "<font face=\"vazir\" size=3>\n",
        "5. لایه اتصال کامل (Full Connection)\n",
        "لایه اتصال کامل یا Fully Connected Layer یک لایه در شبکه عصبی مصنوعی است که در آن هر نود به تمامی نودهای لایه قبلی متصل است. در این لایه، ویژگی‌های استخراج‌شده توسط لایه‌های قبلی به یکدیگر متصل می‌شوند و شبکه می‌تواند تصمیم نهایی را در مورد شناسایی شیء بگیرد.\n",
        "<p dir=rtl style=\"direction: rtl;text-align: justify;line-height:200%;font-family:vazir;font-size:medium\">\n",
        "<font face=\"vazir\" size=3>"
      ]
    },
    {
      "cell_type": "markdown",
      "metadata": {
        "_uuid": "9730d58b1c29aafb1a8f2a884ad2f1aa519ec2cd",
        "id": "ZzzurLX3nUwB"
      },
      "source": [
        "<h2 align=center style=\"line-height:200%;font-family:vazir;color:#0099cc\">\n",
        "<font face=\"vazir\" color=\"#0099cc\">معرفی مجموعه داده</font></h2>\n",
        "\n",
        "<p dir=rtl style=\"direction: rtl;text-align: justify;line-height:200%;font-family:vazir;font-size:medium\">\n",
        "<font face=\"vazir\" size=3>\n",
        "حالا ما می‌خواهیم کرد تا از CNN با مجموعه داده‌ای استفاده کنیم که شامل تصاویر ۱۰ دسته مختلف از لباس‌ها است. این مجموعه داده شامل یک مجموعه آموزشی با ۶۰,۰۰۰ نمونه و یک مجموعه آزمایشی با ۱۰,۰۰۰ نمونه است. هر نمونه یک تصویر ۲۸x۲۸ پیکسلی به صورت خاکستری است که با یک برچسب از ۱۰ دسته مرتبط است.\n",
        "<p dir=rtl style=\"direction: rtl;text-align: justify;line-height:200%;font-family:vazir;font-size:medium\">\n",
        "<font face=\"vazir\" size=3>\n",
        "هر تصویر ۲۸ پیکسل ارتفاع و ۲۸ پیکسل عرض دارد، که در مجموع ۷۸۴ پیکسل می‌شود. هر پیکسل دارای یک مقدار پیکسلی است که میزان روشنایی یا تاریکی آن پیکسل را نشان می‌دهد و اعداد بزرگتر نشان‌دهنده تاریکی بیشتر هستند. مقدار پیکسلی یک عدد صحیح بین ۰ تا ۲۵۵ است.\n",
        "<p dir=rtl style=\"direction: rtl;text-align: justify;line-height:200%;font-family:vazir;font-size:medium\">\n",
        "<font face=\"vazir\" size=3>\n",
        "مجموعه داده‌های آموزشی و آزمایشی هر کدام ۷۸۵ ستون دارند. ستون اول شامل برچسب‌های کلاس است و نمایانگر دسته لباس‌ها می‌باشد. بقیه ستون‌ها حاوی مقادیر پیکسلی تصویر مرتبط هستند.\n",
        "<p dir=rtl style=\"direction: rtl;text-align: justify;line-height:200%;font-family:vazir;font-size:medium\">\n",
        "<font face=\"vazir\" size=3>\n",
        "هر نمونه آموزشی و آزمایشی به یکی از برچسب‌های زیر اختصاص داده شده است:\n",
        "<p dir=rtl style=\"direction: rtl;text-align: justify;line-height:200%;font-family:vazir;font-size:medium\">\n",
        "<font face=\"vazir\" size=3>\n",
        "<ul dir=rtl>\n",
        "<li dir=rtl style=\"direction: rtl;text-align: justify;line-height:200%;font-family:vazir;font-size:medium\">\n",
        " تیشرت/تاپ\n",
        "<li dir=rtl style=\"direction: rtl;text-align: justify;line-height:200%;font-family:vazir;font-size:medium\">\n",
        "شلوار\n",
        "<li dir=rtl style=\"direction: rtl;text-align: justify;line-height:200%;font-family:vazir;font-size:medium\">\n",
        "پلیور\n",
        "<li dir=rtl style=\"direction: rtl;text-align: justify;line-height:200%;font-family:vazir;font-size:medium\">\n",
        "پیراهن\n",
        "<li dir=rtl style=\"direction: rtl;text-align: justify;line-height:200%;font-family:vazir;font-size:medium\">\n",
        "کت\n",
        "<li dir=rtl style=\"direction: rtl;text-align: justify;line-height:200%;font-family:vazir;font-size:medium\">\n",
        "صندل\n",
        "<li dir=rtl style=\"direction: rtl;text-align: justify;line-height:200%;font-family:vazir;font-size:medium\">\n",
        "پیراهن\n",
        "<li dir=rtl style=\"direction: rtl;text-align: justify;line-height:200%;font-family:vazir;font-size:medium\">\n",
        "کتانی\n",
        "<li dir=rtl style=\"direction: rtl;text-align: justify;line-height:200%;font-family:vazir;font-size:medium\">\n",
        "کیف\n",
        "<li dir=rtl style=\"direction: rtl;text-align: justify;line-height:200%;font-family:vazir;font-size:medium\">\n",
        "نیم بوت\n",
        "</ul>\n",
        "</font>"
      ]
    },
    {
      "cell_type": "markdown",
      "metadata": {
        "_uuid": "2bcbd6c3b7ecf0236b1b8c11308050b57826ecb6",
        "id": "kt79mDpNnUwC"
      },
      "source": [
        "<p dir=rtl style=\"direction: rtl;text-align: justify;line-height:200%;font-family:vazir;font-size:medium\">\n",
        "<font face=\"vazir\" size=3>\n",
        "در ابتدا کتاب خانه‌های مورد نیاز را فراخوانی کنید و داده‌ها رابخوانید\n"
      ]
    },
    {
      "cell_type": "code",
      "execution_count": null,
      "metadata": {
        "_uuid": "0509352bbeb777a1113e707e1167113b23785565",
        "trusted": true,
        "id": "AbQnfBrinUwC"
      },
      "outputs": [],
      "source": [
        "import numpy as np\n",
        "import pandas as pd\n",
        "import seaborn as sns\n",
        "import matplotlib.pyplot as plt\n"
      ]
    },
    {
      "cell_type": "code",
      "execution_count": null,
      "metadata": {
        "_uuid": "de0ebb89174ca5fa4837216a5cd2d80c92af1c85",
        "trusted": true,
        "id": "4fU3XsVMnUwD"
      },
      "outputs": [],
      "source": [
        "# Reading Train Data\n",
        "dfTrain ="
      ]
    },
    {
      "cell_type": "code",
      "execution_count": null,
      "metadata": {
        "_uuid": "e52ce6b78ac4bbc09d6eca0e6925a706c52e1446",
        "trusted": true,
        "id": "UFNPvcV5nUwD"
      },
      "outputs": [],
      "source": [
        "# First 5 rows of train data\n",
        "dfTrain.head()"
      ]
    },
    {
      "cell_type": "code",
      "execution_count": null,
      "metadata": {
        "_uuid": "6f3200fe43f6f18d437026e4e7c9bd302ca515fd",
        "trusted": true,
        "id": "jqrLjFTAnUwE"
      },
      "outputs": [],
      "source": [
        "# Reading Test Data\n",
        "dfTest ="
      ]
    },
    {
      "cell_type": "code",
      "execution_count": null,
      "metadata": {
        "_uuid": "5b09c1c41d6895c1cce20d8f4843dc90c294b201",
        "trusted": true,
        "id": "CG-Xi6qGnUwE"
      },
      "outputs": [],
      "source": [
        "# First 5 rows of test data\n",
        "dfTest.head()"
      ]
    },
    {
      "cell_type": "code",
      "execution_count": null,
      "metadata": {
        "_uuid": "9620c359b44e7422ed551770f9b7f87360caa161",
        "trusted": true,
        "id": "suqUt_VenUwE"
      },
      "outputs": [],
      "source": [
        "Y_train = dfTrain.label\n",
        "X_train = dfTrain.drop([\"label\"], axis=1)\n",
        "X_test = dfTest.drop([\"label\"], axis=1)\n",
        "Y_test = dfTest.label"
      ]
    },
    {
      "cell_type": "code",
      "execution_count": null,
      "metadata": {
        "_uuid": "04b71522243639aedf14fb2c8126bbac7538743d",
        "trusted": true,
        "id": "rAyBUnMAnUwF"
      },
      "outputs": [],
      "source": [
        "plt.figure(figsize=(16,5))\n",
        "sns.countplot(Y_train, palette=\"terrain\")\n",
        "plt.title(\"Number of Classes\")\n",
        "plt.show()"
      ]
    },
    {
      "cell_type": "markdown",
      "metadata": {
        "_uuid": "8f043925d6db69ac2e42b455565af2f0123e2489",
        "id": "a_GyYF5jnUwF"
      },
      "source": [
        "<p dir=rtl style=\"direction: rtl;text-align: justify;line-height:200%;font-family:vazir;font-size:medium\">\n",
        "<font face=\"vazir\" size=3>\n",
        "برخی از تصاویر را نمایش دهید تا با مجموعه تصاویر بیشتر آشنا شوید.\n"
      ]
    },
    {
      "cell_type": "code",
      "execution_count": null,
      "metadata": {
        "_uuid": "830a8c6e8312d9b8670d47c48d4c384d977f9c9e",
        "trusted": true,
        "id": "uh1hNvmcnUwF"
      },
      "outputs": [],
      "source": [
        "plt.figure(figsize=(20,5))\n",
        "\n",
        "for i in range(10):\n",
        "    plt.subplot(2,5,i+1)\n",
        "    img = dfTrain[dfTrain.label==i].iloc[0,1:].values\n",
        "    img = img.reshape((28,28))\n",
        "    plt.imshow(img, cmap='gray')\n",
        "    plt.title(\"Class: \" + str(i))\n",
        "    plt.axis('off')\n",
        "\n",
        "plt.show()"
      ]
    },
    {
      "cell_type": "markdown",
      "metadata": {
        "_uuid": "a5ecfa008044ef809a6efa2844492a022010ad3c",
        "id": "wMf0L6i-nUwG"
      },
      "source": [
        "<p dir=rtl style=\"direction: rtl;text-align: justify;line-height:200%;font-family:vazir;font-size:medium\">\n",
        "<font face=\"vazir\" size=3>\n",
        " تصاویر را نرمال کنید.ما از نرمال‌سازی برای کاهش تأثیر تفاوت‌های روشنایی استفاده خواهیم کرد. همچنین، این کار به سریع‌تر کار کردن CNN کمک می‌کند."
      ]
    },
    {
      "cell_type": "code",
      "execution_count": null,
      "metadata": {
        "_uuid": "9f2368f4c8cc05345d7f32b78f8448d5555fbdff",
        "trusted": true,
        "id": "ZgA41csInUwG"
      },
      "outputs": [],
      "source": [
        "# Normalization\n",
        "X_train = X_train / 255.0\n",
        "X_test = X_test / 255.0"
      ]
    },
    {
      "cell_type": "markdown",
      "metadata": {
        "_uuid": "b623ff1abe9e7a4ff6f766accb045a44422a7652",
        "id": "vsX5cTf6nUwG"
      },
      "source": [
        "<p dir=rtl style=\"direction: rtl;text-align: justify;line-height:200%;font-family:vazir;font-size:medium\">\n",
        "<font face=\"vazir\" size=3>\n",
        "تصاویر ما ۲۸x۲۸ پیکسلی هستند، اما برای استفاده از آن‌ها در Keras، باید به شکل ماتریس‌های سه‌بعدی باشند. وظیفه شما این است که این تصاویر را به ۲۸x۲۸x1 تغییر شکل دهید. ما از '1' برای کانال استفاده می‌کنیم زیرا تصاویر ما به صورت خاکستری هستند.\n",
        "<p dir=rtl style=\"direction: rtl;text-align: justify;line-height:200%;font-family:vazir;font-size:medium\">\n",
        "<font face=\"vazir\" size=3>\n",
        "یک نکته: تصاویر خاکستری تنها یک کانال دارند، در حالی که تصاویر RGB سه کانال دارند.\n"
      ]
    },
    {
      "cell_type": "code",
      "execution_count": null,
      "metadata": {
        "_uuid": "d783784efbaa730c7cf3e94065492c20bc59e8c0",
        "trusted": true,
        "id": "1FPFrloynUwG"
      },
      "outputs": [],
      "source": [
        "# Reshape\n",
        "X_train = #TO-DO\n",
        "X_test = #TO-DO\n",
        "print(\"X_train Shape: \", X_train.shape)\n",
        "print(\"X_test Shape: \", X_test.shape)"
      ]
    },
    {
      "cell_type": "markdown",
      "metadata": {
        "_uuid": "c6a6087bb004aad8e3ce53c367758d3cc8961805",
        "id": "E6OJAuJAnUwH"
      },
      "source": [
        "<p dir=rtl style=\"direction: rtl;text-align: justify;line-height:200%;font-family:vazir;font-size:medium\">\n",
        "<font face=\"vazir\" size=3>\n",
        "بردار هدف را به ماتریس وان هات تبدیل کنید."
      ]
    },
    {
      "cell_type": "code",
      "execution_count": null,
      "metadata": {
        "_uuid": "6217550776a25efa657d73bd0ad30dcc15134092",
        "trusted": true,
        "id": "1yqqA8i8nUwH"
      },
      "outputs": [],
      "source": [
        "# Label Encoding\n",
        "from keras.utils.np_utils import to_categorical\n",
        "\n",
        "Y_train = #TO-DO"
      ]
    },
    {
      "cell_type": "markdown",
      "metadata": {
        "_uuid": "10ad3dce89434fdaf35ca9b0d8cfcceb20b6405e",
        "id": "kf-8DCoRnUwH"
      },
      "source": [
        "<p dir=rtl style=\"direction: rtl;text-align: justify;line-height:200%;font-family:vazir;font-size:medium\">\n",
        "<font face=\"vazir\" size=3>\n",
        " داده‌های آموزشی خود را به دو بخش تقسیم کنید: ۳۰٪ از داده‌ها به عنوان داده‌های اعتبارسنجی و ۷۰٪ از داده‌ها به عنوان داده‌های آموزش استفاده کنید."
      ]
    },
    {
      "cell_type": "code",
      "execution_count": null,
      "metadata": {
        "_uuid": "a6d66a0457e9dc667d8fb496e57ff5a5fbea7a03",
        "trusted": true,
        "id": "BqTWa2xTnUwH"
      },
      "outputs": [],
      "source": [
        "from sklearn.model_selection import train_test_split\n",
        "\n",
        "x_train, x_val, y_train, y_val = #TO-DO\n",
        "\n",
        "print(\"x_train shape\",x_train.shape)\n",
        "print(\"x_test shape\",x_val.shape)\n",
        "print(\"y_train shape\",y_train.shape)\n",
        "print(\"y_test shape\",y_val.shape)"
      ]
    },
    {
      "cell_type": "markdown",
      "metadata": {
        "_uuid": "f93d0e060fe2e9a6777e7e04cc933363135c4b14",
        "id": "_pk7pRwTnUwI"
      },
      "source": [
        "<p dir=rtl style=\"direction: rtl;text-align: justify;line-height:200%;font-family:vazir;font-size:medium\">\n",
        "<font face=\"vazir\" size=3>\n",
        "هر مدل CNN دلخواهی که دوست دارید رابا استفاده از کتابخانه Keras پیاده سازی کنید. دقت کنید که مدل شما باید بهترین نتیجه ممکن را ارائه کند.  \n"
      ]
    },
    {
      "cell_type": "code",
      "execution_count": null,
      "metadata": {
        "_uuid": "d543b27533aaa1f4cae65a07137544b6721ca3d2",
        "trusted": true,
        "id": "IvHX-n6DnUwI"
      },
      "outputs": [],
      "source": [
        "from sklearn.metrics import confusion_matrix\n",
        "from keras.utils.np_utils import to_categorical\n",
        "from keras.models import Sequential\n",
        "from keras.layers import Dense, Dropout, Flatten, Conv2D, MaxPool2D\n",
        "from keras.optimizers import RMSprop, Adam\n",
        "from keras.preprocessing.image import ImageDataGenerator\n",
        "from keras.callbacks import ReduceLROnPlateau\n",
        "\n",
        "model = Sequential()\n",
        "\n",
        "#TO-DO"
      ]
    },
    {
      "cell_type": "markdown",
      "metadata": {
        "id": "4svB26n2nUwJ"
      },
      "source": [
        " <p dir=rtl style=\"direction: rtl;text-align: justify;line-height:200%;font-family:vazir;font-size:medium\">\n",
        "<font face=\"vazir\" size=3>\n",
        " مقدار مناسب را برای هایپرپارامتر بیابید.\n",
        "\n"
      ]
    },
    {
      "cell_type": "code",
      "execution_count": null,
      "metadata": {
        "_uuid": "a4ae439e350117321bf7a2d562b43f68a923784a",
        "trusted": true,
        "id": "1uErDRxlnUwJ"
      },
      "outputs": [],
      "source": [
        "optimizer = Adam (lr='TO-DO', beta_1='TO-DO', beta_2='TO-DO', epsilon='TO-DO', decay='TO-DO' amsgrad= 'TO-DO' )"
      ]
    },
    {
      "cell_type": "code",
      "execution_count": null,
      "metadata": {
        "_uuid": "46a53521aba3d7103a49da1089379b5b6d0c1e38",
        "trusted": true,
        "id": "0JdtJxsZnUwJ"
      },
      "outputs": [],
      "source": [
        "model.compile(optimizer = optimizer, loss = 'TO-DO', metrics=['accuracy'])"
      ]
    },
    {
      "cell_type": "code",
      "execution_count": null,
      "metadata": {
        "_uuid": "87a18c5ecc71830a2c696f49cff0477ac9399ed0",
        "trusted": true,
        "id": "kglIHYV4nUwK"
      },
      "outputs": [],
      "source": [
        "epochs = 50\n",
        "batchSize = 300"
      ]
    },
    {
      "cell_type": "markdown",
      "metadata": {
        "_uuid": "2585d745d39ab1a487abdba49ac97327920c79ed",
        "id": "__gdh8UcnUwK"
      },
      "source": [
        " <p dir=rtl style=\"direction: rtl;text-align: justify;line-height:200%;font-family:vazir;font-size:medium\">\n",
        "<font face=\"vazir\" size=3>\n",
        "با استفاده از \"Data Augmentation\"  می توانیم داده‌های جدیدی با جهت گیری‌های مختلف ایجاد کنیم. استفاده از این متد چون تعداد داده های آموزش را افزایش می‌دهد، می‌تواند از بیش برازش مدل جلوگیری کند."
      ]
    },
    {
      "cell_type": "code",
      "execution_count": null,
      "metadata": {
        "_uuid": "e66ca6e0f5e97c9bc4822d573e07ff58b0488f00",
        "trusted": true,
        "id": "CkmhxDfmnUwK"
      },
      "outputs": [],
      "source": [
        "# Data Augmentation\n",
        "datagen = ImageDataGenerator(\n",
        "        featurewise_center='TO-DO',  # set input mean to 0 over the dataset\n",
        "        samplewise_center='TO-DO',  # set each sample mean to 0\n",
        "        featurewise_std_normalization='TO-DO',  # divide inputs by std of the dataset\n",
        "        samplewise_std_normalization='TO-DO',  # divide each input by its std\n",
        "        zca_whitening='TO-DO',  # dimesion reduction\n",
        "        rotation_range='TO-DO',  # randomly rotate images in the range\n",
        "        zoom_range = 'TO-DO', # Randomly zoom image\n",
        "        width_shift_range='TO-DO',  # randomly shift images horizontally\n",
        "        height_shift_range='TO-DO',  # randomly shift images vertically\n",
        "        horizontal_flip='TO-DO',  # randomly flip images\n",
        "        vertical_flip='TO-DO')  # randomly flip images\n",
        "\n",
        "datagen.fit(x_train)"
      ]
    },
    {
      "cell_type": "code",
      "execution_count": null,
      "metadata": {
        "_uuid": "36f2d4aaffea0edec1c609ed29616fa4d9abaf44",
        "trusted": true,
        "id": "CN1QDJTCnUwL"
      },
      "outputs": [],
      "source": [
        "cnn = model.fit_generator(datagen.flow(x_train, y_train, batch_size=batchSize), epochs=epochs, validation_data=(x_val, y_val), steps_per_epoch=x_train.shape[0] // batchSize)"
      ]
    },
    {
      "cell_type": "code",
      "execution_count": null,
      "metadata": {
        "_uuid": "59f7024564d2eee76db7d344db3bcbed5ebe9752",
        "trusted": true,
        "id": "nnw67qqenUwM"
      },
      "outputs": [],
      "source": [
        "print(\"Accuracy after fitting: {:.2f}%\".format(cnn.history['acc'][-1]*100))"
      ]
    },
    {
      "cell_type": "markdown",
      "metadata": {
        "_uuid": "a11e882cb4df061d9e70752ce444776e4673a523",
        "id": "uCrnSRRunUwM"
      },
      "source": [
        "<p dir=rtl style=\"direction: rtl;text-align: justify;line-height:200%;font-family:vazir;font-size:medium\">\n",
        "<font face=\"vazir\" size=3>\n",
        "اکنون مدل را بر مجموعه داده ارزیابی، ارزیابی کنید."
      ]
    },
    {
      "cell_type": "code",
      "execution_count": null,
      "metadata": {
        "_uuid": "a3f1c4b75ad1f7da48e207a9a7df7c9bf3d9b850",
        "trusted": true,
        "id": "40qRAOoQnUwM"
      },
      "outputs": [],
      "source": [
        "Y_test =  # One-Hot Encoding"
      ]
    },
    {
      "cell_type": "code",
      "execution_count": null,
      "metadata": {
        "_uuid": "b32ea529b1a6f4f0e93c9d0fec00239ecd357248",
        "trusted": true,
        "id": "ID4eAIcsnUwN"
      },
      "outputs": [],
      "source": [
        "score = model.evaluate(X_test, Y_test)\n",
        "print(\"Test Loss: {:.4f}\".format(score[0]))\n",
        "print(\"Test Accuracy: {:.2f}%\".format(score[1]*100))"
      ]
    },
    {
      "cell_type": "markdown",
      "metadata": {
        "id": "WUZCvzqwnUwN"
      },
      "source": [
        "<p dir=rtl style=\"direction: rtl;text-align: justify;line-height:200%;font-family:vazir;font-size:medium\">\n",
        "<font face=\"vazir\" size=3>\n",
        "ماتریس در هم ریختگی مربوط به مجموعه داده آموزش و ارزیابی را رسم نمایید."
      ]
    },
    {
      "cell_type": "code",
      "execution_count": null,
      "metadata": {
        "_uuid": "ee3e56cae9c6cd66c897251e76e0b94ab2d0a36f",
        "trusted": true,
        "id": "jAnwXEZUnUwN"
      },
      "outputs": [],
      "source": [
        "#TO-DO"
      ]
    }
  ],
  "metadata": {
    "kernelspec": {
      "display_name": "Python 3",
      "language": "python",
      "name": "python3"
    },
    "language_info": {
      "codemirror_mode": {
        "name": "ipython",
        "version": 3
      },
      "file_extension": ".py",
      "mimetype": "text/x-python",
      "name": "python",
      "nbconvert_exporter": "python",
      "pygments_lexer": "ipython3",
      "version": "3.6.6"
    },
    "colab": {
      "provenance": [],
      "collapsed_sections": [
        "4svB26n2nUwJ"
      ]
    }
  },
  "nbformat": 4,
  "nbformat_minor": 0
}