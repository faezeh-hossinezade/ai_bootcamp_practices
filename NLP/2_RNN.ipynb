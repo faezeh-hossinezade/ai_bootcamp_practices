{
  "cells": [
    {
      "cell_type": "markdown",
      "source": [
        "<h1 align=center style=\"line-height:200%;font-family:vazir;color:#0099cc\">\n",
        "<font face=\"vazir\" color=\"#0099cc\">\n",
        " IMDB دسته بندی نظرات\n",
        "</font>\n",
        "</h1>\n"
      ],
      "metadata": {
        "id": "8DZEmg4sxy4c"
      }
    },
    {
      "cell_type": "markdown",
      "metadata": {
        "id": "JbkxbED4GvKT"
      },
      "source": [
        "\n",
        "<p dir=rtl style=\"direction: rtl;text-align: justify;line-height:200%;font-family:vazir;font-size:medium\">\n",
        "<font face=\"vazir\" size=3>\n",
        "در این تمرین، قصد داریم بر روی یک مجموعه داده نظرات فیلم، طبقه‌بندی احساسات انجام دهیم. ما قصد داریم یک شبکه Feedforward Net، یک شبکه Recurrent Net ساخته و یکی یا چند تا از آن‌ها را ترکیب کنیم تا عملکرد هر یک از آن‌ها را درک کنیم. همانطور که می‌دانید یک جمله می‌تواند به عنوان توالی از کلماتی در نظر گرفته شود که در کنار یکدیگر معنایی را میرسانند. هر کدام از کلمات بر معنای جمله تأثیر می‌گذارند. کلماتی که در ابتدای جمله ظاهر می‌شوند، ساختار و معنای جمله را در قسمت‌های بعدی جمله تحت تأثیر قرار می‌دهند . به همین ترتیب، کلماتی که در اواخر جمله ظاهر می‌شوند، می‌توانند بر معنای کلمات ابتدایی تأثیر بگذارند."
      ]
    },
    {
      "cell_type": "code",
      "source": [
        "# !pip install --upgrade keras"
      ],
      "metadata": {
        "id": "rvSmUwGKOHyn"
      },
      "execution_count": null,
      "outputs": []
    },
    {
      "cell_type": "code",
      "execution_count": 1,
      "metadata": {
        "id": "XReX7QBoGvKT"
      },
      "outputs": [],
      "source": [
        "import numpy\n",
        "from keras.datasets import imdb\n",
        "from keras.models import Sequential\n",
        "from keras.layers import Dense,Activation\n",
        "from keras.layers import LSTM, SimpleRNN\n",
        "# from keras.layers.embeddings import Embedding\n",
        "from keras.layers import Embedding\n",
        "\n",
        "from keras.layers import Flatten\n",
        "from keras.preprocessing import sequence\n",
        "from keras.layers import Conv1D\n",
        "from keras.layers import MaxPool1D\n",
        "# from keras.layers.embeddings import Embedding\n",
        "import numpy as np\n",
        "# fix random seed for reproducibility\n",
        "numpy.random.seed(1)"
      ]
    },
    {
      "cell_type": "code",
      "execution_count": 2,
      "metadata": {
        "id": "Fy_K6EtTGvKT"
      },
      "outputs": [],
      "source": [
        "# We want to have a finite vocabulary to make sure that our word matrices are not arbitrarily small\n",
        "vocabulary_size = 10000\n",
        "\n",
        "# We also want to have a finite length of reviews and not have to process really long sentences.\n",
        "max_review_length = 500"
      ]
    },
    {
      "cell_type": "markdown",
      "source": [
        "\n",
        "<p dir=rtl style=\"direction: rtl;text-align: justify;line-height:200%;font-family:vazir;font-size:medium\">\n",
        "<font face=\"vazir\" size=3>\n",
        "همان طور که میدانیم یک توکن به یک واحد معنایی منفرد و اتمی (یعنی یک کلمه) اشاره دارد.هر کلمه متمایز را به یک عدد متمایز (عدد صحیح)تبدیل می شود.\n",
        "<p dir=rtl style=\"direction: rtl;text-align: justify;line-height:200%;font-family:vazir;font-size:medium\">\n",
        "<font face=\"vazir\" size=3>\n",
        "خوشبختانه، مجموعه داده ما از قبل به چنین شکلی توکن‌سازی شده است.در نتیجه صرفا نیاز است دیتا را لود کنید.\n",
        "\n",
        "\n"
      ],
      "metadata": {
        "id": "wRODQrAG0EkV"
      }
    },
    {
      "cell_type": "code",
      "execution_count": 3,
      "metadata": {
        "id": "1e0_DI6EGvKU",
        "colab": {
          "base_uri": "https://localhost:8080/"
        },
        "outputId": "7a2c870c-d845-4c3d-c29c-02b55fa83ccf"
      },
      "outputs": [
        {
          "output_type": "stream",
          "name": "stdout",
          "text": [
            "Downloading data from https://storage.googleapis.com/tensorflow/tf-keras-datasets/imdb.npz\n",
            "17464789/17464789 [==============================] - 0s 0us/step\n",
            "Number of reviews 25000\n",
            "Length of first and fifth review before padding 218 147\n",
            "First review [1, 14, 22, 16, 43, 530, 973, 1622, 1385, 65, 458, 4468, 66, 3941, 4, 173, 36, 256, 5, 25, 100, 43, 838, 112, 50, 670, 2, 9, 35, 480, 284, 5, 150, 4, 172, 112, 167, 2, 336, 385, 39, 4, 172, 4536, 1111, 17, 546, 38, 13, 447, 4, 192, 50, 16, 6, 147, 2025, 19, 14, 22, 4, 1920, 4613, 469, 4, 22, 71, 87, 12, 16, 43, 530, 38, 76, 15, 13, 1247, 4, 22, 17, 515, 17, 12, 16, 626, 18, 2, 5, 62, 386, 12, 8, 316, 8, 106, 5, 4, 2223, 5244, 16, 480, 66, 3785, 33, 4, 130, 12, 16, 38, 619, 5, 25, 124, 51, 36, 135, 48, 25, 1415, 33, 6, 22, 12, 215, 28, 77, 52, 5, 14, 407, 16, 82, 2, 8, 4, 107, 117, 5952, 15, 256, 4, 2, 7, 3766, 5, 723, 36, 71, 43, 530, 476, 26, 400, 317, 46, 7, 4, 2, 1029, 13, 104, 88, 4, 381, 15, 297, 98, 32, 2071, 56, 26, 141, 6, 194, 7486, 18, 4, 226, 22, 21, 134, 476, 26, 480, 5, 144, 30, 5535, 18, 51, 36, 28, 224, 92, 25, 104, 4, 226, 65, 16, 38, 1334, 88, 12, 16, 283, 5, 16, 4472, 113, 103, 32, 15, 16, 5345, 19, 178, 32]\n",
            "First label 1\n"
          ]
        }
      ],
      "source": [
        "(X_train, y_train), (X_test, y_test) = imdb.load_data(num_words=vocabulary_size)\n",
        "print('Number of reviews', len(X_train))\n",
        "print('Length of first and fifth review before padding', len(X_train[0]) ,len(X_train[4]))\n",
        "print('First review', X_train[0])\n",
        "print('First label', y_train[0])"
      ]
    },
    {
      "cell_type": "code",
      "source": [
        "X_train.shape"
      ],
      "metadata": {
        "colab": {
          "base_uri": "https://localhost:8080/"
        },
        "id": "EXAtbfUgjGWp",
        "outputId": "01d6ca5a-bd46-414f-f259-5348cd0a57b7"
      },
      "execution_count": 4,
      "outputs": [
        {
          "output_type": "execute_result",
          "data": {
            "text/plain": [
              "(25000,)"
            ]
          },
          "metadata": {},
          "execution_count": 4
        }
      ]
    },
    {
      "cell_type": "markdown",
      "source": [
        "<p dir=rtl style=\"direction: rtl;text-align: justify;line-height:200%;font-family:vazir;font-size:medium\">\n",
        "<font face=\"vazir\" size=3>\n",
        "از آن جایی که طول جملات در یک کتن با یکدیگر متفاوت هستند،و ما جملات را به صورت دسته ای به مدل میدهیم نیاز داریم که با استفاده از padding طول جملات را یکسان نماییم."
      ],
      "metadata": {
        "id": "CYrl73XRDdXC"
      }
    },
    {
      "cell_type": "code",
      "source": [
        "# from keras.preprocessing.sequence import pad_sequences"
      ],
      "metadata": {
        "id": "eQru5z9pZbIx"
      },
      "execution_count": null,
      "outputs": []
    },
    {
      "cell_type": "code",
      "execution_count": 5,
      "metadata": {
        "id": "LHjc7CySGvKV",
        "colab": {
          "base_uri": "https://localhost:8080/"
        },
        "outputId": "277342f9-7a9f-4951-f921-ae12c47f6559"
      },
      "outputs": [
        {
          "output_type": "stream",
          "name": "stdout",
          "text": [
            "Length of first and fifth review after padding 500 500\n"
          ]
        }
      ],
      "source": [
        "X_train = sequence.pad_sequences(X_train, maxlen=max_review_length)\n",
        "X_test = sequence.pad_sequences(X_test, maxlen=max_review_length)\n",
        "print('Length of first and fifth review after padding', len(X_train[0]) ,len(X_train[4]))"
      ]
    },
    {
      "cell_type": "code",
      "source": [
        "X_train.shape"
      ],
      "metadata": {
        "colab": {
          "base_uri": "https://localhost:8080/"
        },
        "id": "Wh3kY95C76VE",
        "outputId": "4e967424-9e20-4d96-980b-aed971f6b731"
      },
      "execution_count": 6,
      "outputs": [
        {
          "output_type": "execute_result",
          "data": {
            "text/plain": [
              "(25000, 500)"
            ]
          },
          "metadata": {},
          "execution_count": 6
        }
      ]
    },
    {
      "cell_type": "markdown",
      "metadata": {
        "id": "ONAF1WL1GvKV"
      },
      "source": [
        "<p dir=rtl style=\"direction: rtl;text-align: justify;line-height:200%;font-family:vazir;font-size:medium\">\n",
        "<font face=\"vazir\" size=3>\n",
        "اکنون مدل اول خود را بسازید. این مدل ک مدل شبکه عصبی معمولی است با یک لایه پنهان که 250 نود  دارد.در مورد تابع فعال ساز یا تابع بهینه ساز شما آزاد هستید که از هر کدام که میخواهید استفاده نمایید.\n",
        "\n"
      ]
    },
    {
      "cell_type": "code",
      "source": [
        "from keras import layers"
      ],
      "metadata": {
        "id": "qVuiSD9cGniN"
      },
      "execution_count": 7,
      "outputs": []
    },
    {
      "cell_type": "code",
      "source": [
        "model1 = Sequential()\n",
        "model1.add(layers.Dense(250,activation='relu',input_shape=(500,)))\n",
        "model1.add(Dense(1))\n",
        "model1.add(Activation(\"sigmoid\"))\n",
        " #using sigmoid for binary classification\n",
        "model1.compile(loss='binary_crossentropy', optimizer='adam', metrics=['accuracy'])"
      ],
      "metadata": {
        "id": "cExfQUddF8uF"
      },
      "execution_count": 11,
      "outputs": []
    },
    {
      "cell_type": "code",
      "source": [
        "model1.summary()"
      ],
      "metadata": {
        "colab": {
          "base_uri": "https://localhost:8080/"
        },
        "id": "FxDxb-IXHk2y",
        "outputId": "98b96c07-c564-4c50-9cb7-f8b37e9608b9"
      },
      "execution_count": 12,
      "outputs": [
        {
          "output_type": "stream",
          "name": "stdout",
          "text": [
            "Model: \"sequential_2\"\n",
            "_________________________________________________________________\n",
            " Layer (type)                Output Shape              Param #   \n",
            "=================================================================\n",
            " dense_4 (Dense)             (None, 250)               125250    \n",
            "                                                                 \n",
            " dense_5 (Dense)             (None, 1)                 251       \n",
            "                                                                 \n",
            " activation (Activation)     (None, 1)                 0         \n",
            "                                                                 \n",
            "=================================================================\n",
            "Total params: 125501 (490.24 KB)\n",
            "Trainable params: 125501 (490.24 KB)\n",
            "Non-trainable params: 0 (0.00 Byte)\n",
            "_________________________________________________________________\n"
          ]
        }
      ]
    },
    {
      "cell_type": "code",
      "source": [
        "model1.fit(X_train, y_train, validation_data=(X_test, y_test), epochs=10, batch_size=128, verbose=2)"
      ],
      "metadata": {
        "colab": {
          "base_uri": "https://localhost:8080/"
        },
        "id": "5g8tmjDmGyo_",
        "outputId": "36525689-fbc1-477c-dd4b-da333389bacb"
      },
      "execution_count": 13,
      "outputs": [
        {
          "output_type": "stream",
          "name": "stdout",
          "text": [
            "Epoch 1/10\n",
            "196/196 - 4s - loss: 179.8795 - accuracy: 0.5064 - val_loss: 97.1179 - val_accuracy: 0.5040 - 4s/epoch - 18ms/step\n",
            "Epoch 2/10\n",
            "196/196 - 1s - loss: 50.2837 - accuracy: 0.5911 - val_loss: 54.4673 - val_accuracy: 0.5024 - 1s/epoch - 7ms/step\n",
            "Epoch 3/10\n",
            "196/196 - 1s - loss: 18.6582 - accuracy: 0.6673 - val_loss: 34.8628 - val_accuracy: 0.5100 - 1s/epoch - 7ms/step\n",
            "Epoch 4/10\n",
            "196/196 - 1s - loss: 8.2401 - accuracy: 0.7268 - val_loss: 24.3985 - val_accuracy: 0.5047 - 1s/epoch - 8ms/step\n",
            "Epoch 5/10\n",
            "196/196 - 1s - loss: 4.0816 - accuracy: 0.7723 - val_loss: 17.0369 - val_accuracy: 0.5092 - 1s/epoch - 6ms/step\n",
            "Epoch 6/10\n",
            "196/196 - 1s - loss: 2.2936 - accuracy: 0.8027 - val_loss: 13.2722 - val_accuracy: 0.5098 - 1s/epoch - 6ms/step\n",
            "Epoch 7/10\n",
            "196/196 - 1s - loss: 1.5301 - accuracy: 0.8183 - val_loss: 10.7293 - val_accuracy: 0.5090 - 1s/epoch - 6ms/step\n",
            "Epoch 8/10\n",
            "196/196 - 1s - loss: 1.0702 - accuracy: 0.8358 - val_loss: 9.3616 - val_accuracy: 0.5079 - 1s/epoch - 7ms/step\n",
            "Epoch 9/10\n",
            "196/196 - 3s - loss: 0.9412 - accuracy: 0.8419 - val_loss: 9.2849 - val_accuracy: 0.5072 - 3s/epoch - 13ms/step\n",
            "Epoch 10/10\n",
            "196/196 - 1s - loss: 0.8408 - accuracy: 0.8507 - val_loss: 8.9603 - val_accuracy: 0.5079 - 1s/epoch - 6ms/step\n"
          ]
        },
        {
          "output_type": "execute_result",
          "data": {
            "text/plain": [
              "<keras.src.callbacks.History at 0x7f6bfba870d0>"
            ]
          },
          "metadata": {},
          "execution_count": 13
        }
      ]
    },
    {
      "cell_type": "code",
      "source": [
        "scores1 = model1.evaluate(X_test, y_test, verbose=2)\n",
        "print(\"Accuracy: %.2f\" %(scores1[1]*100))"
      ],
      "metadata": {
        "colab": {
          "base_uri": "https://localhost:8080/"
        },
        "id": "PNUo-1RRHNbI",
        "outputId": "e91a6f8e-3151-4308-fbc2-507bd9134b22"
      },
      "execution_count": 16,
      "outputs": [
        {
          "output_type": "stream",
          "name": "stdout",
          "text": [
            "782/782 - 1s - loss: 8.9603 - accuracy: 0.5079 - 1s/epoch - 1ms/step\n",
            "Accuracy: 50.79\n"
          ]
        }
      ]
    },
    {
      "cell_type": "markdown",
      "metadata": {
        "id": "UTDSMIpUGvKW"
      },
      "source": [
        "<p dir=rtl style=\"direction: rtl;text-align: justify;line-height:200%;font-family:vazir;font-size:medium\">\n",
        "<font face=\"vazir\" size=3>\n",
        "همان طور که مشاهده کردید نتیجه مدل چندان جالب نبود. اکنون از شما می‌خواهم که از\n",
        "embedding  استفاده کنید و بنویسید چرا استفاده از embeding موجب افزایش کارایی مدل می‌شود."
      ]
    },
    {
      "cell_type": "code",
      "source": [
        "maxlen=len(X_train[0])\n",
        "print(maxlen)"
      ],
      "metadata": {
        "colab": {
          "base_uri": "https://localhost:8080/"
        },
        "id": "Q412YBHBJxiA",
        "outputId": "4fcf9ac9-5f1a-45ed-edc7-d6b70af81765"
      },
      "execution_count": 27,
      "outputs": [
        {
          "output_type": "stream",
          "name": "stdout",
          "text": [
            "500\n"
          ]
        }
      ]
    },
    {
      "cell_type": "code",
      "source": [
        "nb_words=vocabulary_size\n",
        "#10000\n",
        "# nb_words=max_review_length\n",
        " #500"
      ],
      "metadata": {
        "id": "1KH4gDtAJAab"
      },
      "execution_count": 28,
      "outputs": []
    },
    {
      "cell_type": "code",
      "source": [
        "embedding_dims = 100\n",
        "model2 = Sequential()\n",
        "\n",
        "model2.add(Embedding(nb_words,embedding_dims,input_length=maxlen))\n",
        "model2.add(layers.Dense(250,activation='relu'))\n",
        "model2.add(Dense(1))\n",
        "# model2.add(Activation(\"sigmoid\"))\n",
        "\n",
        "model2.compile(loss='binary_crossentropy', optimizer='adam', metrics=['accuracy'])"
      ],
      "metadata": {
        "id": "IO5VQeCX9yg2"
      },
      "execution_count": 37,
      "outputs": []
    },
    {
      "cell_type": "code",
      "source": [
        "print(model2.summary())"
      ],
      "metadata": {
        "colab": {
          "base_uri": "https://localhost:8080/"
        },
        "id": "IWLit9o3-oaQ",
        "outputId": "9cbac9c4-4e96-453e-f2e9-e404f7b6cbf4"
      },
      "execution_count": 38,
      "outputs": [
        {
          "output_type": "stream",
          "name": "stdout",
          "text": [
            "Model: \"sequential_10\"\n",
            "_________________________________________________________________\n",
            " Layer (type)                Output Shape              Param #   \n",
            "=================================================================\n",
            " embedding_7 (Embedding)     (None, 500, 100)          1000000   \n",
            "                                                                 \n",
            " dense_19 (Dense)            (None, 500, 250)          25250     \n",
            "                                                                 \n",
            " dense_20 (Dense)            (None, 500, 1)            251       \n",
            "                                                                 \n",
            "=================================================================\n",
            "Total params: 1025501 (3.91 MB)\n",
            "Trainable params: 1025501 (3.91 MB)\n",
            "Non-trainable params: 0 (0.00 Byte)\n",
            "_________________________________________________________________\n",
            "None\n"
          ]
        }
      ]
    },
    {
      "cell_type": "code",
      "source": [
        "model2.fit(X_train, y_train, validation_data=(X_test, y_test), epochs=3, batch_size=64)"
      ],
      "metadata": {
        "colab": {
          "base_uri": "https://localhost:8080/"
        },
        "collapsed": true,
        "id": "jtJqcWXuHyJs",
        "outputId": "016a823a-21c7-46c5-f65b-34c63daeb213"
      },
      "execution_count": 39,
      "outputs": [
        {
          "output_type": "stream",
          "name": "stdout",
          "text": [
            "Epoch 1/3\n",
            "391/391 [==============================] - 89s 227ms/step - loss: 0.7441 - accuracy: 0.5039 - val_loss: 0.6938 - val_accuracy: 0.5000\n",
            "Epoch 2/3\n",
            "391/391 [==============================] - 88s 224ms/step - loss: 0.6940 - accuracy: 0.4966 - val_loss: 0.6935 - val_accuracy: 0.5000\n",
            "Epoch 3/3\n",
            "391/391 [==============================] - 86s 219ms/step - loss: 0.6942 - accuracy: 0.4980 - val_loss: 0.6933 - val_accuracy: 0.5001\n"
          ]
        },
        {
          "output_type": "execute_result",
          "data": {
            "text/plain": [
              "<keras.src.callbacks.History at 0x7f6bf2d031f0>"
            ]
          },
          "metadata": {},
          "execution_count": 39
        }
      ]
    },
    {
      "cell_type": "code",
      "source": [
        "scores2 = model2.evaluate(X_test, y_test, verbose=2)"
      ],
      "metadata": {
        "colab": {
          "base_uri": "https://localhost:8080/"
        },
        "id": "i1RHEfgODRTz",
        "outputId": "9f355f32-652e-493a-becd-861c2bbbb152"
      },
      "execution_count": 40,
      "outputs": [
        {
          "output_type": "stream",
          "name": "stdout",
          "text": [
            "782/782 - 18s - loss: 0.6933 - accuracy: 0.5002 - 18s/epoch - 23ms/step\n"
          ]
        }
      ]
    },
    {
      "cell_type": "code",
      "source": [
        "print(\"Accuracy: %.2f\" %(scores2[1]*100))"
      ],
      "metadata": {
        "colab": {
          "base_uri": "https://localhost:8080/"
        },
        "id": "uV6rZnLS4gyg",
        "outputId": "375312b3-f538-4ce5-845c-dbfb70a84351"
      },
      "execution_count": 41,
      "outputs": [
        {
          "output_type": "stream",
          "name": "stdout",
          "text": [
            "Accuracy: 50.02\n"
          ]
        }
      ]
    },
    {
      "cell_type": "markdown",
      "metadata": {
        "id": "cr4mLCh3GvKX"
      },
      "source": [
        "<p dir=rtl style=\"direction: rtl;text-align: justify;line-height:200%;font-family:vazir;font-size:medium\">\n",
        "<font face=\"vazir\" size=3>\n",
        "اکنون مدل سوم خود را با embedding  و یک simple rnn  بسازید"
      ]
    },
    {
      "cell_type": "code",
      "source": [
        "rnn = Sequential()\n",
        "\n",
        "rnn.add(Embedding(nb_words,embedding_dims,input_length =len(X_train[0]))) # num_words=15000\n",
        "rnn.add(SimpleRNN(16,input_shape = (nb_words,maxlen), return_sequences=False,activation=\"relu\"))\n",
        "rnn.add(Dense(1))\n",
        "rnn.add(Activation(\"sigmoid\"))\n",
        "\n",
        "print(rnn.summary())\n",
        "rnn.compile(loss=\"binary_crossentropy\",optimizer=\"rmsprop\",metrics=[\"accuracy\"])"
      ],
      "metadata": {
        "colab": {
          "base_uri": "https://localhost:8080/"
        },
        "id": "JxxWY-TkVojD",
        "outputId": "7f9b6d21-67c2-43a8-bb81-58df0e3c893e"
      },
      "execution_count": 42,
      "outputs": [
        {
          "output_type": "stream",
          "name": "stdout",
          "text": [
            "Model: \"sequential_11\"\n",
            "_________________________________________________________________\n",
            " Layer (type)                Output Shape              Param #   \n",
            "=================================================================\n",
            " embedding_8 (Embedding)     (None, 500, 100)          1000000   \n",
            "                                                                 \n",
            " simple_rnn_1 (SimpleRNN)    (None, 16)                1872      \n",
            "                                                                 \n",
            " dense_21 (Dense)            (None, 1)                 17        \n",
            "                                                                 \n",
            " activation_7 (Activation)   (None, 1)                 0         \n",
            "                                                                 \n",
            "=================================================================\n",
            "Total params: 1001889 (3.82 MB)\n",
            "Trainable params: 1001889 (3.82 MB)\n",
            "Non-trainable params: 0 (0.00 Byte)\n",
            "_________________________________________________________________\n",
            "None\n"
          ]
        }
      ]
    },
    {
      "cell_type": "code",
      "execution_count": 43,
      "metadata": {
        "id": "fNueL6kSGvKX",
        "colab": {
          "base_uri": "https://localhost:8080/"
        },
        "outputId": "239d8d60-6eac-4a28-9b68-71045adefae8"
      },
      "outputs": [
        {
          "output_type": "stream",
          "name": "stdout",
          "text": [
            "Epoch 1/20\n",
            "1563/1563 [==============================] - 180s 114ms/step - loss: 0.5050 - accuracy: 0.7497\n",
            "Epoch 2/20\n",
            "1563/1563 [==============================] - 172s 110ms/step - loss: 0.3216 - accuracy: 0.8693\n",
            "Epoch 3/20\n",
            "1563/1563 [==============================] - 175s 112ms/step - loss: 0.2672 - accuracy: 0.8979\n",
            "Epoch 4/20\n",
            "1563/1563 [==============================] - 174s 111ms/step - loss: 0.2421 - accuracy: 0.9109\n",
            "Epoch 5/20\n",
            "1563/1563 [==============================] - 172s 110ms/step - loss: 0.2252 - accuracy: 0.9212\n",
            "Epoch 6/20\n",
            "1563/1563 [==============================] - 173s 111ms/step - loss: 0.2073 - accuracy: 0.9278\n",
            "Epoch 7/20\n",
            "1563/1563 [==============================] - 171s 109ms/step - loss: 0.1908 - accuracy: 0.9291\n",
            "Epoch 8/20\n",
            "1563/1563 [==============================] - 177s 113ms/step - loss: 0.1778 - accuracy: 0.9380\n",
            "Epoch 9/20\n",
            "1563/1563 [==============================] - 173s 111ms/step - loss: 0.1734 - accuracy: 0.9437\n",
            "Epoch 10/20\n",
            "1563/1563 [==============================] - 171s 110ms/step - loss: 0.3029 - accuracy: 0.9448\n",
            "Epoch 11/20\n",
            "1563/1563 [==============================] - 171s 110ms/step - loss: 0.1598 - accuracy: 0.9517\n",
            "Epoch 12/20\n",
            "1563/1563 [==============================] - 171s 110ms/step - loss: 0.6033 - accuracy: 0.9516\n",
            "Epoch 13/20\n",
            "1563/1563 [==============================] - 174s 111ms/step - loss: 0.1515 - accuracy: 0.9529\n",
            "Epoch 14/20\n",
            "1563/1563 [==============================] - 175s 112ms/step - loss: 0.2499 - accuracy: 0.9551\n",
            "Epoch 15/20\n",
            "1563/1563 [==============================] - 173s 111ms/step - loss: 0.1552 - accuracy: 0.9567\n",
            "Epoch 16/20\n",
            "1563/1563 [==============================] - 170s 109ms/step - loss: 0.1977 - accuracy: 0.9586\n",
            "Epoch 17/20\n",
            "1563/1563 [==============================] - 173s 111ms/step - loss: 0.1813 - accuracy: 0.9612\n",
            "Epoch 18/20\n",
            "1563/1563 [==============================] - 175s 112ms/step - loss: 0.9056 - accuracy: 0.9611\n",
            "Epoch 19/20\n",
            "1563/1563 [==============================] - 171s 110ms/step - loss: 0.1254 - accuracy: 0.9595\n",
            "Epoch 20/20\n",
            "1563/1563 [==============================] - 173s 111ms/step - loss: 1.2005 - accuracy: 0.9634\n"
          ]
        },
        {
          "output_type": "execute_result",
          "data": {
            "text/plain": [
              "<keras.src.callbacks.History at 0x7f6bf74a2dd0>"
            ]
          },
          "metadata": {},
          "execution_count": 43
        }
      ],
      "source": [
        "rnn.fit(X_train, y_train, epochs=20, batch_size=16)"
      ]
    },
    {
      "cell_type": "code",
      "source": [
        "scores_rnn = rnn.evaluate(X_test, y_test, verbose=2)\n",
        "print(\"Accuracy: %.2f\" %(scores_rnn[1]*100))"
      ],
      "metadata": {
        "colab": {
          "base_uri": "https://localhost:8080/"
        },
        "id": "jlyDzh4HYC93",
        "outputId": "06af1d23-73fe-4bd0-fb19-063e9e65c989"
      },
      "execution_count": 44,
      "outputs": [
        {
          "output_type": "stream",
          "name": "stdout",
          "text": [
            "782/782 - 20s - loss: 0.4893 - accuracy: 0.8411 - 20s/epoch - 25ms/step\n",
            "Accuracy: 84.11\n"
          ]
        }
      ]
    },
    {
      "cell_type": "markdown",
      "metadata": {
        "id": "-LnQBVXjGvKY"
      },
      "source": [
        "<p dir=rtl style=\"direction: rtl;text-align: justify;line-height:200%;font-family:vazir;font-size:medium\">\n",
        "<font face=\"vazir\" size=3>\n",
        "و مدل آخر را نیز با یک lstm بسازید و این 4 مدل را با یک دیگر مقایسه نمایید.\n"
      ]
    },
    {
      "cell_type": "code",
      "source": [
        "look_back = 1"
      ],
      "metadata": {
        "id": "69d2pY7wLhe0"
      },
      "execution_count": 50,
      "outputs": []
    },
    {
      "cell_type": "code",
      "source": [
        "rnn_lstm = Sequential()\n",
        "rnn_lstm.add(Embedding(nb_words,embedding_dims,input_length=maxlen))\n",
        "rnn_lstm.add(LSTM(4, input_shape=(1, look_back)))\n",
        "rnn_lstm.add(Dense(1))"
      ],
      "metadata": {
        "id": "nO2rXgO9LlfF"
      },
      "execution_count": 57,
      "outputs": []
    },
    {
      "cell_type": "code",
      "source": [
        "rnn_lstm.compile(loss=\"binary_crossentropy\",optimizer=\"rmsprop\",metrics=[\"accuracy\"])"
      ],
      "metadata": {
        "id": "Pa4UD54IMDi1"
      },
      "execution_count": 58,
      "outputs": []
    },
    {
      "cell_type": "code",
      "source": [
        "print(rnn_lstm.summary())\n"
      ],
      "metadata": {
        "colab": {
          "base_uri": "https://localhost:8080/"
        },
        "id": "c2_jfIsBLxd1",
        "outputId": "7e4b0826-d72f-44b6-8da9-9d71373f6c92"
      },
      "execution_count": 59,
      "outputs": [
        {
          "output_type": "stream",
          "name": "stdout",
          "text": [
            "Model: \"sequential_18\"\n",
            "_________________________________________________________________\n",
            " Layer (type)                Output Shape              Param #   \n",
            "=================================================================\n",
            " embedding_11 (Embedding)    (None, 500, 100)          1000000   \n",
            "                                                                 \n",
            " lstm_3 (LSTM)               (None, 4)                 1680      \n",
            "                                                                 \n",
            " dense_25 (Dense)            (None, 1)                 5         \n",
            "                                                                 \n",
            "=================================================================\n",
            "Total params: 1001685 (3.82 MB)\n",
            "Trainable params: 1001685 (3.82 MB)\n",
            "Non-trainable params: 0 (0.00 Byte)\n",
            "_________________________________________________________________\n",
            "None\n"
          ]
        }
      ]
    },
    {
      "cell_type": "code",
      "source": [
        "rnn_lstm.fit(X_train, y_train, epochs=3, batch_size=64)"
      ],
      "metadata": {
        "colab": {
          "base_uri": "https://localhost:8080/"
        },
        "id": "XHzciGEhL-dF",
        "outputId": "6fe7d16f-e622-4699-f7a8-df9f87a1d141"
      },
      "execution_count": 61,
      "outputs": [
        {
          "metadata": {
            "tags": null
          },
          "name": "stdout",
          "output_type": "stream",
          "text": [
            "Epoch 1/3\n",
            "391/391 [==============================] - 72s 183ms/step - loss: 0.1857 - accuracy: 0.9817\n",
            "Epoch 2/3\n",
            "391/391 [==============================] - 71s 183ms/step - loss: 0.1686 - accuracy: 0.9858\n",
            "Epoch 3/3\n",
            "391/391 [==============================] - 70s 180ms/step - loss: 0.1676 - accuracy: 0.9868\n"
          ]
        },
        {
          "output_type": "execute_result",
          "data": {
            "text/plain": [
              "<keras.src.callbacks.History at 0x7f6bfe366d10>"
            ]
          },
          "metadata": {},
          "execution_count": 61
        }
      ]
    },
    {
      "cell_type": "code",
      "source": [
        "scores_rnn_lstm = rnn_lstm.evaluate(X_test, y_test, verbose=2)\n",
        "print(\"Accuracy: %.2f\" %(scores_rnn_lstm[1]*100))"
      ],
      "metadata": {
        "colab": {
          "base_uri": "https://localhost:8080/"
        },
        "id": "1qSZGvAUXn3i",
        "outputId": "465fc57d-3a77-4742-d5d9-5546ef11cdee"
      },
      "execution_count": 62,
      "outputs": [
        {
          "output_type": "stream",
          "name": "stdout",
          "text": [
            "782/782 - 24s - loss: 1.3156 - accuracy: 0.8608 - 24s/epoch - 30ms/step\n",
            "Accuracy: 86.08\n"
          ]
        }
      ]
    },
    {
      "cell_type": "markdown",
      "source": [
        "LSTM همون نسخه بهتر شده شبکه های عصبی بازگشتی هست و بخاطر حافظه ی بیشتری که داره، میتونه اطلاعات بیشتری رو نگهداری کنه و برای داده های متوالی، کارایی بیشتری از خودش نشون میده نسبت به شبکه های عصبی ساده.\n",
        "حافظه هایی که در LSTM هستن، به سه نوع تقسیم میشن.\n",
        "گیت ورودی، گیتی که اطلاعاتش فراموش میشن و گیت برای خروجی ها و این ها مسئولیت کنترل حافظه توی معموری هر سلول رو دارن.\n",
        "با توجه به پیچیدگی بیشتر LSTM نسبت به شبکه های عصبی ساده، انتظار میره که دقتش کمتر باشه و مقدار خطا بیشتر بشه.\n",
        "\n",
        "ساختار LSTM شامل 4 لایه شبکه عصبی هست که که هر کدوم با هم تفاوت دارن.\n",
        "این درحالیه که RNN به تنهایی قادره تا بخش کوچکی از اطلاعات رو در خودش ذخیره کنه و نهایتا تا 30 ثانیه میتونه این اطلاعات رو به یاد بیاره.\n",
        "\n",
        "در مرحله دوم که از EMBEDDEING استفاده کردیم، ورودی های توالی به ابعاد بزرگتر تغییر میکنن و پیچیدگی مدل کاهش پیدا میکنه و به تبع اون، دقت هم کمتر میشه."
      ],
      "metadata": {
        "id": "7A40WA8HYHnS"
      }
    },
    {
      "cell_type": "markdown",
      "source": [
        "در مدل ابتدایی هم که ساختیم، پیچیدگی به شدت کم هست و بین داده های ورودی، ارتباط پیچیده ای وجود نداره. به همین خاطر، دقت پایین هست."
      ],
      "metadata": {
        "id": "EMzQ4VD-bxk6"
      }
    }
  ],
  "metadata": {
    "kernelspec": {
      "display_name": "Python 3",
      "language": "python",
      "name": "python3"
    },
    "language_info": {
      "codemirror_mode": {
        "name": "ipython",
        "version": 3
      },
      "file_extension": ".py",
      "mimetype": "text/x-python",
      "name": "python",
      "nbconvert_exporter": "python",
      "pygments_lexer": "ipython3",
      "version": "3.7.6"
    },
    "colab": {
      "provenance": []
    }
  },
  "nbformat": 4,
  "nbformat_minor": 0
}